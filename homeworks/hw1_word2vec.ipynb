{
  "cells": [
    {
      "cell_type": "markdown",
      "metadata": {
        "id": "view-in-github",
        "colab_type": "text"
      },
      "source": [
        "<a href=\"https://colab.research.google.com/github/kvasilisav/NLP-RL_girafe_assignments/blob/main/homeworks/hw1_word2vec.ipynb\" target=\"_parent\"><img src=\"https://colab.research.google.com/assets/colab-badge.svg\" alt=\"Open In Colab\"/></a>"
      ]
    },
    {
      "cell_type": "markdown",
      "metadata": {
        "id": "nTSf4ro-qU0d"
      },
      "source": [
        "## Бонусное задание: word2vec на PyTorch\n",
        "\n",
        "Как вы уже могли заметить, идея, лежащая в основе [word2vec](https://arxiv.org/pdf/1310.4546), достаточно общая. В данном задании вы реализуете его самостоятельно.\n",
        "\n",
        "Дисклеймер: не стоит удивляться тому, что реализация от `gensim` (или аналоги) обучается быстрее и работает точнее. Она использует множество доработок и ускорений, а также достаточно эффективный код. Ваша задача добиться промежуточных результатов за разумное время.\n",
        "\n",
        "P.s. Как ни странно, GPU в этом задании нам не потребуется."
      ]
    },
    {
      "cell_type": "markdown",
      "metadata": {
        "id": "sCvUgw6O5OTX"
      },
      "source": [
        "__Requirements:__ if you're running locally, in the selected environment run the following command:\n",
        "\n",
        "```pip install --upgrade nltk bokeh umap-learn```\n"
      ]
    },
    {
      "cell_type": "code",
      "execution_count": null,
      "metadata": {
        "id": "Oipe2DU8qfm7"
      },
      "outputs": [],
      "source": [
        "!pip install --upgrade nltk bokeh umap-learn"
      ]
    },
    {
      "cell_type": "code",
      "execution_count": 1,
      "metadata": {
        "id": "pqPU4Lu2qU0h"
      },
      "outputs": [],
      "source": [
        "import itertools\n",
        "import random\n",
        "import string\n",
        "from collections import Counter\n",
        "from itertools import chain\n",
        "\n",
        "import matplotlib.pyplot as plt\n",
        "import numpy as np\n",
        "import torch\n",
        "import torch.autograd as autograd\n",
        "import torch.nn as nn\n",
        "import torch.nn.functional as F\n",
        "import torch.optim as optim\n",
        "import umap\n",
        "from IPython.display import clear_output\n",
        "from matplotlib import pyplot as plt\n",
        "from nltk.tokenize import WordPunctTokenizer\n",
        "from torch.optim.lr_scheduler import ReduceLROnPlateau, StepLR\n",
        "from tqdm.auto import tqdm as tqdma"
      ]
    },
    {
      "cell_type": "code",
      "execution_count": 2,
      "metadata": {
        "colab": {
          "base_uri": "https://localhost:8080/"
        },
        "id": "8Fbx57z3qU0i",
        "outputId": "c3e5084d-a286-4d79-9029-2391d4055ca5"
      },
      "outputs": [
        {
          "output_type": "stream",
          "name": "stdout",
          "text": [
            "--2025-04-02 11:19:47--  https://www.dropbox.com/s/obaitrix9jyu84r/quora.txt?dl=1\n",
            "Resolving www.dropbox.com (www.dropbox.com)... 162.125.5.18, 2620:100:601d:18::a27d:512\n",
            "Connecting to www.dropbox.com (www.dropbox.com)|162.125.5.18|:443... connected.\n",
            "HTTP request sent, awaiting response... 302 Found\n",
            "Location: https://www.dropbox.com/scl/fi/p0t2dw6oqs6oxpd6zz534/quora.txt?rlkey=bjupppwua4zmd4elz8octecy9&dl=1 [following]\n",
            "--2025-04-02 11:19:47--  https://www.dropbox.com/scl/fi/p0t2dw6oqs6oxpd6zz534/quora.txt?rlkey=bjupppwua4zmd4elz8octecy9&dl=1\n",
            "Reusing existing connection to www.dropbox.com:443.\n",
            "HTTP request sent, awaiting response... 302 Found\n",
            "Location: https://uca4058b1c39821e0d1fc48c6f15.dl.dropboxusercontent.com/cd/0/inline/CnDz1O7ixAC9BBcIDCN7QSsVpChBGpAVe0F8mj8UvROyXhr60pX5PGHG-1X1nSfaRUi_So_n6bnH9K3jlNgPuPcmTUMCreiKJYxaxauwIQoLUcJ1yMkQiGtEBjPIwVSajpU/file?dl=1# [following]\n",
            "--2025-04-02 11:19:48--  https://uca4058b1c39821e0d1fc48c6f15.dl.dropboxusercontent.com/cd/0/inline/CnDz1O7ixAC9BBcIDCN7QSsVpChBGpAVe0F8mj8UvROyXhr60pX5PGHG-1X1nSfaRUi_So_n6bnH9K3jlNgPuPcmTUMCreiKJYxaxauwIQoLUcJ1yMkQiGtEBjPIwVSajpU/file?dl=1\n",
            "Resolving uca4058b1c39821e0d1fc48c6f15.dl.dropboxusercontent.com (uca4058b1c39821e0d1fc48c6f15.dl.dropboxusercontent.com)... 162.125.5.15, 2620:100:601d:15::a27d:50f\n",
            "Connecting to uca4058b1c39821e0d1fc48c6f15.dl.dropboxusercontent.com (uca4058b1c39821e0d1fc48c6f15.dl.dropboxusercontent.com)|162.125.5.15|:443... connected.\n",
            "HTTP request sent, awaiting response... 200 OK\n",
            "Length: 33813903 (32M) [application/binary]\n",
            "Saving to: ‘./quora.txt’\n",
            "\n",
            "./quora.txt         100%[===================>]  32.25M  30.4MB/s    in 1.1s    \n",
            "\n",
            "2025-04-02 11:19:50 (30.4 MB/s) - ‘./quora.txt’ saved [33813903/33813903]\n",
            "\n"
          ]
        }
      ],
      "source": [
        "\n",
        "# download the data:\n",
        "!wget https://www.dropbox.com/s/obaitrix9jyu84r/quora.txt?dl=1 -O ./quora.txt -nc\n",
        "# alternative download link: https://yadi.sk/i/BPQrUu1NaTduEw"
      ]
    },
    {
      "cell_type": "code",
      "execution_count": 3,
      "metadata": {
        "colab": {
          "base_uri": "https://localhost:8080/",
          "height": 36
        },
        "id": "8EYy5dQpqU0i",
        "outputId": "c8d5813d-67ec-4298-9992-633979d8bdea",
        "scrolled": false
      },
      "outputs": [
        {
          "output_type": "execute_result",
          "data": {
            "text/plain": [
              "\"What TV shows or books help you read people's body language?\\n\""
            ],
            "application/vnd.google.colaboratory.intrinsic+json": {
              "type": "string"
            }
          },
          "metadata": {},
          "execution_count": 3
        }
      ],
      "source": [
        "data = list(open(\"./quora.txt\", encoding=\"utf-8\"))\n",
        "data[50]"
      ]
    },
    {
      "cell_type": "markdown",
      "metadata": {
        "id": "feBEGI2eqU0j"
      },
      "source": [
        "Токенизация – первый шаг.\n",
        "Тексты, с которыми мы работаем, включают в себя пунктуацию, смайлики и прочие нестандартные токены, так что простой `str.split` не подойдет.\n",
        "\n",
        "Обратимся к `nltk` - библиотеку, нашла широкое применеие в области NLP."
      ]
    },
    {
      "cell_type": "code",
      "execution_count": 4,
      "metadata": {
        "colab": {
          "base_uri": "https://localhost:8080/"
        },
        "id": "7mWTvm50qU0j",
        "outputId": "ff5ea701-f47f-4522-bf03-1190f5c5e760"
      },
      "outputs": [
        {
          "output_type": "stream",
          "name": "stdout",
          "text": [
            "['What', 'TV', 'shows', 'or', 'books', 'help', 'you', 'read', 'people', \"'\", 's', 'body', 'language', '?']\n"
          ]
        }
      ],
      "source": [
        "tokenizer = WordPunctTokenizer()\n",
        "\n",
        "print(tokenizer.tokenize(data[50]))"
      ]
    },
    {
      "cell_type": "code",
      "execution_count": 5,
      "metadata": {
        "id": "HzC05EHWqU0j"
      },
      "outputs": [],
      "source": [
        "data_tok = [\n",
        "    tokenizer.tokenize(\n",
        "        line.translate(str.maketrans(\"\", \"\", string.punctuation)).lower()\n",
        "    )\n",
        "    for line in data\n",
        "]\n",
        "data_tok = [x for x in data_tok if len(x) >= 3]"
      ]
    },
    {
      "cell_type": "markdown",
      "metadata": {
        "id": "6azRAgHIqU0k"
      },
      "source": [
        "Несколько проверок:"
      ]
    },
    {
      "cell_type": "code",
      "execution_count": 6,
      "metadata": {
        "id": "Cp8UpxdWqU0k"
      },
      "outputs": [],
      "source": [
        "assert all(\n",
        "    isinstance(row, (list, tuple)) for row in data_tok\n",
        "), \"please convert each line into a list of tokens (strings)\"\n",
        "assert all(\n",
        "    all(isinstance(tok, str) for tok in row) for row in data_tok\n",
        "), \"please convert each line into a list of tokens (strings)\"\n",
        "is_latin = lambda tok: all(\"a\" <= x.lower() <= \"z\" for x in tok)\n",
        "assert all(\n",
        "    map(lambda l: not is_latin(l) or l.islower(), map(\" \".join, data_tok))\n",
        "), \"please make sure to lowercase the data\""
      ]
    },
    {
      "cell_type": "markdown",
      "metadata": {
        "id": "37e7-MIhqU0x"
      },
      "source": [
        "Ниже заданы константы ширины окна контекста и проведена предобработка для построения skip-gram модели."
      ]
    },
    {
      "cell_type": "code",
      "execution_count": 7,
      "metadata": {
        "id": "fugc1IomqU0x"
      },
      "outputs": [],
      "source": [
        "min_count = 5\n",
        "window_radius = 5"
      ]
    },
    {
      "cell_type": "code",
      "execution_count": 8,
      "metadata": {
        "id": "-CLmCZhA5OTc"
      },
      "outputs": [],
      "source": [
        "vocabulary_with_counter = Counter(chain.from_iterable(data_tok))\n",
        "\n",
        "word_count_dict = dict()\n",
        "for word, counter in vocabulary_with_counter.items():\n",
        "    if counter >= min_count:\n",
        "        word_count_dict[word] = counter\n",
        "\n",
        "vocabulary = set(word_count_dict.keys())\n",
        "del vocabulary_with_counter"
      ]
    },
    {
      "cell_type": "code",
      "execution_count": 9,
      "metadata": {
        "id": "zllyXZM45OTc"
      },
      "outputs": [],
      "source": [
        "word_to_index = {word: index for index, word in enumerate(vocabulary)}\n",
        "index_to_word = {index: word for word, index in word_to_index.items()}"
      ]
    },
    {
      "cell_type": "markdown",
      "metadata": {
        "id": "4Y8rlBfqqU0x"
      },
      "source": [
        "Пары `(слово, контекст)` на основе доступного датасета сгенерированы ниже."
      ]
    },
    {
      "cell_type": "code",
      "execution_count": 10,
      "metadata": {
        "id": "h2-aqyyaqU0x",
        "colab": {
          "base_uri": "https://localhost:8080/"
        },
        "outputId": "b2b282e9-2158-4efb-bdec-1df5e90ef363"
      },
      "outputs": [
        {
          "output_type": "stream",
          "name": "stdout",
          "text": [
            "Generated 40220313 pairs of target and context words.\n"
          ]
        }
      ],
      "source": [
        "context_pairs = []\n",
        "\n",
        "for text in data_tok:\n",
        "    for i, central_word in enumerate(text):\n",
        "        context_indices = range(\n",
        "            max(0, i - window_radius), min(i + window_radius, len(text))\n",
        "        )\n",
        "        for j in context_indices:\n",
        "            if j == i:\n",
        "                continue\n",
        "            context_word = text[j]\n",
        "            if central_word in vocabulary and context_word in vocabulary:\n",
        "                context_pairs.append(\n",
        "                    (word_to_index[central_word], word_to_index[context_word])\n",
        "                )\n",
        "\n",
        "print(f\"Generated {len(context_pairs)} pairs of target and context words.\")"
      ]
    },
    {
      "cell_type": "code",
      "source": [
        "context_pairs[0]"
      ],
      "metadata": {
        "colab": {
          "base_uri": "https://localhost:8080/"
        },
        "id": "ARcxsGIkIJxn",
        "outputId": "220fde52-0664-442e-fc26-b2822a72ad51"
      },
      "execution_count": 11,
      "outputs": [
        {
          "output_type": "execute_result",
          "data": {
            "text/plain": [
              "(26702, 19587)"
            ]
          },
          "metadata": {},
          "execution_count": 11
        }
      ]
    },
    {
      "cell_type": "markdown",
      "metadata": {
        "id": "YSYmAaZ65OTd"
      },
      "source": [
        "#### Подзадача №1: subsampling\n",
        "Для того, чтобы сгладить разницу в частоте встречаемсости слов, необходимо реализовать механизм subsampling'а.\n",
        "Для этого вам необходимо реализовать функцию ниже.\n",
        "\n",
        "Вероятность **исключить** слово из обучения (на фиксированном шаге) вычисляется как\n",
        "$$\n",
        "P_\\text{drop}(w_i)=1 - \\sqrt{\\frac{t}{f(w_i)}},\n",
        "$$\n",
        "где $f(w_i)$ – нормированная частота встречаемости слова, а $t$ – заданный порог (threshold)."
      ]
    },
    {
      "cell_type": "code",
      "execution_count": 12,
      "metadata": {
        "id": "SSInZYRP5OTd"
      },
      "outputs": [],
      "source": [
        "def subsample_frequent_words(word_count_dict, threshold=1e-5):\n",
        "    \"\"\"\n",
        "    Calculates the subsampling probabilities for words based on their frequencies.\n",
        "\n",
        "    This function is used to determine the probability of keeping a word in the dataset\n",
        "    when subsampling frequent words. The method used is inspired by the subsampling approach\n",
        "    in Word2Vec, where each word's frequency affects its probability of being kept.\n",
        "\n",
        "    Parameters:\n",
        "    - word_count_dict (dict): A dictionary where keys are words and values are the counts of those words.\n",
        "    - threshold (float, optional): A threshold parameter used to adjust the frequency of word subsampling.\n",
        "                                   Defaults to 1e-5.\n",
        "\n",
        "    Returns:\n",
        "    - dict: A dictionary where keys are words and values are the probabilities of keeping each word.\n",
        "\n",
        "    Example:\n",
        "    >>> word_counts = {'the': 5000, 'is': 1000, 'apple': 50}\n",
        "    >>> subsample_frequent_words(word_counts)\n",
        "    {'the': 0.028, 'is': 0.223, 'apple': 1.0}\n",
        "    \"\"\"\n",
        "\n",
        "    ### MY CODE HERE\n",
        "    all_counts = sum(word_count_dict.values())\n",
        "    keep_prob_dict = {\n",
        "        word: np.sqrt(threshold / (count/all_counts)) for word, count in word_count_dict.items()\n",
        "    }\n",
        "    ### MY CODE HERE\n",
        "    return keep_prob_dict"
      ]
    },
    {
      "cell_type": "markdown",
      "metadata": {
        "id": "_6eV9T4x5OTd"
      },
      "source": [
        "#### Подзадача №2: negative sampling\n",
        "Для более эффективного обучения необходимо не только предсказывать высокие вероятности для слов из контекста, но и предсказывать низкие для слов, не встреченных в контексте. Для этого вам необходимо вычислить вероятност использовать слово в качестве negative sample, реализовав функцию ниже.\n",
        "\n",
        "В оригинальной статье предлагается оценивать вероятность слов выступать в качестве negative sample согласно распределению $P_n(w)$\n",
        "$$\n",
        "P_n(w) = \\frac{U(w)^{3/4}}{Z},\n",
        "$$\n",
        "\n",
        "где $U(w)$ распределение слов по частоте (или, как его еще называют, по униграммам), а $Z$ – нормировочная константа, чтобы общая мера была равна $1$."
      ]
    },
    {
      "cell_type": "code",
      "execution_count": 13,
      "metadata": {
        "id": "NblDrGYr5OTd"
      },
      "outputs": [],
      "source": [
        "def get_negative_sampling_prob(word_count_dict):\n",
        "    \"\"\"\n",
        "    Calculates the negative sampling probabilities for words based on their frequencies.\n",
        "\n",
        "    This function adjusts the frequency of each word raised to the power of 0.75, which is\n",
        "    commonly used in algorithms like Word2Vec to moderate the influence of very frequent words.\n",
        "    It then normalizes these adjusted frequencies to ensure they sum to 1, forming a probability\n",
        "    distribution used for negative sampling.\n",
        "\n",
        "    Parameters:\n",
        "    - word_count_dict (dict): A dictionary where keys are words and values are the counts of those words.\n",
        "\n",
        "    Returns:\n",
        "    - dict: A dictionary where keys are words and values are the probabilities of selecting each word\n",
        "            for negative sampling.\n",
        "\n",
        "    Example:\n",
        "    >>> word_counts = {'the': 5000, 'is': 1000, 'apple': 50}\n",
        "    >>> get_negative_sampling_prob(word_counts)\n",
        "    {'the': 0.298, 'is': 0.160, 'apple': 0.042}\n",
        "    \"\"\"\n",
        "\n",
        "    ### MY CODE HERE\n",
        "    adjusted_counts = {word: count**0.75 for word, count in word_count_dict.items()}\n",
        "    Z = sum(adjusted_counts.values())\n",
        "    negative_sampling_prob_dict = {\n",
        "        word: adj_count / Z for word, adj_count in adjusted_counts.items()\n",
        "    }\n",
        "    ### MY CODE HERE\n",
        "    return negative_sampling_prob_dict"
      ]
    },
    {
      "cell_type": "markdown",
      "metadata": {
        "id": "VEziHhN_5OTd"
      },
      "source": [
        "Для удобства, преобразуем полученные словари в массивы (т.к. все слова все равно уже пронумерованы)."
      ]
    },
    {
      "cell_type": "code",
      "execution_count": 14,
      "metadata": {
        "id": "CBHpXrh15OTd"
      },
      "outputs": [],
      "source": [
        "keep_prob_dict = subsample_frequent_words(word_count_dict)\n",
        "assert keep_prob_dict.keys() == word_count_dict.keys()"
      ]
    },
    {
      "cell_type": "code",
      "execution_count": 15,
      "metadata": {
        "id": "I0rUadpY5OTe"
      },
      "outputs": [],
      "source": [
        "negative_sampling_prob_dict = get_negative_sampling_prob(word_count_dict)\n",
        "assert negative_sampling_prob_dict.keys() == negative_sampling_prob_dict.keys()\n",
        "assert np.allclose(sum(negative_sampling_prob_dict.values()), 1)"
      ]
    },
    {
      "cell_type": "code",
      "execution_count": 16,
      "metadata": {
        "id": "G5On9mtg5OTe"
      },
      "outputs": [],
      "source": [
        "keep_prob_array = np.array(\n",
        "    [keep_prob_dict[index_to_word[idx]] for idx in range(len(word_to_index))]\n",
        ")\n",
        "negative_sampling_prob_array = np.array(\n",
        "    [\n",
        "        negative_sampling_prob_dict[index_to_word[idx]]\n",
        "        for idx in range(len(word_to_index))\n",
        "    ]\n",
        ")"
      ]
    },
    {
      "cell_type": "markdown",
      "metadata": {
        "id": "ARHkroLP5OTe"
      },
      "source": [
        "Если все прошло успешно, функция ниже поможет вам с генерацией подвыборок (батчей)."
      ]
    },
    {
      "cell_type": "code",
      "execution_count": 17,
      "metadata": {
        "id": "xrZhcK9i5OTe"
      },
      "outputs": [],
      "source": [
        "def generate_batch_with_neg_samples(\n",
        "    context_pairs,\n",
        "    batch_size,\n",
        "    keep_prob_array,\n",
        "    word_to_index,\n",
        "    num_negatives,\n",
        "    negative_sampling_prob_array,\n",
        "):\n",
        "    batch = []\n",
        "    neg_samples = []\n",
        "\n",
        "    while len(batch) < batch_size:\n",
        "        center, context = random.choice(context_pairs)\n",
        "        if random.random() < keep_prob_array[center]:\n",
        "            batch.append((center, context))\n",
        "            neg_sample = np.random.choice(\n",
        "                # range(len(negative_sampling_prob_array)),\n",
        "                np.arange(len(negative_sampling_prob_array)),\n",
        "                size=num_negatives,\n",
        "                p=negative_sampling_prob_array,\n",
        "            )\n",
        "            neg_samples.append(neg_sample)\n",
        "    batch = np.array(batch)\n",
        "    neg_samples = np.vstack(neg_samples)\n",
        "    return batch, neg_samples"
      ]
    },
    {
      "cell_type": "code",
      "execution_count": 18,
      "metadata": {
        "id": "wrIXhEcq5OTe"
      },
      "outputs": [],
      "source": [
        "batch_size = 4\n",
        "num_negatives = 15\n",
        "batch, neg_samples = generate_batch_with_neg_samples(\n",
        "    context_pairs,\n",
        "    batch_size,\n",
        "    keep_prob_array,\n",
        "    word_to_index,\n",
        "    num_negatives,\n",
        "    negative_sampling_prob_array,\n",
        ")"
      ]
    },
    {
      "cell_type": "code",
      "source": [
        "neg_samples.shape"
      ],
      "metadata": {
        "colab": {
          "base_uri": "https://localhost:8080/"
        },
        "id": "9A60p5ZbH0Gq",
        "outputId": "d0521e89-0bef-4708-9db8-7c2f922791b6"
      },
      "execution_count": 19,
      "outputs": [
        {
          "output_type": "execute_result",
          "data": {
            "text/plain": [
              "(4, 15)"
            ]
          },
          "metadata": {},
          "execution_count": 19
        }
      ]
    },
    {
      "cell_type": "code",
      "source": [
        "batch.shape"
      ],
      "metadata": {
        "colab": {
          "base_uri": "https://localhost:8080/"
        },
        "id": "81hlrH6ZH9J1",
        "outputId": "48b6cc50-bc4c-4512-f8c9-94efdba01e06"
      },
      "execution_count": 20,
      "outputs": [
        {
          "output_type": "execute_result",
          "data": {
            "text/plain": [
              "(4, 2)"
            ]
          },
          "metadata": {},
          "execution_count": 20
        }
      ]
    },
    {
      "cell_type": "markdown",
      "metadata": {
        "id": "H2hgp84o5OTe"
      },
      "source": [
        "Наконец, время реализовать модель. Обращаем ваше внимание, использование линейных слоев (`nn.Linear`) далеко не всегда оправданно!\n",
        "\n",
        "Напомним, что в случае negative sampling решается задача максимизации следующего функционала:\n",
        "\n",
        "$$\n",
        "\\mathcal{L} = \\log \\sigma({\\mathbf{v}'_{w_O}}^\\top \\mathbf{v}_{w_I}) + \\sum_{i=1}^{k} \\mathbb{E}_{w_i \\sim P_n(w)} \\left[ \\log \\sigma({-\\mathbf{v}'_{w_i}}^\\top \\mathbf{v}_{w_I}) \\right],\n",
        "$$\n",
        "\n",
        "где:\n",
        "- $\\mathbf{v}_{w_I}$ – вектор центрального слова $w_I$,\n",
        "- $\\mathbf{v}'_{w_O}$ – вектор слова из контекста $w_O$,\n",
        "- $k$ – число negative samplesЮ,\n",
        "- $P_n(w)$ – распределение negative samples, заданное выше,\n",
        "- $\\sigma$ – сигмоида."
      ]
    },
    {
      "cell_type": "code",
      "execution_count": 29,
      "metadata": {
        "id": "T6SJ2cym5OTe"
      },
      "outputs": [],
      "source": [
        "class SkipGramModelWithNegSampling(nn.Module):\n",
        "    def __init__(self, vocab_size, embedding_dim):\n",
        "        super().__init__()\n",
        "        ### MY CODE HERE\n",
        "        self.embedding_dim = embedding_dim\n",
        "        self.vocab_size = vocab_size\n",
        "\n",
        "        self.center_embeddings = nn.Embedding(vocab_size, embedding_dim)\n",
        "        self.context_embeddings = nn.Embedding(vocab_size, embedding_dim)\n",
        "        ### MY CODE HERE\n",
        "\n",
        "    def forward(self, center_words, pos_context_words, neg_context_words):\n",
        "        ### MY CODE HERE\n",
        "        center_embeds = self.center_embeddings(center_words)  # [batch_size, embedding_dim] ->{unsqueze(2)}-> [batch_size, embedding_dim, 1]\n",
        "        pos_context_embeds = self.context_embeddings(pos_context_words)  # [batch_size, embedding_dim]\n",
        "        neg_context_embeds = self.context_embeddings(neg_context_words) # [batch_size, num_neg_samples, embedding_dim]\n",
        "\n",
        "        pos_scores = torch.sum(center_embeds * pos_context_embeds, dim=1)\n",
        "        neg_scores = torch.bmm(neg_context_embeds, center_embeds.unsqueeze(2)).squeeze(2) #[batch_size, num_neg_samples, 1] ->{squeze(2)}-> [batch_size, num_neg_samples]\n",
        "        ### MY CODE HERE\n",
        "\n",
        "        return pos_scores, neg_scores"
      ]
    },
    {
      "cell_type": "code",
      "execution_count": 30,
      "metadata": {
        "id": "PoygSXpz5OTf"
      },
      "outputs": [],
      "source": [
        "device = torch.device(\"cpu\")"
      ]
    },
    {
      "cell_type": "code",
      "execution_count": 31,
      "metadata": {
        "id": "gW5fCJNs5OTf"
      },
      "outputs": [],
      "source": [
        "vocab_size = len(word_to_index)\n",
        "embedding_dim = 32\n",
        "num_negatives = 15\n",
        "\n",
        "model = SkipGramModelWithNegSampling(vocab_size, embedding_dim).to(device)\n",
        "optimizer = optim.Adam(model.parameters(), lr=0.05)\n",
        "lr_scheduler = ReduceLROnPlateau(optimizer, factor=0.5, patience=150)\n",
        "criterion = nn.BCEWithLogitsLoss()"
      ]
    },
    {
      "cell_type": "code",
      "execution_count": 32,
      "metadata": {
        "id": "peNU-C6y5OTf"
      },
      "outputs": [],
      "source": [
        "params_counter = 0\n",
        "for weights in model.parameters():\n",
        "    params_counter += weights.shape.numel()\n",
        "assert params_counter == len(word_to_index) * embedding_dim * 2"
      ]
    },
    {
      "cell_type": "code",
      "execution_count": 33,
      "metadata": {
        "id": "t9PeSF-o5OTf"
      },
      "outputs": [],
      "source": [
        "def train_skipgram_with_neg_sampling(\n",
        "    model,\n",
        "    context_pairs, #список пар индексов вида (центральное слово, контекстное слово)\n",
        "    keep_prob_array, #массив вероятностей оставить слово в обучении на фикс шаге\n",
        "    word_to_index, #словарь {слово: инекс}\n",
        "    batch_size,\n",
        "    num_negatives,\n",
        "    negative_sampling_prob_array, #массив вероятностей выбрать слово для негативного сэмпла\n",
        "    steps,\n",
        "    optimizer=optimizer,\n",
        "    lr_scheduler=lr_scheduler,\n",
        "    device=device,\n",
        "):\n",
        "    pos_labels = torch.ones(batch_size).to(device) #pos_labels = torch.ones_like(pos_scores).to(device)\n",
        "    neg_labels = torch.zeros(batch_size, num_negatives).to(device) #neg_labels = torch.zeros_like(neg_scores).to(device)\n",
        "    loss_history = []\n",
        "    for step in tqdma(range(steps)):\n",
        "        batch, neg_samples = generate_batch_with_neg_samples(\n",
        "            context_pairs,\n",
        "            batch_size,\n",
        "            keep_prob_array,\n",
        "            word_to_index,\n",
        "            num_negatives,\n",
        "            negative_sampling_prob_array,)\n",
        "        center_words = torch.tensor([pair[0] for pair in batch], dtype=torch.long).to(device)\n",
        "        # print(f'center words tensor shape = {center_words.shape}')\n",
        "        pos_context_words = torch.tensor([pair[1] for pair in batch], dtype=torch.long).to(device)\n",
        "        # print(f'positive context words tensor shape = {pos_context_words.shape}')\n",
        "        neg_context_words = torch.tensor(neg_samples, dtype=torch.long).to(device)\n",
        "        # print(f'negative context words tensor shape = {neg_context_words.shape}')\n",
        "\n",
        "        optimizer.zero_grad()\n",
        "        pos_scores, neg_scores = model(center_words, pos_context_words, neg_context_words)\n",
        "        loss_pos = criterion(pos_scores, pos_labels)\n",
        "        loss_neg = criterion(neg_scores, neg_labels)\n",
        "\n",
        "        loss = loss_pos + loss_neg\n",
        "        loss.backward()\n",
        "\n",
        "        optimizer.step()\n",
        "\n",
        "        loss_history.append(loss.item())\n",
        "        lr_scheduler.step(loss_history[-1])\n",
        "\n",
        "        if step % 100 == 0:\n",
        "            # print(\n",
        "            #     f\"Step {step}, Loss: {np.mean(loss_history[-100:])}, learning rate: {lr_scheduler._last_lr}\"\n",
        "            # )\n",
        "            if step != 0:\n",
        "              clear_output(True)\n",
        "              plt.plot(range(step + 1), loss_history)\n",
        "              plt.title(f\"Step {step}, Loss: {np.mean(loss_history[-100:])}, learning rate: {lr_scheduler._last_lr}\")\n",
        "              plt.show()"
      ]
    },
    {
      "cell_type": "code",
      "execution_count": 34,
      "metadata": {
        "colab": {
          "base_uri": "https://localhost:8080/",
          "height": 452,
          "referenced_widgets": [
            "657e84887797419fa2fb91b60ad40948",
            "032fde1f9b8b459fa611be9ccc0374f3",
            "c4612f2395cf43dfb8a1580cd9d89c86",
            "82309caa39054a5eab31f725624c3e68",
            "81aace05c9f1439fad8f053d9b433093",
            "6add76283f3846708af05bc646a513f0",
            "72be5a4ccee04351b2f90628027db3e7",
            "fa497ab789d145ffb047fc47584ed138",
            "16311f7dd0314be78eb244e0b185a48f",
            "ec45fec5d38e4b4498ad9fbf25fdb690",
            "a4da93e625ab493898e51d607e2e5207"
          ]
        },
        "id": "Go2Pqy6s5OTf",
        "outputId": "2e9c3501-50d3-4edb-f3fa-2935aca0b030"
      },
      "outputs": [
        {
          "output_type": "display_data",
          "data": {
            "text/plain": [
              "<Figure size 640x480 with 1 Axes>"
            ],
            "image/png": "[encoded data removed]"
          },
          "metadata": {}
        }
      ],
      "source": [
        "steps = 3500\n",
        "batch_size = 512\n",
        "train_skipgram_with_neg_sampling(\n",
        "    model,\n",
        "    context_pairs,\n",
        "    keep_prob_array,\n",
        "    word_to_index,\n",
        "    batch_size,\n",
        "    num_negatives,\n",
        "    negative_sampling_prob_array,\n",
        "    steps,\n",
        ")"
      ]
    },
    {
      "cell_type": "code",
      "source": [
        "steps = 1\n",
        "batch_size = 512\n",
        "train_skipgram_with_neg_sampling(\n",
        "    model,\n",
        "    context_pairs,\n",
        "    keep_prob_array,\n",
        "    word_to_index,\n",
        "    batch_size,\n",
        "    num_negatives,\n",
        "    negative_sampling_prob_array,\n",
        "    steps,\n",
        ")"
      ],
      "metadata": {
        "id": "eIMpd88osSCH",
        "outputId": "31fb48b3-024d-4dc0-fb14-93d3f0de260d",
        "colab": {
          "base_uri": "https://localhost:8080/",
          "height": 122,
          "referenced_widgets": [
            "0d5994c5de9c4017ac19c824fb96c445",
            "0e76f65d4d5d40bdb10b8bb0cb5960dc",
            "e7fb8f3d08454c8896411e8bdb8097ad",
            "bb2efc70f08848c3abf6aaec13c52c79",
            "5230223611794deea1c4996ff4a3c8aa",
            "3e57eb6522664c5dbf5be22d034c8c6d",
            "868ca792805641218e3ab6ff95faad84",
            "38cde6877f8c43cdadf8b5ee1e4c5908",
            "a63b0e18616b4a75acbba2c4e4a41a34",
            "bc131cc0d4094443abb2461191641e87",
            "b8fc56a77f9e4981969007dd4276c5ea"
          ]
        }
      },
      "execution_count": 106,
      "outputs": [
        {
          "output_type": "display_data",
          "data": {
            "text/plain": [
              "  0%|          | 0/1 [00:00<?, ?it/s]"
            ],
            "application/vnd.jupyter.widget-view+json": {
              "version_major": 2,
              "version_minor": 0,
              "model_id": "0d5994c5de9c4017ac19c824fb96c445"
            }
          },
          "metadata": {}
        },
        {
          "output_type": "stream",
          "name": "stdout",
          "text": [
            "center words tensor shape = torch.Size([512])\n",
            "positive context words tensor shape = torch.Size([512])\n",
            "negative context words tensor shape = torch.Size([512, 15])\n",
            "Step 0, Loss: 4.764842987060547, learning rate: [0.05]\n"
          ]
        }
      ]
    },
    {
      "cell_type": "markdown",
      "metadata": {
        "id": "klG4Rao25OTf"
      },
      "source": [
        "Наконец, используйте полученную матрицу весов в качестве матрицы в векторными представлениями слов. Рекомендуем использовать для сдачи матрицу, которая отвечала за слова из контекста (т.е. декодера)."
      ]
    },
    {
      "cell_type": "code",
      "execution_count": 86,
      "metadata": {
        "id": "_bc0iTEb5OTf"
      },
      "outputs": [],
      "source": [
        "_model_parameters = model.parameters()\n",
        "embedding_matrix_center = next(\n",
        "    _model_parameters\n",
        ").detach()  # Assuming that first matrix was for central word\n",
        "embedding_matrix_context = next(\n",
        "    _model_parameters\n",
        ").detach()  # Assuming that second matrix was for context word"
      ]
    },
    {
      "cell_type": "code",
      "execution_count": 87,
      "metadata": {
        "id": "rJvgHpwC5OTf"
      },
      "outputs": [],
      "source": [
        "# def get_word_vector(word, embedding_matrix, word_to_index=word_to_index):\n",
        "#     return embedding_matrix[word_to_index[word]]\n",
        "#пофиксила чтобы считать нормированные вектора\n",
        "\n",
        "def get_word_vector(word, embedding_matrix, word_to_index=word_to_index):\n",
        "    vector = embedding_matrix[word_to_index[word]]\n",
        "    return vector / torch.norm(vector, dim=0)"
      ]
    },
    {
      "cell_type": "markdown",
      "metadata": {
        "id": "BzZ2FlC65OTg"
      },
      "source": [
        "Простые проверки:"
      ]
    },
    {
      "cell_type": "code",
      "execution_count": 88,
      "metadata": {
        "id": "6IiD58gX5OTl"
      },
      "outputs": [],
      "source": [
        "similarity_1 = F.cosine_similarity(\n",
        "    get_word_vector(\"iphone\", embedding_matrix_context)[None, :],\n",
        "    get_word_vector(\"apple\", embedding_matrix_context)[None, :],\n",
        ")\n",
        "similarity_2 = F.cosine_similarity(\n",
        "    get_word_vector(\"iphone\", embedding_matrix_context)[None, :],\n",
        "    get_word_vector(\"dell\", embedding_matrix_context)[None, :],\n",
        ")\n",
        "assert similarity_1 > similarity_2"
      ]
    },
    {
      "cell_type": "code",
      "source": [
        "similarity_1"
      ],
      "metadata": {
        "colab": {
          "base_uri": "https://localhost:8080/"
        },
        "id": "STRlAUq9hz5t",
        "outputId": "93d943c0-e6e6-47fd-930e-8ed4833096c9"
      },
      "execution_count": 89,
      "outputs": [
        {
          "output_type": "execute_result",
          "data": {
            "text/plain": [
              "tensor([0.4020])"
            ]
          },
          "metadata": {},
          "execution_count": 89
        }
      ]
    },
    {
      "cell_type": "code",
      "source": [
        "similarity_2"
      ],
      "metadata": {
        "colab": {
          "base_uri": "https://localhost:8080/"
        },
        "id": "tT3mA94kh07j",
        "outputId": "057872d8-3d9d-47a9-c350-f727cb79a6c9"
      },
      "execution_count": 90,
      "outputs": [
        {
          "output_type": "execute_result",
          "data": {
            "text/plain": [
              "tensor([0.1780])"
            ]
          },
          "metadata": {},
          "execution_count": 90
        }
      ]
    },
    {
      "cell_type": "code",
      "execution_count": 91,
      "metadata": {
        "id": "f7_f4M8X5OTl"
      },
      "outputs": [],
      "source": [
        "similarity_1 = F.cosine_similarity(\n",
        "    get_word_vector(\"windows\", embedding_matrix_context)[None, :],\n",
        "    get_word_vector(\"laptop\", embedding_matrix_context)[None, :],\n",
        ")\n",
        "similarity_2 = F.cosine_similarity(\n",
        "    get_word_vector(\"windows\", embedding_matrix_context)[None, :],\n",
        "    get_word_vector(\"macbook\", embedding_matrix_context)[None, :],\n",
        ")\n",
        "assert similarity_1 > similarity_2"
      ]
    },
    {
      "cell_type": "markdown",
      "metadata": {
        "id": "j43TIh3J5OTl"
      },
      "source": [
        "Наконец, взглянем на ближайшие по косинусной мере слова. Функция реализована ниже."
      ]
    },
    {
      "cell_type": "code",
      "execution_count": 92,
      "metadata": {
        "id": "dA0V6rOYtsLk"
      },
      "outputs": [],
      "source": [
        "def find_nearest(word, embedding_matrix, word_to_index=word_to_index, k=10):\n",
        "    word_vector = get_word_vector(word, embedding_matrix)[None, :]\n",
        "    dists = F.cosine_similarity(embedding_matrix, word_vector)\n",
        "    index_sorted = torch.argsort(dists)\n",
        "    top_k = index_sorted[-k:]\n",
        "    return [(index_to_word[x], dists[x].item()) for x in top_k.numpy()]"
      ]
    },
    {
      "cell_type": "code",
      "execution_count": 93,
      "metadata": {
        "colab": {
          "base_uri": "https://localhost:8080/"
        },
        "id": "F9FyVAGg5OTl",
        "outputId": "6d1fe2d0-4efc-406b-d7c4-3e01d5348bcb"
      },
      "outputs": [
        {
          "output_type": "execute_result",
          "data": {
            "text/plain": [
              "[('precure', 0.649564802646637),\n",
              " ('situational', 0.6511328816413879),\n",
              " ('warhol', 0.6733914017677307),\n",
              " ('ammo', 0.6754786968231201),\n",
              " ('probabilities', 0.677514374256134),\n",
              " ('freelancer', 0.6845198273658752),\n",
              " ('kwh', 0.6876730918884277),\n",
              " ('20162017', 0.6901480555534363),\n",
              " ('coaster', 0.6953176856040955),\n",
              " ('python', 1.0)]"
            ]
          },
          "metadata": {},
          "execution_count": 93
        }
      ],
      "source": [
        "find_nearest(\"python\", embedding_matrix_context, k=10)"
      ]
    },
    {
      "cell_type": "markdown",
      "metadata": {
        "id": "NUS4DlDo5OTl"
      },
      "source": [
        "Также вы можете визуально проверить, как представлены в латентном пространстве часто встречающиеся слова."
      ]
    },
    {
      "cell_type": "code",
      "execution_count": 94,
      "metadata": {
        "id": "Z5iA0w6b5OTm"
      },
      "outputs": [],
      "source": [
        "top_k = 5000\n",
        "_top_words = sorted([x for x in word_count_dict.items()], key=lambda x: x[1])[\n",
        "    -top_k - 100 : -100\n",
        "]  # ignoring 100 most frequent words\n",
        "top_words = [x[0] for x in _top_words]\n",
        "del _top_words"
      ]
    },
    {
      "cell_type": "code",
      "execution_count": 95,
      "metadata": {
        "id": "N5rEQvob5OTm"
      },
      "outputs": [],
      "source": [
        "word_embeddings = torch.cat(\n",
        "    [embedding_matrix_context[word_to_index[x]][None, :] for x in top_words], dim=0\n",
        ").numpy()"
      ]
    },
    {
      "cell_type": "code",
      "execution_count": 96,
      "metadata": {
        "id": "RXHxcstd5OTm"
      },
      "outputs": [],
      "source": [
        "import bokeh.models as bm\n",
        "import bokeh.plotting as pl\n",
        "from bokeh.io import output_notebook\n",
        "\n",
        "output_notebook()\n",
        "\n",
        "\n",
        "def draw_vectors(\n",
        "    x,\n",
        "    y,\n",
        "    radius=10,\n",
        "    alpha=0.25,\n",
        "    color=\"blue\",\n",
        "    width=600,\n",
        "    height=400,\n",
        "    show=True,\n",
        "    **kwargs,\n",
        "):\n",
        "    \"\"\"draws an interactive plot for data points with auxilirary info on hover\"\"\"\n",
        "    if isinstance(color, str):\n",
        "        color = [color] * len(x)\n",
        "    data_source = bm.ColumnDataSource({\"x\": x, \"y\": y, \"color\": color, **kwargs})\n",
        "\n",
        "    fig = pl.figure(active_scroll=\"wheel_zoom\", width=width, height=height)\n",
        "    fig.scatter(\"x\", \"y\", size=radius, color=\"color\", alpha=alpha, source=data_source)\n",
        "\n",
        "    fig.add_tools(bm.HoverTool(tooltips=[(key, \"@\" + key) for key in kwargs.keys()]))\n",
        "    if show:\n",
        "        pl.show(fig)\n",
        "    return fig"
      ]
    },
    {
      "cell_type": "code",
      "execution_count": 97,
      "metadata": {
        "colab": {
          "base_uri": "https://localhost:8080/"
        },
        "id": "REonVo435OTm",
        "outputId": "b813d75c-3d60-48dd-ec5c-16115d2a9d1d"
      },
      "outputs": [
        {
          "output_type": "stream",
          "name": "stderr",
          "text": [
            "/usr/local/lib/python3.11/dist-packages/sklearn/utils/deprecation.py:151: FutureWarning: 'force_all_finite' was renamed to 'ensure_all_finite' in 1.6 and will be removed in 1.8.\n",
            "  warnings.warn(\n"
          ]
        }
      ],
      "source": [
        "embedding = umap.UMAP(n_neighbors=5).fit_transform(word_embeddings)"
      ]
    },
    {
      "cell_type": "code",
      "execution_count": 98,
      "metadata": {
        "colab": {
          "base_uri": "https://localhost:8080/",
          "height": 434
        },
        "id": "FcDvMAMw5OTm",
        "outputId": "7f5aa554-4731-4aae-abf0-72d9ec77bfff"
      },
      "outputs": [
        {
          "output_type": "display_data",
          "data": {
            "application/javascript": [
              "'use strict';\n",
              "(function(root) {\n",
              "  function now() {\n",
              "    return new Date();\n",
              "  }\n",
              "\n",
              "  const force = true;\n",
              "\n",
              "  if (typeof root._bokeh_onload_callbacks === \"undefined\" || force === true) {\n",
              "    root._bokeh_onload_callbacks = [];\n",
              "    root._bokeh_is_loading = undefined;\n",
              "  }\n",
              "\n",
              "const JS_MIME_TYPE = 'application/javascript';\n",
              "  const HTML_MIME_TYPE = 'text/html';\n",
              "  const EXEC_MIME_TYPE = 'application/vnd.bokehjs_exec.v0+json';\n",
              "  const CLASS_NAME = 'output_bokeh rendered_html';\n",
              "\n",
              "  /**\n",
              "   * Render data to the DOM node\n",
              "   */\n",
              "  function render(props, node) {\n",
              "    const script = document.createElement(\"script\");\n",
              "    node.appendChild(script);\n",
              "  }\n",
              "\n",
              "  /**\n",
              "   * Handle when an output is cleared or removed\n",
              "   */\n",
              "  function handleClearOutput(event, handle) {\n",
              "    function drop(id) {\n",
              "      const view = Bokeh.index.get_by_id(id)\n",
              "      if (view != null) {\n",
              "        view.model.document.clear()\n",
              "        Bokeh.index.delete(view)\n",
              "      }\n",
              "    }\n",
              "\n",
              "    const cell = handle.cell;\n",
              "\n",
              "    const id = cell.output_area._bokeh_element_id;\n",
              "    const server_id = cell.output_area._bokeh_server_id;\n",
              "\n",
              "    // Clean up Bokeh references\n",
              "    if (id != null) {\n",
              "      drop(id)\n",
              "    }\n",
              "\n",
              "    if (server_id !== undefined) {\n",
              "      // Clean up Bokeh references\n",
              "      const cmd_clean = \"from bokeh.io.state import curstate; print(curstate().uuid_to_server['\" + server_id + \"'].get_sessions()[0].document.roots[0]._id)\";\n",
              "      cell.notebook.kernel.execute(cmd_clean, {\n",
              "        iopub: {\n",
              "          output: function(msg) {\n",
              "            const id = msg.content.text.trim()\n",
              "            drop(id)\n",
              "          }\n",
              "        }\n",
              "      });\n",
              "      // Destroy server and session\n",
              "      const cmd_destroy = \"import bokeh.io.notebook as ion; ion.destroy_server('\" + server_id + \"')\";\n",
              "      cell.notebook.kernel.execute(cmd_destroy);\n",
              "    }\n",
              "  }\n",
              "\n",
              "  /**\n",
              "   * Handle when a new output is added\n",
              "   */\n",
              "  function handleAddOutput(event, handle) {\n",
              "    const output_area = handle.output_area;\n",
              "    const output = handle.output;\n",
              "\n",
              "    // limit handleAddOutput to display_data with EXEC_MIME_TYPE content only\n",
              "    if ((output.output_type != \"display_data\") || (!Object.prototype.hasOwnProperty.call(output.data, EXEC_MIME_TYPE))) {\n",
              "      return\n",
              "    }\n",
              "\n",
              "    const toinsert = output_area.element.find(\".\" + CLASS_NAME.split(' ')[0]);\n",
              "\n",
              "    if (output.metadata[EXEC_MIME_TYPE][\"id\"] !== undefined) {\n",
              "      toinsert[toinsert.length - 1].firstChild.textContent = output.data[JS_MIME_TYPE];\n",
              "      // store reference to embed id on output_area\n",
              "      output_area._bokeh_element_id = output.metadata[EXEC_MIME_TYPE][\"id\"];\n",
              "    }\n",
              "    if (output.metadata[EXEC_MIME_TYPE][\"server_id\"] !== undefined) {\n",
              "      const bk_div = document.createElement(\"div\");\n",
              "      bk_div.innerHTML = output.data[HTML_MIME_TYPE];\n",
              "      const script_attrs = bk_div.children[0].attributes;\n",
              "      for (let i = 0; i < script_attrs.length; i++) {\n",
              "        toinsert[toinsert.length - 1].firstChild.setAttribute(script_attrs[i].name, script_attrs[i].value);\n",
              "        toinsert[toinsert.length - 1].firstChild.textContent = bk_div.children[0].textContent\n",
              "      }\n",
              "      // store reference to server id on output_area\n",
              "      output_area._bokeh_server_id = output.metadata[EXEC_MIME_TYPE][\"server_id\"];\n",
              "    }\n",
              "  }\n",
              "\n",
              "  function register_renderer(events, OutputArea) {\n",
              "\n",
              "    function append_mime(data, metadata, element) {\n",
              "      // create a DOM node to render to\n",
              "      const toinsert = this.create_output_subarea(\n",
              "        metadata,\n",
              "        CLASS_NAME,\n",
              "        EXEC_MIME_TYPE\n",
              "      );\n",
              "      this.keyboard_manager.register_events(toinsert);\n",
              "      // Render to node\n",
              "      const props = {data: data, metadata: metadata[EXEC_MIME_TYPE]};\n",
              "      render(props, toinsert[toinsert.length - 1]);\n",
              "      element.append(toinsert);\n",
              "      return toinsert\n",
              "    }\n",
              "\n",
              "    /* Handle when an output is cleared or removed */\n",
              "    events.on('clear_output.CodeCell', handleClearOutput);\n",
              "    events.on('delete.Cell', handleClearOutput);\n",
              "\n",
              "    /* Handle when a new output is added */\n",
              "    events.on('output_added.OutputArea', handleAddOutput);\n",
              "\n",
              "    /**\n",
              "     * Register the mime type and append_mime function with output_area\n",
              "     */\n",
              "    OutputArea.prototype.register_mime_type(EXEC_MIME_TYPE, append_mime, {\n",
              "      /* Is output safe? */\n",
              "      safe: true,\n",
              "      /* Index of renderer in `output_area.display_order` */\n",
              "      index: 0\n",
              "    });\n",
              "  }\n",
              "\n",
              "  // register the mime type if in Jupyter Notebook environment and previously unregistered\n",
              "  if (root.Jupyter !== undefined) {\n",
              "    const events = require('base/js/events');\n",
              "    const OutputArea = require('notebook/js/outputarea').OutputArea;\n",
              "\n",
              "    if (OutputArea.prototype.mime_types().indexOf(EXEC_MIME_TYPE) == -1) {\n",
              "      register_renderer(events, OutputArea);\n",
              "    }\n",
              "  }\n",
              "  if (typeof (root._bokeh_timeout) === \"undefined\" || force === true) {\n",
              "    root._bokeh_timeout = Date.now() + 5000;\n",
              "    root._bokeh_failed_load = false;\n",
              "  }\n",
              "\n",
              "  const NB_LOAD_WARNING = {'data': {'text/html':\n",
              "     \"<div style='background-color: #fdd'>\\n\"+\n",
              "     \"<p>\\n\"+\n",
              "     \"BokehJS does not appear to have successfully loaded. If loading BokehJS from CDN, this \\n\"+\n",
              "     \"may be due to a slow or bad network connection. Possible fixes:\\n\"+\n",
              "     \"</p>\\n\"+\n",
              "     \"<ul>\\n\"+\n",
              "     \"<li>re-rerun `output_notebook()` to attempt to load from CDN again, or</li>\\n\"+\n",
              "     \"<li>use INLINE resources instead, as so:</li>\\n\"+\n",
              "     \"</ul>\\n\"+\n",
              "     \"<code>\\n\"+\n",
              "     \"from bokeh.resources import INLINE\\n\"+\n",
              "     \"output_notebook(resources=INLINE)\\n\"+\n",
              "     \"</code>\\n\"+\n",
              "     \"</div>\"}};\n",
              "\n",
              "  function display_loaded(error = null) {\n",
              "    const el = document.getElementById(null);\n",
              "    if (el != null) {\n",
              "      const html = (() => {\n",
              "        if (typeof root.Bokeh === \"undefined\") {\n",
              "          if (error == null) {\n",
              "            return \"BokehJS is loading ...\";\n",
              "          } else {\n",
              "            return \"BokehJS failed to load.\";\n",
              "          }\n",
              "        } else {\n",
              "          const prefix = `BokehJS ${root.Bokeh.version}`;\n",
              "          if (error == null) {\n",
              "            return `${prefix} successfully loaded.`;\n",
              "          } else {\n",
              "            return `${prefix} <b>encountered errors</b> while loading and may not function as expected.`;\n",
              "          }\n",
              "        }\n",
              "      })();\n",
              "      el.innerHTML = html;\n",
              "\n",
              "      if (error != null) {\n",
              "        const wrapper = document.createElement(\"div\");\n",
              "        wrapper.style.overflow = \"auto\";\n",
              "        wrapper.style.height = \"5em\";\n",
              "        wrapper.style.resize = \"vertical\";\n",
              "        const content = document.createElement(\"div\");\n",
              "        content.style.fontFamily = \"monospace\";\n",
              "        content.style.whiteSpace = \"pre-wrap\";\n",
              "        content.style.backgroundColor = \"rgb(255, 221, 221)\";\n",
              "        content.textContent = error.stack ?? error.toString();\n",
              "        wrapper.append(content);\n",
              "        el.append(wrapper);\n",
              "      }\n",
              "    } else if (Date.now() < root._bokeh_timeout) {\n",
              "      setTimeout(() => display_loaded(error), 100);\n",
              "    }\n",
              "  }\n",
              "\n",
              "  function run_callbacks() {\n",
              "    try {\n",
              "      root._bokeh_onload_callbacks.forEach(function(callback) {\n",
              "        if (callback != null)\n",
              "          callback();\n",
              "      });\n",
              "    } finally {\n",
              "      delete root._bokeh_onload_callbacks\n",
              "    }\n",
              "    console.debug(\"Bokeh: all callbacks have finished\");\n",
              "  }\n",
              "\n",
              "  function load_libs(css_urls, js_urls, callback) {\n",
              "    if (css_urls == null) css_urls = [];\n",
              "    if (js_urls == null) js_urls = [];\n",
              "\n",
              "    root._bokeh_onload_callbacks.push(callback);\n",
              "    if (root._bokeh_is_loading > 0) {\n",
              "      console.debug(\"Bokeh: BokehJS is being loaded, scheduling callback at\", now());\n",
              "      return null;\n",
              "    }\n",
              "    if (js_urls == null || js_urls.length === 0) {\n",
              "      run_callbacks();\n",
              "      return null;\n",
              "    }\n",
              "    console.debug(\"Bokeh: BokehJS not loaded, scheduling load and callback at\", now());\n",
              "    root._bokeh_is_loading = css_urls.length + js_urls.length;\n",
              "\n",
              "    function on_load() {\n",
              "      root._bokeh_is_loading--;\n",
              "      if (root._bokeh_is_loading === 0) {\n",
              "        console.debug(\"Bokeh: all BokehJS libraries/stylesheets loaded\");\n",
              "        run_callbacks()\n",
              "      }\n",
              "    }\n",
              "\n",
              "    function on_error(url) {\n",
              "      console.error(\"failed to load \" + url);\n",
              "    }\n",
              "\n",
              "    for (let i = 0; i < css_urls.length; i++) {\n",
              "      const url = css_urls[i];\n",
              "      const element = document.createElement(\"link\");\n",
              "      element.onload = on_load;\n",
              "      element.onerror = on_error.bind(null, url);\n",
              "      element.rel = \"stylesheet\";\n",
              "      element.type = \"text/css\";\n",
              "      element.href = url;\n",
              "      console.debug(\"Bokeh: injecting link tag for BokehJS stylesheet: \", url);\n",
              "      document.body.appendChild(element);\n",
              "    }\n",
              "\n",
              "    for (let i = 0; i < js_urls.length; i++) {\n",
              "      const url = js_urls[i];\n",
              "      const element = document.createElement('script');\n",
              "      element.onload = on_load;\n",
              "      element.onerror = on_error.bind(null, url);\n",
              "      element.async = false;\n",
              "      element.src = url;\n",
              "      console.debug(\"Bokeh: injecting script tag for BokehJS library: \", url);\n",
              "      document.head.appendChild(element);\n",
              "    }\n",
              "  };\n",
              "\n",
              "  function inject_raw_css(css) {\n",
              "    const element = document.createElement(\"style\");\n",
              "    element.appendChild(document.createTextNode(css));\n",
              "    document.body.appendChild(element);\n",
              "  }\n",
              "\n",
              "  const js_urls = [\"https://cdn.bokeh.org/bokeh/release/bokeh-3.6.3.min.js\", \"https://cdn.bokeh.org/bokeh/release/bokeh-gl-3.6.3.min.js\", \"https://cdn.bokeh.org/bokeh/release/bokeh-widgets-3.6.3.min.js\", \"https://cdn.bokeh.org/bokeh/release/bokeh-tables-3.6.3.min.js\", \"https://cdn.bokeh.org/bokeh/release/bokeh-mathjax-3.6.3.min.js\"];\n",
              "  const css_urls = [];\n",
              "\n",
              "  const inline_js = [    function(Bokeh) {\n",
              "      Bokeh.set_log_level(\"info\");\n",
              "    },\n",
              "function(Bokeh) {\n",
              "    }\n",
              "  ];\n",
              "\n",
              "  function run_inline_js() {\n",
              "    if (root.Bokeh !== undefined || force === true) {\n",
              "      try {\n",
              "            for (let i = 0; i < inline_js.length; i++) {\n",
              "      inline_js[i].call(root, root.Bokeh);\n",
              "    }\n",
              "\n",
              "      } catch (error) {throw error;\n",
              "      }} else if (Date.now() < root._bokeh_timeout) {\n",
              "      setTimeout(run_inline_js, 100);\n",
              "    } else if (!root._bokeh_failed_load) {\n",
              "      console.log(\"Bokeh: BokehJS failed to load within specified timeout.\");\n",
              "      root._bokeh_failed_load = true;\n",
              "    } else if (force !== true) {\n",
              "      const cell = $(document.getElementById(null)).parents('.cell').data().cell;\n",
              "      cell.output_area.append_execute_result(NB_LOAD_WARNING)\n",
              "    }\n",
              "  }\n",
              "\n",
              "  if (root._bokeh_is_loading === 0) {\n",
              "    console.debug(\"Bokeh: BokehJS loaded, going straight to plotting\");\n",
              "    run_inline_js();\n",
              "  } else {\n",
              "    load_libs(css_urls, js_urls, function() {\n",
              "      console.debug(\"Bokeh: BokehJS plotting callback run at\", now());\n",
              "      run_inline_js();\n",
              "    });\n",
              "  }\n",
              "}(window));"
            ],
            "application/vnd.bokehjs_load.v0+json": "'use strict';\n(function(root) {\n  function now() {\n    return new Date();\n  }\n\n  const force = true;\n\n  if (typeof root._bokeh_onload_callbacks === \"undefined\" || force === true) {\n    root._bokeh_onload_callbacks = [];\n    root._bokeh_is_loading = undefined;\n  }\n\n\n  if (typeof (root._bokeh_timeout) === \"undefined\" || force === true) {\n    root._bokeh_timeout = Date.now() + 5000;\n    root._bokeh_failed_load = false;\n  }\n\n  const NB_LOAD_WARNING = {'data': {'text/html':\n     \"<div style='background-color: #fdd'>\\n\"+\n     \"<p>\\n\"+\n     \"BokehJS does not appear to have successfully loaded. If loading BokehJS from CDN, this \\n\"+\n     \"may be due to a slow or bad network connection. Possible fixes:\\n\"+\n     \"</p>\\n\"+\n     \"<ul>\\n\"+\n     \"<li>re-rerun `output_notebook()` to attempt to load from CDN again, or</li>\\n\"+\n     \"<li>use INLINE resources instead, as so:</li>\\n\"+\n     \"</ul>\\n\"+\n     \"<code>\\n\"+\n     \"from bokeh.resources import INLINE\\n\"+\n     \"output_notebook(resources=INLINE)\\n\"+\n     \"</code>\\n\"+\n     \"</div>\"}};\n\n  function display_loaded(error = null) {\n    const el = document.getElementById(null);\n    if (el != null) {\n      const html = (() => {\n        if (typeof root.Bokeh === \"undefined\") {\n          if (error == null) {\n            return \"BokehJS is loading ...\";\n          } else {\n            return \"BokehJS failed to load.\";\n          }\n        } else {\n          const prefix = `BokehJS ${root.Bokeh.version}`;\n          if (error == null) {\n            return `${prefix} successfully loaded.`;\n          } else {\n            return `${prefix} <b>encountered errors</b> while loading and may not function as expected.`;\n          }\n        }\n      })();\n      el.innerHTML = html;\n\n      if (error != null) {\n        const wrapper = document.createElement(\"div\");\n        wrapper.style.overflow = \"auto\";\n        wrapper.style.height = \"5em\";\n        wrapper.style.resize = \"vertical\";\n        const content = document.createElement(\"div\");\n        content.style.fontFamily = \"monospace\";\n        content.style.whiteSpace = \"pre-wrap\";\n        content.style.backgroundColor = \"rgb(255, 221, 221)\";\n        content.textContent = error.stack ?? error.toString();\n        wrapper.append(content);\n        el.append(wrapper);\n      }\n    } else if (Date.now() < root._bokeh_timeout) {\n      setTimeout(() => display_loaded(error), 100);\n    }\n  }\n\n  function run_callbacks() {\n    try {\n      root._bokeh_onload_callbacks.forEach(function(callback) {\n        if (callback != null)\n          callback();\n      });\n    } finally {\n      delete root._bokeh_onload_callbacks\n    }\n    console.debug(\"Bokeh: all callbacks have finished\");\n  }\n\n  function load_libs(css_urls, js_urls, callback) {\n    if (css_urls == null) css_urls = [];\n    if (js_urls == null) js_urls = [];\n\n    root._bokeh_onload_callbacks.push(callback);\n    if (root._bokeh_is_loading > 0) {\n      console.debug(\"Bokeh: BokehJS is being loaded, scheduling callback at\", now());\n      return null;\n    }\n    if (js_urls == null || js_urls.length === 0) {\n      run_callbacks();\n      return null;\n    }\n    console.debug(\"Bokeh: BokehJS not loaded, scheduling load and callback at\", now());\n    root._bokeh_is_loading = css_urls.length + js_urls.length;\n\n    function on_load() {\n      root._bokeh_is_loading--;\n      if (root._bokeh_is_loading === 0) {\n        console.debug(\"Bokeh: all BokehJS libraries/stylesheets loaded\");\n        run_callbacks()\n      }\n    }\n\n    function on_error(url) {\n      console.error(\"failed to load \" + url);\n    }\n\n    for (let i = 0; i < css_urls.length; i++) {\n      const url = css_urls[i];\n      const element = document.createElement(\"link\");\n      element.onload = on_load;\n      element.onerror = on_error.bind(null, url);\n      element.rel = \"stylesheet\";\n      element.type = \"text/css\";\n      element.href = url;\n      console.debug(\"Bokeh: injecting link tag for BokehJS stylesheet: \", url);\n      document.body.appendChild(element);\n    }\n\n    for (let i = 0; i < js_urls.length; i++) {\n      const url = js_urls[i];\n      const element = document.createElement('script');\n      element.onload = on_load;\n      element.onerror = on_error.bind(null, url);\n      element.async = false;\n      element.src = url;\n      console.debug(\"Bokeh: injecting script tag for BokehJS library: \", url);\n      document.head.appendChild(element);\n    }\n  };\n\n  function inject_raw_css(css) {\n    const element = document.createElement(\"style\");\n    element.appendChild(document.createTextNode(css));\n    document.body.appendChild(element);\n  }\n\n  const js_urls = [\"https://cdn.bokeh.org/bokeh/release/bokeh-3.6.3.min.js\", \"https://cdn.bokeh.org/bokeh/release/bokeh-gl-3.6.3.min.js\", \"https://cdn.bokeh.org/bokeh/release/bokeh-widgets-3.6.3.min.js\", \"https://cdn.bokeh.org/bokeh/release/bokeh-tables-3.6.3.min.js\", \"https://cdn.bokeh.org/bokeh/release/bokeh-mathjax-3.6.3.min.js\"];\n  const css_urls = [];\n\n  const inline_js = [    function(Bokeh) {\n      Bokeh.set_log_level(\"info\");\n    },\nfunction(Bokeh) {\n    }\n  ];\n\n  function run_inline_js() {\n    if (root.Bokeh !== undefined || force === true) {\n      try {\n            for (let i = 0; i < inline_js.length; i++) {\n      inline_js[i].call(root, root.Bokeh);\n    }\n\n      } catch (error) {throw error;\n      }} else if (Date.now() < root._bokeh_timeout) {\n      setTimeout(run_inline_js, 100);\n    } else if (!root._bokeh_failed_load) {\n      console.log(\"Bokeh: BokehJS failed to load within specified timeout.\");\n      root._bokeh_failed_load = true;\n    } else if (force !== true) {\n      const cell = $(document.getElementById(null)).parents('.cell').data().cell;\n      cell.output_area.append_execute_result(NB_LOAD_WARNING)\n    }\n  }\n\n  if (root._bokeh_is_loading === 0) {\n    console.debug(\"Bokeh: BokehJS loaded, going straight to plotting\");\n    run_inline_js();\n  } else {\n    load_libs(css_urls, js_urls, function() {\n      console.debug(\"Bokeh: BokehJS plotting callback run at\", now());\n      run_inline_js();\n    });\n  }\n}(window));"
          },
          "metadata": {}
        },
        {
          "output_type": "display_data",
          "data": {
            "text/html": [
              "\n",
              "  <div id=\"e610f386-0d57-4e6c-a825-43122d4776e7\" data-root-id=\"p1055\" style=\"display: contents;\"></div>\n"
            ]
          },
          "metadata": {}
        },
        {
          "output_type": "display_data",
          "data": {
            "application/javascript": [
              "(function(root) {\n",
              "  function embed_document(root) {\n",
              "  const docs_json = {\"fda1734b-4cf5-4bd3-b368-615ddf56272e\":{\"version\":\"3.6.3\",\"title\":\"Bokeh Application\",\"roots\":[{\"type\":\"object\",\"name\":\"Figure\",\"id\":\"p1055\",\"attributes\":{\"height\":400,\"x_range\":{\"type\":\"object\",\"name\":\"DataRange1d\",\"id\":\"p1056\"},\"y_range\":{\"type\":\"object\",\"name\":\"DataRange1d\",\"id\":\"p1057\"},\"x_scale\":{\"type\":\"object\",\"name\":\"LinearScale\",\"id\":\"p1064\"},\"y_scale\":{\"type\":\"object\",\"name\":\"LinearScale\",\"id\":\"p1065\"},\"title\":{\"type\":\"object\",\"name\":\"Title\",\"id\":\"p1062\"},\"renderers\":[{\"type\":\"object\",\"name\":\"GlyphRenderer\",\"id\":\"p1095\",\"attributes\":{\"data_source\":{\"type\":\"object\",\"name\":\"ColumnDataSource\",\"id\":\"p1052\",\"attributes\":{\"selected\":{\"type\":\"object\",\"name\":\"Selection\",\"id\":\"p1053\",\"attributes\":{\"indices\":[],\"line_indices\":[]}},\"selection_policy\":{\"type\":\"object\",\"name\":\"UnionRenderers\",\"id\":\"p1054\"},\"data\":{\"type\":\"map\",\"entries\":[[\"x\",{\"type\":\"ndarray\",\"array\":{\"type\":\"bytes\",\"data\":\"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\"},\"shape\":[5000],\"dtype\":\"float32\",\"order\":\"little\"}],[\"y\",{\"type\":\"ndarray\",\"array\":{\"type\":\"bytes\",\"data\":\"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\"},\"shape\":[5000],\"dtype\":\"float32\",\"order\":\"little\"}],[\"color\",[\"blue\",\"blue\",\"blue\",\"blue\",\"blue\",\"blue\",\"blue\",\"blue\",\"blue\",\"blue\",\"blue\",\"blue\",\"blue\",\"blue\",\"blue\",\"blue\",\"blue\",\"blue\",\"blue\",\"blue\",\"blue\",\"blue\",\"blue\",\"blue\",\"blue\",\"blue\",\"blue\",\"blue\",\"blue\",\"blue\",\"blue\",\"blue\",\"blue\",\"blue\",\"blue\",\"blue\",\"blue\",\"blue\",\"blue\",\"blue\",\"blue\",\"blue\",\"blue\",\"blue\",\"blue\",\"blue\",\"blue\",\"blue\",\"blue\",\"blue\",\"blue\",\"blue\",\"blue\",\"blue\",\"blue\",\"blue\",\"blue\",\"blue\",\"blue\",\"blue\",\"blue\",\"blue\",\"blue\",\"blue\",\"blue\",\"blue\",\"blue\",\"blue\",\"blue\",\"blue\",\"blue\",\"blue\",\"blue\",\"blue\",\"blue\",\"blue\",\"blue\",\"blue\",\"blue\",\"blue\",\"blue\",\"blue\",\"blue\",\"blue\",\"blue\",\"blue\",\"blue\",\"blue\",\"blue\",\"blue\",\"blue\",\"blue\",\"blue\",\"blue\",\"blue\",\"blue\",\"blue\",\"blue\",\"blue\",\"blue\",\"blue\",\"blue\",\"blue\",\"blue\",\"blue\",\"blue\",\"blue\",\"blue\",\"blue\",\"blue\",\"blue\",\"blue\",\"blue\",\"blue\",\"blue\",\"blue\",\"blue\",\"blue\",\"blue\",\"blue\",\"blue\",\"blue\",\"blue\",\"blue\",\"blue\",\"blue\",\"blue\",\"blue\",\"blue\",\"blue\",\"blue\",\"blue\",\"blue\",\"blue\",\"blue\",\"blue\",\"blue\",\"blue\",\"blue\",\"blue\",\"blue\",\"blue\",\"blue\",\"blue\",\"blue\",\"blue\",\"blue\",\"blue\",\"blue\",\"blue\",\"blue\",\"blue\",\"blue\",\"blue\",\"blue\",\"blue\",\"blue\",\"blue\",\"blue\",\"blue\",\"blue\",\"blue\",\"blue\",\"blue\",\"blue\",\"blue\",\"blue\",\"blue\",\"blue\",\"blue\",\"blue\",\"blue\",\"blue\",\"blue\",\"blue\",\"blue\",\"blue\",\"blue\",\"blue\",\"blue\",\"blue\",\"blue\",\"blue\",\"blue\",\"blue\",\"blue\",\"blue\",\"blue\",\"blue\",\"blue\",\"blue\",\"blue\",\"blue\",\"blue\",\"blue\",\"blue\",\"blue\",\"blue\",\"blue\",\"blue\",\"blue\",\"blue\",\"blue\",\"blue\",\"blue\",\"blue\",\"blue\",\"blue\",\"blue\",\"blue\",\"blue\",\"blue\",\"blue\",\"blue\",\"blue\",\"blue\",\"blue\",\"blue\",\"blue\",\"blue\",\"blue\",\"blue\",\"blue\",\"blue\",\"blue\",\"blue\",\"blue\",\"blue\",\"blue\",\"blue\",\"blue\",\"blue\",\"blue\",\"blue\",\"blue\",\"blue\",\"blue\",\"blue\",\"blue\",\"blue\",\"blue\",\"blue\",\"blue\",\"blue\",\"blue\",\"blue\",\"blue\",\"blue\",\"blue\",\"blue\",\"blue\",\"blue\",\"blue\",\"blue\",\"blue\",\"blue\",\"blue\",\"blue\",\"blue\",\"blue\",\"blue\",\"blue\",\"blue\",\"blue\",\"blue\",\"blue\",\"blue\",\"blue\",\"blue\",\"blue\",\"blue\",\"blue\",\"blue\",\"blue\",\"blue\",\"blue\",\"blue\",\"blue\",\"blue\",\"blue\",\"blue\",\"blue\",\"blue\",\"blue\",\"blue\",\"blue\",\"blue\",\"blue\",\"blue\",\"blue\",\"blue\",\"blue\",\"blue\",\"blue\",\"blue\",\"blue\",\"blue\",\"blue\",\"blue\",\"blue\",\"blue\",\"blue\",\"blue\",\"blue\",\"blue\",\"blue\",\"blue\",\"blue\",\"blue\",\"blue\",\"blue\",\"blue\",\"blue\",\"blue\",\"blue\",\"blue\",\"blue\",\"blue\",\"blue\",\"blue\",\"blue\",\"blue\",\"blue\",\"blue\",\"blue\",\"blue\",\"blue\",\"blue\",\"blue\",\"blue\",\"blue\",\"blue\",\"blue\",\"blue\",\"blue\",\"blue\",\"blue\",\"blue\",\"blue\",\"blue\",\"blue\",\"blue\",\"blue\",\"blue\",\"blue\",\"blue\",\"blue\",\"blue\",\"blue\",\"blue\",\"blue\",\"blue\",\"blue\",\"blue\",\"blue\",\"blue\",\"blue\",\"blue\",\"blue\",\"blue\",\"blue\",\"blue\",\"blue\",\"blue\",\"blue\",\"blue\",\"blue\",\"blue\",\"blue\",\"blue\",\"blue\",\"blue\",\"blue\",\"blue\",\"blue\",\"blue\",\"blue\",\"blue\",\"blue\",\"blue\",\"blue\",\"blue\",\"blue\",\"blue\",\"blue\",\"blue\",\"blue\",\"blue\",\"blue\",\"blue\",\"blue\",\"blue\",\"blue\",\"blue\",\"blue\",\"blue\",\"blue\",\"blue\",\"blue\",\"blue\",\"blue\",\"blue\",\"blue\",\"blue\",\"blue\",\"blue\",\"blue\",\"blue\",\"blue\",\"blue\",\"blue\",\"blue\",\"blue\",\"blue\",\"blue\",\"blue\",\"blue\",\"blue\",\"blue\",\"blue\",\"blue\",\"blue\",\"blue\",\"blue\",\"blue\",\"blue\",\"blue\",\"blue\",\"blue\",\"blue\",\"blue\",\"blue\",\"blue\",\"blue\",\"blue\",\"blue\",\"blue\",\"blue\",\"blue\",\"blue\",\"blue\",\"blue\",\"blue\",\"blue\",\"blue\",\"blue\",\"blue\",\"blue\",\"blue\",\"blue\",\"blue\",\"blue\",\"blue\",\"blue\",\"blue\",\"blue\",\"blue\",\"blue\",\"blue\",\"blue\",\"blue\",\"blue\",\"blue\",\"blue\",\"blue\",\"blue\",\"blue\",\"blue\",\"blue\",\"blue\",\"blue\",\"blue\",\"blue\",\"blue\",\"blue\",\"blue\",\"blue\",\"blue\",\"blue\",\"blue\",\"blue\",\"blue\",\"blue\",\"blue\",\"blue\",\"blue\",\"blue\",\"blue\",\"blue\",\"blue\",\"blue\",\"blue\",\"blue\",\"blue\",\"blue\",\"blue\",\"blue\",\"blue\",\"blue\",\"blue\",\"blue\",\"blue\",\"blue\",\"blue\",\"blue\",\"blue\",\"blue\",\"blue\",\"blue\",\"blue\",\"blue\",\"blue\",\"blue\",\"blue\",\"blue\",\"blue\",\"blue\",\"blue\",\"blue\",\"blue\",\"blue\",\"blue\",\"blue\",\"blue\",\"blue\",\"blue\",\"blue\",\"blue\",\"blue\",\"blue\",\"blue\",\"blue\",\"blue\",\"blue\",\"blue\",\"blue\",\"blue\",\"blue\",\"blue\",\"blue\",\"blue\",\"blue\",\"blue\",\"blue\",\"blue\",\"blue\",\"blue\",\"blue\",\"blue\",\"blue\",\"blue\",\"blue\",\"blue\",\"blue\",\"blue\",\"blue\",\"blue\",\"blue\",\"blue\",\"blue\",\"blue\",\"blue\",\"blue\",\"blue\",\"blue\",\"blue\",\"blue\",\"blue\",\"blue\",\"blue\",\"blue\",\"blue\",\"blue\",\"blue\",\"blue\",\"blue\",\"blue\",\"blue\",\"blue\",\"blue\",\"blue\",\"blue\",\"blue\",\"blue\",\"blue\",\"blue\",\"blue\",\"blue\",\"blue\",\"blue\",\"blue\",\"blue\",\"blue\",\"blue\",\"blue\",\"blue\",\"blue\",\"blue\",\"blue\",\"blue\",\"blue\",\"blue\",\"blue\",\"blue\",\"blue\",\"blue\",\"blue\",\"blue\",\"blue\",\"blue\",\"blue\",\"blue\",\"blue\",\"blue\",\"blue\",\"blue\",\"blue\",\"blue\",\"blue\",\"blue\",\"blue\",\"blue\",\"blue\",\"blue\",\"blue\",\"blue\",\"blue\",\"blue\",\"blue\",\"blue\",\"blue\",\"blue\",\"blue\",\"blue\",\"blue\",\"blue\",\"blue\",\"blue\",\"blue\",\"blue\",\"blue\",\"blue\",\"blue\",\"blue\",\"blue\",\"blue\",\"blue\",\"blue\",\"blue\",\"blue\",\"blue\",\"blue\",\"blue\",\"blue\",\"blue\",\"blue\",\"blue\",\"blue\",\"blue\",\"blue\",\"blue\",\"blue\",\"blue\",\"blue\",\"blue\",\"blue\",\"blue\",\"blue\",\"blue\",\"blue\",\"blue\",\"blue\",\"blue\",\"blue\",\"blue\",\"blue\",\"blue\",\"blue\",\"blue\",\"blue\",\"blue\",\"blue\",\"blue\",\"blue\",\"blue\",\"blue\",\"blue\",\"blue\",\"blue\",\"blue\",\"blue\",\"blue\",\"blue\",\"blue\",\"blue\",\"blue\",\"blue\",\"blue\",\"blue\",\"blue\",\"blue\",\"blue\",\"blue\",\"blue\",\"blue\",\"blue\",\"blue\",\"blue\",\"blue\",\"blue\",\"blue\",\"blue\",\"blue\",\"blue\",\"blue\",\"blue\",\"blue\",\"blue\",\"blue\",\"blue\",\"blue\",\"blue\",\"blue\",\"blue\",\"blue\",\"blue\",\"blue\",\"blue\",\"blue\",\"blue\",\"blue\",\"blue\",\"blue\",\"blue\",\"blue\",\"blue\",\"blue\",\"blue\",\"blue\",\"blue\",\"blue\",\"blue\",\"blue\",\"blue\",\"blue\",\"blue\",\"blue\",\"blue\",\"blue\",\"blue\",\"blue\",\"blue\",\"blue\",\"blue\",\"blue\",\"blue\",\"blue\",\"blue\",\"blue\",\"blue\",\"blue\",\"blue\",\"blue\",\"blue\",\"blue\",\"blue\",\"blue\",\"blue\",\"blue\",\"blue\",\"blue\",\"blue\",\"blue\",\"blue\",\"blue\",\"blue\",\"blue\",\"blue\",\"blue\",\"blue\",\"blue\",\"blue\",\"blue\",\"blue\",\"blue\",\"blue\",\"blue\",\"blue\",\"blue\",\"blue\",\"blue\",\"blue\",\"blue\",\"blue\",\"blue\",\"blue\",\"blue\",\"blue\",\"blue\",\"blue\",\"blue\",\"blue\",\"blue\",\"blue\",\"blue\",\"blue\",\"blue\",\"blue\",\"blue\",\"blue\",\"blue\",\"blue\",\"blue\",\"blue\",\"blue\",\"blue\",\"blue\",\"blue\",\"blue\",\"blue\",\"blue\",\"blue\",\"blue\",\"blue\",\"blue\",\"blue\",\"blue\",\"blue\",\"blue\",\"blue\",\"blue\",\"blue\",\"blue\",\"blue\",\"blue\",\"blue\",\"blue\",\"blue\",\"blue\",\"blue\",\"blue\",\"blue\",\"blue\",\"blue\",\"blue\",\"blue\",\"blue\",\"blue\",\"blue\",\"blue\",\"blue\",\"blue\",\"blue\",\"blue\",\"blue\",\"blue\",\"blue\",\"blue\",\"blue\",\"blue\",\"blue\",\"blue\",\"blue\",\"blue\",\"blue\",\"blue\",\"blue\",\"blue\",\"blue\",\"blue\",\"blue\",\"blue\",\"blue\",\"blue\",\"blue\",\"blue\",\"blue\",\"blue\",\"blue\",\"blue\",\"blue\",\"blue\",\"blue\",\"blue\",\"blue\",\"blue\",\"blue\",\"blue\",\"blue\",\"blue\",\"blue\",\"blue\",\"blue\",\"blue\",\"blue\",\"blue\",\"blue\",\"blue\",\"blue\",\"blue\",\"blue\",\"blue\",\"blue\",\"blue\",\"blue\",\"blue\",\"blue\",\"blue\",\"blue\",\"blue\",\"blue\",\"blue\",\"blue\",\"blue\",\"blue\",\"blue\",\"blue\",\"blue\",\"blue\",\"blue\",\"blue\",\"blue\",\"blue\",\"blue\",\"blue\",\"blue\",\"blue\",\"blue\",\"blue\",\"blue\",\"blue\",\"blue\",\"blue\",\"blue\",\"blue\",\"blue\",\"blue\",\"blue\",\"blue\",\"blue\",\"blue\",\"blue\",\"blue\",\"blue\",\"blue\",\"blue\",\"blue\",\"blue\",\"blue\",\"blue\",\"blue\",\"blue\",\"blue\",\"blue\",\"blue\",\"blue\",\"blue\",\"blue\",\"blue\",\"blue\",\"blue\",\"blue\",\"blue\",\"blue\",\"blue\",\"blue\",\"blue\",\"blue\",\"blue\",\"blue\",\"blue\",\"blue\",\"blue\",\"blue\",\"blue\",\"blue\",\"blue\",\"blue\",\"blue\",\"blue\",\"blue\",\"blue\",\"blue\",\"blue\",\"blue\",\"blue\",\"blue\",\"blue\",\"blue\",\"blue\",\"blue\",\"blue\",\"blue\",\"blue\",\"blue\",\"blue\",\"blue\",\"blue\",\"blue\",\"blue\",\"blue\",\"blue\",\"blue\",\"blue\",\"blue\",\"blue\",\"blue\",\"blue\",\"blue\",\"blue\",\"blue\",\"blue\",\"blue\",\"blue\",\"blue\",\"blue\",\"blue\",\"blue\",\"blue\",\"blue\",\"blue\",\"blue\",\"blue\",\"blue\",\"blue\",\"blue\",\"blue\",\"blue\",\"blue\",\"blue\",\"blue\",\"blue\",\"blue\",\"blue\",\"blue\",\"blue\",\"blue\",\"blue\",\"blue\",\"blue\",\"blue\",\"blue\",\"blue\",\"blue\",\"blue\",\"blue\",\"blue\",\"blue\",\"blue\",\"blue\",\"blue\",\"blue\",\"blue\",\"blue\",\"blue\",\"blue\",\"blue\",\"blue\",\"blue\",\"blue\",\"blue\",\"blue\",\"blue\",\"blue\",\"blue\",\"blue\",\"blue\",\"blue\",\"blue\",\"blue\",\"blue\",\"blue\",\"blue\",\"blue\",\"blue\",\"blue\",\"blue\",\"blue\",\"blue\",\"blue\",\"blue\",\"blue\",\"blue\",\"blue\",\"blue\",\"blue\",\"blue\",\"blue\",\"blue\",\"blue\",\"blue\",\"blue\",\"blue\",\"blue\",\"blue\",\"blue\",\"blue\",\"blue\",\"blue\",\"blue\",\"blue\",\"blue\",\"blue\",\"blue\",\"blue\",\"blue\",\"blue\",\"blue\",\"blue\",\"blue\",\"blue\",\"blue\",\"blue\",\"blue\",\"blue\",\"blue\",\"blue\",\"blue\",\"blue\",\"blue\",\"blue\",\"blue\",\"blue\",\"blue\",\"blue\",\"blue\",\"blue\",\"blue\",\"blue\",\"blue\",\"blue\",\"blue\",\"blue\",\"blue\",\"blue\",\"blue\",\"blue\",\"blue\",\"blue\",\"blue\",\"blue\",\"blue\",\"blue\",\"blue\",\"blue\",\"blue\",\"blue\",\"blue\",\"blue\",\"blue\",\"blue\",\"blue\",\"blue\",\"blue\",\"blue\",\"blue\",\"blue\",\"blue\",\"blue\",\"blue\",\"blue\",\"blue\",\"blue\",\"blue\",\"blue\",\"blue\",\"blue\",\"blue\",\"blue\",\"blue\",\"blue\",\"blue\",\"blue\",\"blue\",\"blue\",\"blue\",\"blue\",\"blue\",\"blue\",\"blue\",\"blue\",\"blue\",\"blue\",\"blue\",\"blue\",\"blue\",\"blue\",\"blue\",\"blue\",\"blue\",\"blue\",\"blue\",\"blue\",\"blue\",\"blue\",\"blue\",\"blue\",\"blue\",\"blue\",\"blue\",\"blue\",\"blue\",\"blue\",\"blue\",\"blue\",\"blue\",\"blue\",\"blue\",\"blue\",\"blue\",\"blue\",\"blue\",\"blue\",\"blue\",\"blue\",\"blue\",\"blue\",\"blue\",\"blue\",\"blue\",\"blue\",\"blue\",\"blue\",\"blue\",\"blue\",\"blue\",\"blue\",\"blue\",\"blue\",\"blue\",\"blue\",\"blue\",\"blue\",\"blue\",\"blue\",\"blue\",\"blue\",\"blue\",\"blue\",\"blue\",\"blue\",\"blue\",\"blue\",\"blue\",\"blue\",\"blue\",\"blue\",\"blue\",\"blue\",\"blue\",\"blue\",\"blue\",\"blue\",\"blue\",\"blue\",\"blue\",\"blue\",\"blue\",\"blue\",\"blue\",\"blue\",\"blue\",\"blue\",\"blue\",\"blue\",\"blue\",\"blue\",\"blue\",\"blue\",\"blue\",\"blue\",\"blue\",\"blue\",\"blue\",\"blue\",\"blue\",\"blue\",\"blue\",\"blue\",\"blue\",\"blue\",\"blue\",\"blue\",\"blue\",\"blue\",\"blue\",\"blue\",\"blue\",\"blue\",\"blue\",\"blue\",\"blue\",\"blue\",\"blue\",\"blue\",\"blue\",\"blue\",\"blue\",\"blue\",\"blue\",\"blue\",\"blue\",\"blue\",\"blue\",\"blue\",\"blue\",\"blue\",\"blue\",\"blue\",\"blue\",\"blue\",\"blue\",\"blue\",\"blue\",\"blue\",\"blue\",\"blue\",\"blue\",\"blue\",\"blue\",\"blue\",\"blue\",\"blue\",\"blue\",\"blue\",\"blue\",\"blue\",\"blue\",\"blue\",\"blue\",\"blue\",\"blue\",\"blue\",\"blue\",\"blue\",\"blue\",\"blue\",\"blue\",\"blue\",\"blue\",\"blue\",\"blue\",\"blue\",\"blue\",\"blue\",\"blue\",\"blue\",\"blue\",\"blue\",\"blue\",\"blue\",\"blue\",\"blue\",\"blue\",\"blue\",\"blue\",\"blue\",\"blue\",\"blue\",\"blue\",\"blue\",\"blue\",\"blue\",\"blue\",\"blue\",\"blue\",\"blue\",\"blue\",\"blue\",\"blue\",\"blue\",\"blue\",\"blue\",\"blue\",\"blue\",\"blue\",\"blue\",\"blue\",\"blue\",\"blue\",\"blue\",\"blue\",\"blue\",\"blue\",\"blue\",\"blue\",\"blue\",\"blue\",\"blue\",\"blue\",\"blue\",\"blue\",\"blue\",\"blue\",\"blue\",\"blue\",\"blue\",\"blue\",\"blue\",\"blue\",\"blue\",\"blue\",\"blue\",\"blue\",\"blue\",\"blue\",\"blue\",\"blue\",\"blue\",\"blue\",\"blue\",\"blue\",\"blue\",\"blue\",\"blue\",\"blue\",\"blue\",\"blue\",\"blue\",\"blue\",\"blue\",\"blue\",\"blue\",\"blue\",\"blue\",\"blue\",\"blue\",\"blue\",\"blue\",\"blue\",\"blue\",\"blue\",\"blue\",\"blue\",\"blue\",\"blue\",\"blue\",\"blue\",\"blue\",\"blue\",\"blue\",\"blue\",\"blue\",\"blue\",\"blue\",\"blue\",\"blue\",\"blue\",\"blue\",\"blue\",\"blue\",\"blue\",\"blue\",\"blue\",\"blue\",\"blue\",\"blue\",\"blue\",\"blue\",\"blue\",\"blue\",\"blue\",\"blue\",\"blue\",\"blue\",\"blue\",\"blue\",\"blue\",\"blue\",\"blue\",\"blue\",\"blue\",\"blue\",\"blue\",\"blue\",\"blue\",\"blue\",\"blue\",\"blue\",\"blue\",\"blue\",\"blue\",\"blue\",\"blue\",\"blue\",\"blue\",\"blue\",\"blue\",\"blue\",\"blue\",\"blue\",\"blue\",\"blue\",\"blue\",\"blue\",\"blue\",\"blue\",\"blue\",\"blue\",\"blue\",\"blue\",\"blue\",\"blue\",\"blue\",\"blue\",\"blue\",\"blue\",\"blue\",\"blue\",\"blue\",\"blue\",\"blue\",\"blue\",\"blue\",\"blue\",\"blue\",\"blue\",\"blue\",\"blue\",\"blue\",\"blue\",\"blue\",\"blue\",\"blue\",\"blue\",\"blue\",\"blue\",\"blue\",\"blue\",\"blue\",\"blue\",\"blue\",\"blue\",\"blue\",\"blue\",\"blue\",\"blue\",\"blue\",\"blue\",\"blue\",\"blue\",\"blue\",\"blue\",\"blue\",\"blue\",\"blue\",\"blue\",\"blue\",\"blue\",\"blue\",\"blue\",\"blue\",\"blue\",\"blue\",\"blue\",\"blue\",\"blue\",\"blue\",\"blue\",\"blue\",\"blue\",\"blue\",\"blue\",\"blue\",\"blue\",\"blue\",\"blue\",\"blue\",\"blue\",\"blue\",\"blue\",\"blue\",\"blue\",\"blue\",\"blue\",\"blue\",\"blue\",\"blue\",\"blue\",\"blue\",\"blue\",\"blue\",\"blue\",\"blue\",\"blue\",\"blue\",\"blue\",\"blue\",\"blue\",\"blue\",\"blue\",\"blue\",\"blue\",\"blue\",\"blue\",\"blue\",\"blue\",\"blue\",\"blue\",\"blue\",\"blue\",\"blue\",\"blue\",\"blue\",\"blue\",\"blue\",\"blue\",\"blue\",\"blue\",\"blue\",\"blue\",\"blue\",\"blue\",\"blue\",\"blue\",\"blue\",\"blue\",\"blue\",\"blue\",\"blue\",\"blue\",\"blue\",\"blue\",\"blue\",\"blue\",\"blue\",\"blue\",\"blue\",\"blue\",\"blue\",\"blue\",\"blue\",\"blue\",\"blue\",\"blue\",\"blue\",\"blue\",\"blue\",\"blue\",\"blue\",\"blue\",\"blue\",\"blue\",\"blue\",\"blue\",\"blue\",\"blue\",\"blue\",\"blue\",\"blue\",\"blue\",\"blue\",\"blue\",\"blue\",\"blue\",\"blue\",\"blue\",\"blue\",\"blue\",\"blue\",\"blue\",\"blue\",\"blue\",\"blue\",\"blue\",\"blue\",\"blue\",\"blue\",\"blue\",\"blue\",\"blue\",\"blue\",\"blue\",\"blue\",\"blue\",\"blue\",\"blue\",\"blue\",\"blue\",\"blue\",\"blue\",\"blue\",\"blue\",\"blue\",\"blue\",\"blue\",\"blue\",\"blue\",\"blue\",\"blue\",\"blue\",\"blue\",\"blue\",\"blue\",\"blue\",\"blue\",\"blue\",\"blue\",\"blue\",\"blue\",\"blue\",\"blue\",\"blue\",\"blue\",\"blue\",\"blue\",\"blue\",\"blue\",\"blue\",\"blue\",\"blue\",\"blue\",\"blue\",\"blue\",\"blue\",\"blue\",\"blue\",\"blue\",\"blue\",\"blue\",\"blue\",\"blue\",\"blue\",\"blue\",\"blue\",\"blue\",\"blue\",\"blue\",\"blue\",\"blue\",\"blue\",\"blue\",\"blue\",\"blue\",\"blue\",\"blue\",\"blue\",\"blue\",\"blue\",\"blue\",\"blue\",\"blue\",\"blue\",\"blue\",\"blue\",\"blue\",\"blue\",\"blue\",\"blue\",\"blue\",\"blue\",\"blue\",\"blue\",\"blue\",\"blue\",\"blue\",\"blue\",\"blue\",\"blue\",\"blue\",\"blue\",\"blue\",\"blue\",\"blue\",\"blue\",\"blue\",\"blue\",\"blue\",\"blue\",\"blue\",\"blue\",\"blue\",\"blue\",\"blue\",\"blue\",\"blue\",\"blue\",\"blue\",\"blue\",\"blue\",\"blue\",\"blue\",\"blue\",\"blue\",\"blue\",\"blue\",\"blue\",\"blue\",\"blue\",\"blue\",\"blue\",\"blue\",\"blue\",\"blue\",\"blue\",\"blue\",\"blue\",\"blue\",\"blue\",\"blue\",\"blue\",\"blue\",\"blue\",\"blue\",\"blue\",\"blue\",\"blue\",\"blue\",\"blue\",\"blue\",\"blue\",\"blue\",\"blue\",\"blue\",\"blue\",\"blue\",\"blue\",\"blue\",\"blue\",\"blue\",\"blue\",\"blue\",\"blue\",\"blue\",\"blue\",\"blue\",\"blue\",\"blue\",\"blue\",\"blue\",\"blue\",\"blue\",\"blue\",\"blue\",\"blue\",\"blue\",\"blue\",\"blue\",\"blue\",\"blue\",\"blue\",\"blue\",\"blue\",\"blue\",\"blue\",\"blue\",\"blue\",\"blue\",\"blue\",\"blue\",\"blue\",\"blue\",\"blue\",\"blue\",\"blue\",\"blue\",\"blue\",\"blue\",\"blue\",\"blue\",\"blue\",\"blue\",\"blue\",\"blue\",\"blue\",\"blue\",\"blue\",\"blue\",\"blue\",\"blue\",\"blue\",\"blue\",\"blue\",\"blue\",\"blue\",\"blue\",\"blue\",\"blue\",\"blue\",\"blue\",\"blue\",\"blue\",\"blue\",\"blue\",\"blue\",\"blue\",\"blue\",\"blue\",\"blue\",\"blue\",\"blue\",\"blue\",\"blue\",\"blue\",\"blue\",\"blue\",\"blue\",\"blue\",\"blue\",\"blue\",\"blue\",\"blue\",\"blue\",\"blue\",\"blue\",\"blue\",\"blue\",\"blue\",\"blue\",\"blue\",\"blue\",\"blue\",\"blue\",\"blue\",\"blue\",\"blue\",\"blue\",\"blue\",\"blue\",\"blue\",\"blue\",\"blue\",\"blue\",\"blue\",\"blue\",\"blue\",\"blue\",\"blue\",\"blue\",\"blue\",\"blue\",\"blue\",\"blue\",\"blue\",\"blue\",\"blue\",\"blue\",\"blue\",\"blue\",\"blue\",\"blue\",\"blue\",\"blue\",\"blue\",\"blue\",\"blue\",\"blue\",\"blue\",\"blue\",\"blue\",\"blue\",\"blue\",\"blue\",\"blue\",\"blue\",\"blue\",\"blue\",\"blue\",\"blue\",\"blue\",\"blue\",\"blue\",\"blue\",\"blue\",\"blue\",\"blue\",\"blue\",\"blue\",\"blue\",\"blue\",\"blue\",\"blue\",\"blue\",\"blue\",\"blue\",\"blue\",\"blue\",\"blue\",\"blue\",\"blue\",\"blue\",\"blue\",\"blue\",\"blue\",\"blue\",\"blue\",\"blue\",\"blue\",\"blue\",\"blue\",\"blue\",\"blue\",\"blue\",\"blue\",\"blue\",\"blue\",\"blue\",\"blue\",\"blue\",\"blue\",\"blue\",\"blue\",\"blue\",\"blue\",\"blue\",\"blue\",\"blue\",\"blue\",\"blue\",\"blue\",\"blue\",\"blue\",\"blue\",\"blue\",\"blue\",\"blue\",\"blue\",\"blue\",\"blue\",\"blue\",\"blue\",\"blue\",\"blue\",\"blue\",\"blue\",\"blue\",\"blue\",\"blue\",\"blue\",\"blue\",\"blue\",\"blue\",\"blue\",\"blue\",\"blue\",\"blue\",\"blue\",\"blue\",\"blue\",\"blue\",\"blue\",\"blue\",\"blue\",\"blue\",\"blue\",\"blue\",\"blue\",\"blue\",\"blue\",\"blue\",\"blue\",\"blue\",\"blue\",\"blue\",\"blue\",\"blue\",\"blue\",\"blue\",\"blue\",\"blue\",\"blue\",\"blue\",\"blue\",\"blue\",\"blue\",\"blue\",\"blue\",\"blue\",\"blue\",\"blue\",\"blue\",\"blue\",\"blue\",\"blue\",\"blue\",\"blue\",\"blue\",\"blue\",\"blue\",\"blue\",\"blue\",\"blue\",\"blue\",\"blue\",\"blue\",\"blue\",\"blue\",\"blue\",\"blue\",\"blue\",\"blue\",\"blue\",\"blue\",\"blue\",\"blue\",\"blue\",\"blue\",\"blue\",\"blue\",\"blue\",\"blue\",\"blue\",\"blue\",\"blue\",\"blue\",\"blue\",\"blue\",\"blue\",\"blue\",\"blue\",\"blue\",\"blue\",\"blue\",\"blue\",\"blue\",\"blue\",\"blue\",\"blue\",\"blue\",\"blue\",\"blue\",\"blue\",\"blue\",\"blue\",\"blue\",\"blue\",\"blue\",\"blue\",\"blue\",\"blue\",\"blue\",\"blue\",\"blue\",\"blue\",\"blue\",\"blue\",\"blue\",\"blue\",\"blue\",\"blue\",\"blue\",\"blue\",\"blue\",\"blue\",\"blue\",\"blue\",\"blue\",\"blue\",\"blue\",\"blue\",\"blue\",\"blue\",\"blue\",\"blue\",\"blue\",\"blue\",\"blue\",\"blue\",\"blue\",\"blue\",\"blue\",\"blue\",\"blue\",\"blue\",\"blue\",\"blue\",\"blue\",\"blue\",\"blue\",\"blue\",\"blue\",\"blue\",\"blue\",\"blue\",\"blue\",\"blue\",\"blue\",\"blue\",\"blue\",\"blue\",\"blue\",\"blue\",\"blue\",\"blue\",\"blue\",\"blue\",\"blue\",\"blue\",\"blue\",\"blue\",\"blue\",\"blue\",\"blue\",\"blue\",\"blue\",\"blue\",\"blue\",\"blue\",\"blue\",\"blue\",\"blue\",\"blue\",\"blue\",\"blue\",\"blue\",\"blue\",\"blue\",\"blue\",\"blue\",\"blue\",\"blue\",\"blue\",\"blue\",\"blue\",\"blue\",\"blue\",\"blue\",\"blue\",\"blue\",\"blue\",\"blue\",\"blue\",\"blue\",\"blue\",\"blue\",\"blue\",\"blue\",\"blue\",\"blue\",\"blue\",\"blue\",\"blue\",\"blue\",\"blue\",\"blue\",\"blue\",\"blue\",\"blue\",\"blue\",\"blue\",\"blue\",\"blue\",\"blue\",\"blue\",\"blue\",\"blue\",\"blue\",\"blue\",\"blue\",\"blue\",\"blue\",\"blue\",\"blue\",\"blue\",\"blue\",\"blue\",\"blue\",\"blue\",\"blue\",\"blue\",\"blue\",\"blue\",\"blue\",\"blue\",\"blue\",\"blue\",\"blue\",\"blue\",\"blue\",\"blue\",\"blue\",\"blue\",\"blue\",\"blue\",\"blue\",\"blue\",\"blue\",\"blue\",\"blue\",\"blue\",\"blue\",\"blue\",\"blue\",\"blue\",\"blue\",\"blue\",\"blue\",\"blue\",\"blue\",\"blue\",\"blue\",\"blue\",\"blue\",\"blue\",\"blue\",\"blue\",\"blue\",\"blue\",\"blue\",\"blue\",\"blue\",\"blue\",\"blue\",\"blue\",\"blue\",\"blue\",\"blue\",\"blue\",\"blue\",\"blue\",\"blue\",\"blue\",\"blue\",\"blue\",\"blue\",\"blue\",\"blue\",\"blue\",\"blue\",\"blue\",\"blue\",\"blue\",\"blue\",\"blue\",\"blue\",\"blue\",\"blue\",\"blue\",\"blue\",\"blue\",\"blue\",\"blue\",\"blue\",\"blue\",\"blue\",\"blue\",\"blue\",\"blue\",\"blue\",\"blue\",\"blue\",\"blue\",\"blue\",\"blue\",\"blue\",\"blue\",\"blue\",\"blue\",\"blue\",\"blue\",\"blue\",\"blue\",\"blue\",\"blue\",\"blue\",\"blue\",\"blue\",\"blue\",\"blue\",\"blue\",\"blue\",\"blue\",\"blue\",\"blue\",\"blue\",\"blue\",\"blue\",\"blue\",\"blue\",\"blue\",\"blue\",\"blue\",\"blue\",\"blue\",\"blue\",\"blue\",\"blue\",\"blue\",\"blue\",\"blue\",\"blue\",\"blue\",\"blue\",\"blue\",\"blue\",\"blue\",\"blue\",\"blue\",\"blue\",\"blue\",\"blue\",\"blue\",\"blue\",\"blue\",\"blue\",\"blue\",\"blue\",\"blue\",\"blue\",\"blue\",\"blue\",\"blue\",\"blue\",\"blue\",\"blue\",\"blue\",\"blue\",\"blue\",\"blue\",\"blue\",\"blue\",\"blue\",\"blue\",\"blue\",\"blue\",\"blue\",\"blue\",\"blue\",\"blue\",\"blue\",\"blue\",\"blue\",\"blue\",\"blue\",\"blue\",\"blue\",\"blue\",\"blue\",\"blue\",\"blue\",\"blue\",\"blue\",\"blue\",\"blue\",\"blue\",\"blue\",\"blue\",\"blue\",\"blue\",\"blue\",\"blue\",\"blue\",\"blue\",\"blue\",\"blue\",\"blue\",\"blue\",\"blue\",\"blue\",\"blue\",\"blue\",\"blue\",\"blue\",\"blue\",\"blue\",\"blue\",\"blue\",\"blue\",\"blue\",\"blue\",\"blue\",\"blue\",\"blue\",\"blue\",\"blue\",\"blue\",\"blue\",\"blue\",\"blue\",\"blue\",\"blue\",\"blue\",\"blue\",\"blue\",\"blue\",\"blue\",\"blue\",\"blue\",\"blue\",\"blue\",\"blue\",\"blue\",\"blue\",\"blue\",\"blue\",\"blue\",\"blue\",\"blue\",\"blue\",\"blue\",\"blue\",\"blue\",\"blue\",\"blue\",\"blue\",\"blue\",\"blue\",\"blue\",\"blue\",\"blue\",\"blue\",\"blue\",\"blue\",\"blue\",\"blue\",\"blue\",\"blue\",\"blue\",\"blue\",\"blue\",\"blue\",\"blue\",\"blue\",\"blue\",\"blue\",\"blue\",\"blue\",\"blue\",\"blue\",\"blue\",\"blue\",\"blue\",\"blue\",\"blue\",\"blue\",\"blue\",\"blue\",\"blue\",\"blue\",\"blue\",\"blue\",\"blue\",\"blue\",\"blue\",\"blue\",\"blue\",\"blue\",\"blue\",\"blue\",\"blue\",\"blue\",\"blue\",\"blue\",\"blue\",\"blue\",\"blue\",\"blue\",\"blue\",\"blue\",\"blue\",\"blue\",\"blue\",\"blue\",\"blue\",\"blue\",\"blue\",\"blue\",\"blue\",\"blue\",\"blue\",\"blue\",\"blue\",\"blue\",\"blue\",\"blue\",\"blue\",\"blue\",\"blue\",\"blue\",\"blue\",\"blue\",\"blue\",\"blue\",\"blue\",\"blue\",\"blue\",\"blue\",\"blue\",\"blue\",\"blue\",\"blue\",\"blue\",\"blue\",\"blue\",\"blue\",\"blue\",\"blue\",\"blue\",\"blue\",\"blue\",\"blue\",\"blue\",\"blue\",\"blue\",\"blue\",\"blue\",\"blue\",\"blue\",\"blue\",\"blue\",\"blue\",\"blue\",\"blue\",\"blue\",\"blue\",\"blue\",\"blue\",\"blue\",\"blue\",\"blue\",\"blue\",\"blue\",\"blue\",\"blue\",\"blue\",\"blue\",\"blue\",\"blue\",\"blue\",\"blue\",\"blue\",\"blue\",\"blue\",\"blue\",\"blue\",\"blue\",\"blue\",\"blue\",\"blue\",\"blue\",\"blue\",\"blue\",\"blue\",\"blue\",\"blue\",\"blue\",\"blue\",\"blue\",\"blue\",\"blue\",\"blue\",\"blue\",\"blue\",\"blue\",\"blue\",\"blue\",\"blue\",\"blue\",\"blue\",\"blue\",\"blue\",\"blue\",\"blue\",\"blue\",\"blue\",\"blue\",\"blue\",\"blue\",\"blue\",\"blue\",\"blue\",\"blue\",\"blue\",\"blue\",\"blue\",\"blue\",\"blue\",\"blue\",\"blue\",\"blue\",\"blue\",\"blue\",\"blue\",\"blue\",\"blue\",\"blue\",\"blue\",\"blue\",\"blue\",\"blue\",\"blue\",\"blue\",\"blue\",\"blue\",\"blue\",\"blue\",\"blue\",\"blue\",\"blue\",\"blue\",\"blue\",\"blue\",\"blue\",\"blue\",\"blue\",\"blue\",\"blue\",\"blue\",\"blue\",\"blue\",\"blue\",\"blue\",\"blue\",\"blue\",\"blue\",\"blue\",\"blue\",\"blue\",\"blue\",\"blue\",\"blue\",\"blue\",\"blue\",\"blue\",\"blue\",\"blue\",\"blue\",\"blue\",\"blue\",\"blue\",\"blue\",\"blue\",\"blue\",\"blue\",\"blue\",\"blue\",\"blue\",\"blue\",\"blue\",\"blue\",\"blue\",\"blue\",\"blue\",\"blue\",\"blue\",\"blue\",\"blue\",\"blue\",\"blue\",\"blue\",\"blue\",\"blue\",\"blue\",\"blue\",\"blue\",\"blue\",\"blue\",\"blue\",\"blue\",\"blue\",\"blue\",\"blue\",\"blue\",\"blue\",\"blue\",\"blue\",\"blue\",\"blue\",\"blue\",\"blue\",\"blue\",\"blue\",\"blue\",\"blue\",\"blue\",\"blue\",\"blue\",\"blue\",\"blue\",\"blue\",\"blue\",\"blue\",\"blue\",\"blue\",\"blue\",\"blue\",\"blue\",\"blue\",\"blue\",\"blue\",\"blue\",\"blue\",\"blue\",\"blue\",\"blue\",\"blue\",\"blue\",\"blue\",\"blue\",\"blue\",\"blue\",\"blue\",\"blue\",\"blue\",\"blue\",\"blue\",\"blue\",\"blue\",\"blue\",\"blue\",\"blue\",\"blue\",\"blue\",\"blue\",\"blue\",\"blue\",\"blue\",\"blue\",\"blue\",\"blue\",\"blue\",\"blue\",\"blue\",\"blue\",\"blue\",\"blue\",\"blue\",\"blue\",\"blue\",\"blue\",\"blue\",\"blue\",\"blue\",\"blue\",\"blue\",\"blue\",\"blue\",\"blue\",\"blue\",\"blue\",\"blue\",\"blue\",\"blue\",\"blue\",\"blue\",\"blue\",\"blue\",\"blue\",\"blue\",\"blue\",\"blue\",\"blue\",\"blue\",\"blue\",\"blue\",\"blue\",\"blue\",\"blue\",\"blue\",\"blue\",\"blue\",\"blue\",\"blue\",\"blue\",\"blue\",\"blue\",\"blue\",\"blue\",\"blue\",\"blue\",\"blue\",\"blue\",\"blue\",\"blue\",\"blue\",\"blue\",\"blue\",\"blue\",\"blue\",\"blue\",\"blue\",\"blue\",\"blue\",\"blue\",\"blue\",\"blue\",\"blue\",\"blue\",\"blue\",\"blue\",\"blue\",\"blue\",\"blue\",\"blue\",\"blue\",\"blue\",\"blue\",\"blue\",\"blue\",\"blue\",\"blue\",\"blue\",\"blue\",\"blue\",\"blue\",\"blue\",\"blue\",\"blue\",\"blue\",\"blue\",\"blue\",\"blue\",\"blue\",\"blue\",\"blue\",\"blue\",\"blue\",\"blue\",\"blue\",\"blue\",\"blue\",\"blue\",\"blue\",\"blue\",\"blue\",\"blue\",\"blue\",\"blue\",\"blue\",\"blue\",\"blue\",\"blue\",\"blue\",\"blue\",\"blue\",\"blue\",\"blue\",\"blue\",\"blue\",\"blue\",\"blue\",\"blue\",\"blue\",\"blue\",\"blue\",\"blue\",\"blue\",\"blue\",\"blue\",\"blue\",\"blue\",\"blue\",\"blue\",\"blue\",\"blue\",\"blue\",\"blue\",\"blue\",\"blue\",\"blue\",\"blue\",\"blue\",\"blue\",\"blue\",\"blue\",\"blue\",\"blue\",\"blue\",\"blue\",\"blue\",\"blue\",\"blue\",\"blue\",\"blue\",\"blue\",\"blue\",\"blue\",\"blue\",\"blue\",\"blue\",\"blue\",\"blue\",\"blue\",\"blue\",\"blue\",\"blue\",\"blue\",\"blue\",\"blue\",\"blue\",\"blue\",\"blue\",\"blue\",\"blue\",\"blue\",\"blue\",\"blue\",\"blue\",\"blue\",\"blue\",\"blue\",\"blue\",\"blue\",\"blue\",\"blue\",\"blue\",\"blue\",\"blue\",\"blue\",\"blue\",\"blue\",\"blue\",\"blue\",\"blue\",\"blue\",\"blue\",\"blue\",\"blue\",\"blue\",\"blue\",\"blue\",\"blue\",\"blue\",\"blue\",\"blue\",\"blue\",\"blue\",\"blue\",\"blue\",\"blue\",\"blue\",\"blue\",\"blue\",\"blue\",\"blue\",\"blue\",\"blue\",\"blue\",\"blue\",\"blue\",\"blue\",\"blue\",\"blue\",\"blue\",\"blue\",\"blue\",\"blue\",\"blue\",\"blue\",\"blue\",\"blue\",\"blue\",\"blue\",\"blue\",\"blue\",\"blue\",\"blue\",\"blue\",\"blue\",\"blue\",\"blue\",\"blue\",\"blue\",\"blue\",\"blue\",\"blue\",\"blue\",\"blue\",\"blue\",\"blue\",\"blue\",\"blue\",\"blue\",\"blue\",\"blue\",\"blue\",\"blue\",\"blue\",\"blue\",\"blue\",\"blue\",\"blue\",\"blue\",\"blue\",\"blue\",\"blue\",\"blue\",\"blue\",\"blue\",\"blue\",\"blue\",\"blue\",\"blue\",\"blue\",\"blue\",\"blue\",\"blue\",\"blue\",\"blue\",\"blue\",\"blue\",\"blue\",\"blue\",\"blue\",\"blue\",\"blue\",\"blue\",\"blue\",\"blue\",\"blue\",\"blue\",\"blue\",\"blue\",\"blue\",\"blue\",\"blue\",\"blue\",\"blue\",\"blue\",\"blue\",\"blue\",\"blue\",\"blue\",\"blue\",\"blue\",\"blue\",\"blue\",\"blue\",\"blue\",\"blue\",\"blue\",\"blue\",\"blue\",\"blue\",\"blue\",\"blue\",\"blue\",\"blue\",\"blue\",\"blue\",\"blue\",\"blue\",\"blue\",\"blue\",\"blue\",\"blue\",\"blue\",\"blue\",\"blue\",\"blue\",\"blue\",\"blue\",\"blue\",\"blue\",\"blue\",\"blue\",\"blue\",\"blue\",\"blue\",\"blue\",\"blue\",\"blue\",\"blue\",\"blue\",\"blue\",\"blue\",\"blue\",\"blue\",\"blue\",\"blue\",\"blue\",\"blue\",\"blue\",\"blue\",\"blue\",\"blue\",\"blue\",\"blue\",\"blue\",\"blue\",\"blue\",\"blue\",\"blue\",\"blue\",\"blue\",\"blue\",\"blue\",\"blue\",\"blue\",\"blue\",\"blue\",\"blue\",\"blue\",\"blue\",\"blue\",\"blue\",\"blue\",\"blue\",\"blue\",\"blue\",\"blue\",\"blue\",\"blue\",\"blue\",\"blue\",\"blue\",\"blue\",\"blue\",\"blue\",\"blue\",\"blue\",\"blue\",\"blue\",\"blue\",\"blue\",\"blue\",\"blue\",\"blue\",\"blue\",\"blue\",\"blue\",\"blue\",\"blue\",\"blue\",\"blue\",\"blue\",\"blue\",\"blue\",\"blue\",\"blue\",\"blue\",\"blue\",\"blue\",\"blue\",\"blue\",\"blue\",\"blue\",\"blue\",\"blue\",\"blue\",\"blue\",\"blue\",\"blue\",\"blue\",\"blue\",\"blue\",\"blue\",\"blue\",\"blue\",\"blue\",\"blue\",\"blue\",\"blue\",\"blue\",\"blue\",\"blue\",\"blue\",\"blue\",\"blue\",\"blue\",\"blue\",\"blue\",\"blue\",\"blue\",\"blue\",\"blue\",\"blue\",\"blue\",\"blue\",\"blue\",\"blue\",\"blue\",\"blue\",\"blue\",\"blue\",\"blue\",\"blue\",\"blue\",\"blue\",\"blue\",\"blue\",\"blue\",\"blue\",\"blue\",\"blue\",\"blue\",\"blue\",\"blue\",\"blue\",\"blue\",\"blue\",\"blue\",\"blue\",\"blue\",\"blue\",\"blue\",\"blue\",\"blue\",\"blue\",\"blue\",\"blue\",\"blue\",\"blue\",\"blue\",\"blue\",\"blue\",\"blue\",\"blue\",\"blue\",\"blue\",\"blue\",\"blue\",\"blue\",\"blue\",\"blue\",\"blue\",\"blue\",\"blue\",\"blue\",\"blue\",\"blue\",\"blue\",\"blue\",\"blue\",\"blue\",\"blue\",\"blue\",\"blue\",\"blue\",\"blue\",\"blue\",\"blue\",\"blue\",\"blue\",\"blue\",\"blue\",\"blue\",\"blue\",\"blue\",\"blue\",\"blue\",\"blue\",\"blue\",\"blue\",\"blue\",\"blue\",\"blue\",\"blue\",\"blue\",\"blue\",\"blue\",\"blue\",\"blue\",\"blue\",\"blue\",\"blue\",\"blue\",\"blue\",\"blue\",\"blue\",\"blue\",\"blue\",\"blue\",\"blue\",\"blue\",\"blue\",\"blue\",\"blue\",\"blue\",\"blue\",\"blue\",\"blue\",\"blue\",\"blue\",\"blue\",\"blue\",\"blue\",\"blue\",\"blue\",\"blue\",\"blue\",\"blue\",\"blue\",\"blue\",\"blue\",\"blue\",\"blue\",\"blue\",\"blue\",\"blue\",\"blue\",\"blue\",\"blue\",\"blue\",\"blue\",\"blue\",\"blue\",\"blue\",\"blue\",\"blue\",\"blue\",\"blue\",\"blue\",\"blue\",\"blue\",\"blue\",\"blue\",\"blue\",\"blue\",\"blue\",\"blue\",\"blue\",\"blue\",\"blue\",\"blue\",\"blue\",\"blue\",\"blue\",\"blue\",\"blue\",\"blue\",\"blue\",\"blue\",\"blue\",\"blue\",\"blue\",\"blue\",\"blue\",\"blue\",\"blue\",\"blue\",\"blue\",\"blue\",\"blue\",\"blue\",\"blue\",\"blue\",\"blue\",\"blue\",\"blue\",\"blue\",\"blue\",\"blue\",\"blue\",\"blue\",\"blue\",\"blue\",\"blue\",\"blue\",\"blue\",\"blue\",\"blue\",\"blue\",\"blue\",\"blue\",\"blue\",\"blue\",\"blue\",\"blue\",\"blue\",\"blue\",\"blue\",\"blue\",\"blue\",\"blue\",\"blue\",\"blue\",\"blue\",\"blue\",\"blue\",\"blue\",\"blue\",\"blue\",\"blue\",\"blue\",\"blue\",\"blue\",\"blue\",\"blue\",\"blue\",\"blue\",\"blue\",\"blue\",\"blue\",\"blue\",\"blue\",\"blue\",\"blue\",\"blue\",\"blue\",\"blue\",\"blue\",\"blue\",\"blue\",\"blue\",\"blue\",\"blue\",\"blue\",\"blue\",\"blue\",\"blue\",\"blue\",\"blue\",\"blue\",\"blue\",\"blue\",\"blue\",\"blue\",\"blue\",\"blue\",\"blue\",\"blue\",\"blue\",\"blue\",\"blue\",\"blue\",\"blue\",\"blue\",\"blue\",\"blue\",\"blue\",\"blue\",\"blue\",\"blue\",\"blue\",\"blue\",\"blue\",\"blue\",\"blue\",\"blue\",\"blue\",\"blue\",\"blue\",\"blue\",\"blue\",\"blue\",\"blue\",\"blue\",\"blue\",\"blue\",\"blue\",\"blue\",\"blue\",\"blue\",\"blue\",\"blue\",\"blue\",\"blue\",\"blue\",\"blue\",\"blue\",\"blue\",\"blue\",\"blue\",\"blue\",\"blue\",\"blue\",\"blue\",\"blue\",\"blue\",\"blue\",\"blue\",\"blue\",\"blue\",\"blue\",\"blue\",\"blue\",\"blue\",\"blue\",\"blue\",\"blue\",\"blue\",\"blue\",\"blue\",\"blue\",\"blue\",\"blue\",\"blue\",\"blue\",\"blue\",\"blue\",\"blue\",\"blue\",\"blue\",\"blue\",\"blue\",\"blue\",\"blue\",\"blue\",\"blue\",\"blue\",\"blue\",\"blue\",\"blue\",\"blue\",\"blue\",\"blue\",\"blue\",\"blue\",\"blue\",\"blue\",\"blue\",\"blue\",\"blue\",\"blue\",\"blue\",\"blue\",\"blue\",\"blue\",\"blue\",\"blue\",\"blue\",\"blue\",\"blue\",\"blue\",\"blue\",\"blue\",\"blue\",\"blue\",\"blue\",\"blue\",\"blue\",\"blue\",\"blue\",\"blue\",\"blue\",\"blue\",\"blue\",\"blue\",\"blue\",\"blue\",\"blue\",\"blue\",\"blue\",\"blue\",\"blue\",\"blue\",\"blue\",\"blue\",\"blue\",\"blue\",\"blue\",\"blue\",\"blue\",\"blue\",\"blue\",\"blue\",\"blue\",\"blue\",\"blue\",\"blue\",\"blue\",\"blue\",\"blue\",\"blue\",\"blue\",\"blue\",\"blue\",\"blue\",\"blue\",\"blue\",\"blue\",\"blue\",\"blue\",\"blue\",\"blue\",\"blue\",\"blue\",\"blue\",\"blue\",\"blue\",\"blue\",\"blue\",\"blue\",\"blue\",\"blue\",\"blue\",\"blue\",\"blue\",\"blue\",\"blue\",\"blue\",\"blue\",\"blue\",\"blue\",\"blue\",\"blue\",\"blue\",\"blue\",\"blue\",\"blue\",\"blue\",\"blue\",\"blue\",\"blue\",\"blue\",\"blue\",\"blue\",\"blue\",\"blue\",\"blue\",\"blue\",\"blue\",\"blue\",\"blue\",\"blue\",\"blue\",\"blue\",\"blue\",\"blue\",\"blue\",\"blue\",\"blue\",\"blue\",\"blue\",\"blue\",\"blue\",\"blue\",\"blue\",\"blue\",\"blue\",\"blue\",\"blue\",\"blue\",\"blue\",\"blue\",\"blue\",\"blue\",\"blue\",\"blue\",\"blue\",\"blue\",\"blue\",\"blue\",\"blue\",\"blue\",\"blue\",\"blue\",\"blue\",\"blue\",\"blue\",\"blue\",\"blue\",\"blue\",\"blue\",\"blue\",\"blue\",\"blue\",\"blue\",\"blue\",\"blue\",\"blue\",\"blue\",\"blue\",\"blue\",\"blue\",\"blue\",\"blue\",\"blue\",\"blue\",\"blue\",\"blue\",\"blue\",\"blue\",\"blue\",\"blue\",\"blue\",\"blue\",\"blue\",\"blue\",\"blue\",\"blue\",\"blue\",\"blue\",\"blue\",\"blue\",\"blue\",\"blue\",\"blue\",\"blue\",\"blue\",\"blue\",\"blue\",\"blue\",\"blue\",\"blue\",\"blue\",\"blue\",\"blue\",\"blue\",\"blue\",\"blue\",\"blue\",\"blue\",\"blue\",\"blue\",\"blue\",\"blue\",\"blue\",\"blue\",\"blue\",\"blue\",\"blue\",\"blue\",\"blue\",\"blue\",\"blue\",\"blue\",\"blue\",\"blue\",\"blue\",\"blue\",\"blue\",\"blue\",\"blue\",\"blue\",\"blue\",\"blue\",\"blue\",\"blue\",\"blue\",\"blue\",\"blue\",\"blue\",\"blue\",\"blue\",\"blue\",\"blue\",\"blue\",\"blue\",\"blue\",\"blue\",\"blue\",\"blue\",\"blue\",\"blue\",\"blue\",\"blue\",\"blue\",\"blue\",\"blue\",\"blue\",\"blue\",\"blue\",\"blue\",\"blue\",\"blue\",\"blue\",\"blue\",\"blue\",\"blue\",\"blue\",\"blue\",\"blue\",\"blue\",\"blue\",\"blue\",\"blue\",\"blue\",\"blue\",\"blue\",\"blue\",\"blue\",\"blue\",\"blue\",\"blue\",\"blue\",\"blue\",\"blue\",\"blue\",\"blue\",\"blue\",\"blue\",\"blue\",\"blue\",\"blue\",\"blue\",\"blue\",\"blue\",\"blue\",\"blue\",\"blue\",\"blue\",\"blue\",\"blue\",\"blue\",\"blue\",\"blue\",\"blue\",\"blue\",\"blue\",\"blue\",\"blue\",\"blue\",\"blue\",\"blue\",\"blue\",\"blue\",\"blue\",\"blue\",\"blue\",\"blue\",\"blue\",\"blue\",\"blue\",\"blue\",\"blue\",\"blue\",\"blue\",\"blue\",\"blue\",\"blue\",\"blue\",\"blue\",\"blue\",\"blue\",\"blue\",\"blue\",\"blue\",\"blue\",\"blue\",\"blue\",\"blue\",\"blue\",\"blue\",\"blue\",\"blue\",\"blue\",\"blue\",\"blue\",\"blue\",\"blue\",\"blue\",\"blue\",\"blue\",\"blue\",\"blue\",\"blue\",\"blue\",\"blue\",\"blue\",\"blue\",\"blue\",\"blue\",\"blue\",\"blue\",\"blue\",\"blue\",\"blue\",\"blue\",\"blue\",\"blue\",\"blue\",\"blue\",\"blue\",\"blue\",\"blue\",\"blue\",\"blue\",\"blue\",\"blue\",\"blue\",\"blue\",\"blue\",\"blue\",\"blue\",\"blue\",\"blue\",\"blue\",\"blue\",\"blue\",\"blue\",\"blue\",\"blue\",\"blue\",\"blue\",\"blue\",\"blue\",\"blue\",\"blue\",\"blue\",\"blue\",\"blue\",\"blue\",\"blue\",\"blue\",\"blue\",\"blue\",\"blue\",\"blue\",\"blue\",\"blue\",\"blue\",\"blue\",\"blue\",\"blue\",\"blue\",\"blue\",\"blue\",\"blue\",\"blue\",\"blue\",\"blue\",\"blue\",\"blue\",\"blue\",\"blue\",\"blue\",\"blue\",\"blue\",\"blue\",\"blue\",\"blue\",\"blue\",\"blue\",\"blue\",\"blue\",\"blue\",\"blue\",\"blue\",\"blue\",\"blue\",\"blue\",\"blue\",\"blue\",\"blue\",\"blue\",\"blue\",\"blue\",\"blue\",\"blue\",\"blue\",\"blue\",\"blue\",\"blue\",\"blue\",\"blue\",\"blue\",\"blue\",\"blue\",\"blue\",\"blue\",\"blue\",\"blue\",\"blue\",\"blue\",\"blue\",\"blue\",\"blue\",\"blue\",\"blue\",\"blue\",\"blue\",\"blue\",\"blue\",\"blue\",\"blue\",\"blue\",\"blue\",\"blue\",\"blue\",\"blue\",\"blue\",\"blue\",\"blue\",\"blue\",\"blue\",\"blue\",\"blue\",\"blue\",\"blue\",\"blue\",\"blue\",\"blue\",\"blue\",\"blue\",\"blue\",\"blue\",\"blue\",\"blue\",\"blue\",\"blue\",\"blue\",\"blue\",\"blue\",\"blue\",\"blue\",\"blue\",\"blue\",\"blue\",\"blue\",\"blue\",\"blue\",\"blue\",\"blue\",\"blue\",\"blue\",\"blue\",\"blue\",\"blue\",\"blue\",\"blue\",\"blue\",\"blue\",\"blue\",\"blue\",\"blue\",\"blue\",\"blue\",\"blue\",\"blue\",\"blue\",\"blue\",\"blue\",\"blue\",\"blue\",\"blue\",\"blue\",\"blue\",\"blue\",\"blue\",\"blue\",\"blue\",\"blue\",\"blue\",\"blue\",\"blue\",\"blue\",\"blue\",\"blue\",\"blue\",\"blue\",\"blue\",\"blue\",\"blue\",\"blue\",\"blue\",\"blue\",\"blue\",\"blue\",\"blue\",\"blue\",\"blue\",\"blue\",\"blue\",\"blue\",\"blue\",\"blue\",\"blue\",\"blue\",\"blue\",\"blue\",\"blue\",\"blue\",\"blue\",\"blue\",\"blue\",\"blue\",\"blue\",\"blue\",\"blue\",\"blue\",\"blue\",\"blue\",\"blue\",\"blue\",\"blue\",\"blue\",\"blue\",\"blue\",\"blue\",\"blue\",\"blue\",\"blue\",\"blue\",\"blue\",\"blue\",\"blue\",\"blue\",\"blue\",\"blue\",\"blue\",\"blue\",\"blue\",\"blue\",\"blue\",\"blue\",\"blue\",\"blue\",\"blue\",\"blue\",\"blue\",\"blue\",\"blue\",\"blue\",\"blue\",\"blue\",\"blue\",\"blue\",\"blue\",\"blue\",\"blue\",\"blue\",\"blue\",\"blue\",\"blue\",\"blue\",\"blue\",\"blue\",\"blue\",\"blue\",\"blue\",\"blue\",\"blue\",\"blue\",\"blue\",\"blue\",\"blue\",\"blue\",\"blue\",\"blue\",\"blue\",\"blue\",\"blue\",\"blue\",\"blue\",\"blue\",\"blue\",\"blue\",\"blue\",\"blue\",\"blue\",\"blue\",\"blue\",\"blue\",\"blue\",\"blue\",\"blue\",\"blue\",\"blue\",\"blue\",\"blue\",\"blue\",\"blue\",\"blue\",\"blue\",\"blue\",\"blue\",\"blue\",\"blue\",\"blue\",\"blue\",\"blue\",\"blue\",\"blue\",\"blue\",\"blue\",\"blue\",\"blue\",\"blue\",\"blue\",\"blue\",\"blue\",\"blue\",\"blue\",\"blue\",\"blue\",\"blue\",\"blue\",\"blue\",\"blue\",\"blue\",\"blue\",\"blue\",\"blue\",\"blue\",\"blue\",\"blue\",\"blue\",\"blue\",\"blue\",\"blue\",\"blue\",\"blue\",\"blue\",\"blue\",\"blue\",\"blue\",\"blue\",\"blue\",\"blue\",\"blue\",\"blue\",\"blue\",\"blue\",\"blue\",\"blue\",\"blue\",\"blue\",\"blue\",\"blue\",\"blue\",\"blue\",\"blue\",\"blue\",\"blue\",\"blue\",\"blue\",\"blue\",\"blue\",\"blue\",\"blue\",\"blue\",\"blue\",\"blue\",\"blue\",\"blue\",\"blue\",\"blue\",\"blue\",\"blue\",\"blue\",\"blue\",\"blue\",\"blue\",\"blue\",\"blue\",\"blue\",\"blue\",\"blue\",\"blue\",\"blue\",\"blue\",\"blue\",\"blue\",\"blue\",\"blue\",\"blue\",\"blue\",\"blue\",\"blue\",\"blue\",\"blue\",\"blue\",\"blue\",\"blue\",\"blue\",\"blue\",\"blue\",\"blue\",\"blue\",\"blue\",\"blue\",\"blue\",\"blue\",\"blue\",\"blue\",\"blue\",\"blue\",\"blue\",\"blue\",\"blue\",\"blue\",\"blue\",\"blue\",\"blue\",\"blue\",\"blue\",\"blue\",\"blue\",\"blue\",\"blue\",\"blue\",\"blue\",\"blue\",\"blue\",\"blue\",\"blue\",\"blue\",\"blue\",\"blue\",\"blue\",\"blue\",\"blue\",\"blue\",\"blue\",\"blue\",\"blue\",\"blue\",\"blue\",\"blue\",\"blue\",\"blue\",\"blue\",\"blue\",\"blue\",\"blue\",\"blue\",\"blue\",\"blue\",\"blue\",\"blue\",\"blue\",\"blue\",\"blue\",\"blue\",\"blue\",\"blue\",\"blue\",\"blue\",\"blue\",\"blue\",\"blue\",\"blue\",\"blue\",\"blue\",\"blue\",\"blue\",\"blue\",\"blue\",\"blue\",\"blue\",\"blue\",\"blue\",\"blue\",\"blue\",\"blue\",\"blue\",\"blue\",\"blue\",\"blue\",\"blue\",\"blue\",\"blue\",\"blue\",\"blue\",\"blue\",\"blue\",\"blue\",\"blue\",\"blue\",\"blue\",\"blue\",\"blue\",\"blue\",\"blue\",\"blue\",\"blue\",\"blue\",\"blue\",\"blue\",\"blue\",\"blue\",\"blue\",\"blue\",\"blue\",\"blue\",\"blue\",\"blue\",\"blue\",\"blue\",\"blue\",\"blue\",\"blue\",\"blue\",\"blue\",\"blue\",\"blue\",\"blue\",\"blue\",\"blue\",\"blue\",\"blue\",\"blue\",\"blue\",\"blue\",\"blue\",\"blue\",\"blue\",\"blue\",\"blue\",\"blue\",\"blue\",\"blue\",\"blue\",\"blue\",\"blue\",\"blue\",\"blue\",\"blue\",\"blue\",\"blue\",\"blue\",\"blue\",\"blue\",\"blue\",\"blue\",\"blue\",\"blue\",\"blue\",\"blue\",\"blue\",\"blue\",\"blue\",\"blue\",\"blue\",\"blue\",\"blue\",\"blue\",\"blue\",\"blue\",\"blue\",\"blue\",\"blue\",\"blue\",\"blue\",\"blue\",\"blue\",\"blue\",\"blue\",\"blue\",\"blue\",\"blue\",\"blue\",\"blue\",\"blue\",\"blue\",\"blue\",\"blue\",\"blue\",\"blue\",\"blue\",\"blue\",\"blue\",\"blue\",\"blue\",\"blue\",\"blue\",\"blue\",\"blue\",\"blue\",\"blue\",\"blue\",\"blue\",\"blue\",\"blue\",\"blue\",\"blue\",\"blue\",\"blue\",\"blue\",\"blue\",\"blue\",\"blue\",\"blue\",\"blue\",\"blue\",\"blue\",\"blue\",\"blue\",\"blue\",\"blue\",\"blue\",\"blue\",\"blue\",\"blue\",\"blue\",\"blue\",\"blue\",\"blue\",\"blue\",\"blue\",\"blue\",\"blue\",\"blue\",\"blue\",\"blue\",\"blue\",\"blue\",\"blue\",\"blue\",\"blue\",\"blue\",\"blue\",\"blue\",\"blue\",\"blue\",\"blue\",\"blue\",\"blue\",\"blue\",\"blue\",\"blue\",\"blue\",\"blue\",\"blue\",\"blue\",\"blue\",\"blue\",\"blue\",\"blue\",\"blue\",\"blue\",\"blue\",\"blue\",\"blue\",\"blue\",\"blue\",\"blue\",\"blue\",\"blue\",\"blue\",\"blue\",\"blue\",\"blue\",\"blue\",\"blue\",\"blue\",\"blue\",\"blue\",\"blue\",\"blue\",\"blue\",\"blue\",\"blue\",\"blue\",\"blue\",\"blue\",\"blue\",\"blue\",\"blue\",\"blue\",\"blue\",\"blue\",\"blue\",\"blue\",\"blue\",\"blue\",\"blue\",\"blue\",\"blue\",\"blue\",\"blue\",\"blue\",\"blue\",\"blue\",\"blue\",\"blue\",\"blue\",\"blue\",\"blue\",\"blue\",\"blue\",\"blue\",\"blue\",\"blue\",\"blue\",\"blue\",\"blue\",\"blue\",\"blue\",\"blue\",\"blue\",\"blue\",\"blue\",\"blue\",\"blue\",\"blue\",\"blue\",\"blue\",\"blue\",\"blue\",\"blue\",\"blue\",\"blue\",\"blue\",\"blue\",\"blue\",\"blue\",\"blue\",\"blue\",\"blue\",\"blue\",\"blue\",\"blue\",\"blue\",\"blue\",\"blue\",\"blue\",\"blue\",\"blue\",\"blue\",\"blue\",\"blue\",\"blue\",\"blue\",\"blue\",\"blue\",\"blue\",\"blue\",\"blue\",\"blue\",\"blue\",\"blue\",\"blue\",\"blue\",\"blue\",\"blue\",\"blue\",\"blue\",\"blue\",\"blue\",\"blue\",\"blue\",\"blue\",\"blue\",\"blue\",\"blue\",\"blue\",\"blue\",\"blue\",\"blue\",\"blue\",\"blue\",\"blue\",\"blue\",\"blue\",\"blue\",\"blue\",\"blue\",\"blue\",\"blue\",\"blue\",\"blue\",\"blue\",\"blue\",\"blue\",\"blue\",\"blue\",\"blue\",\"blue\",\"blue\",\"blue\",\"blue\",\"blue\",\"blue\",\"blue\",\"blue\",\"blue\",\"blue\",\"blue\",\"blue\",\"blue\",\"blue\",\"blue\",\"blue\",\"blue\",\"blue\",\"blue\",\"blue\",\"blue\",\"blue\",\"blue\",\"blue\",\"blue\",\"blue\",\"blue\",\"blue\",\"blue\",\"blue\",\"blue\",\"blue\",\"blue\",\"blue\",\"blue\",\"blue\",\"blue\",\"blue\",\"blue\",\"blue\",\"blue\",\"blue\",\"blue\",\"blue\",\"blue\",\"blue\",\"blue\",\"blue\",\"blue\",\"blue\",\"blue\",\"blue\",\"blue\",\"blue\",\"blue\",\"blue\",\"blue\",\"blue\",\"blue\",\"blue\",\"blue\",\"blue\",\"blue\",\"blue\",\"blue\",\"blue\",\"blue\",\"blue\",\"blue\",\"blue\",\"blue\",\"blue\",\"blue\",\"blue\",\"blue\",\"blue\",\"blue\",\"blue\",\"blue\",\"blue\",\"blue\",\"blue\",\"blue\",\"blue\",\"blue\",\"blue\",\"blue\",\"blue\",\"blue\",\"blue\",\"blue\",\"blue\",\"blue\",\"blue\",\"blue\",\"blue\",\"blue\",\"blue\",\"blue\",\"blue\",\"blue\",\"blue\",\"blue\",\"blue\",\"blue\",\"blue\",\"blue\",\"blue\",\"blue\",\"blue\",\"blue\",\"blue\",\"blue\",\"blue\",\"blue\",\"blue\",\"blue\",\"blue\",\"blue\",\"blue\",\"blue\",\"blue\",\"blue\",\"blue\",\"blue\",\"blue\",\"blue\",\"blue\",\"blue\",\"blue\",\"blue\",\"blue\",\"blue\",\"blue\",\"blue\",\"blue\",\"blue\",\"blue\",\"blue\",\"blue\",\"blue\",\"blue\",\"blue\",\"blue\",\"blue\",\"blue\",\"blue\",\"blue\",\"blue\",\"blue\",\"blue\",\"blue\",\"blue\",\"blue\",\"blue\",\"blue\",\"blue\",\"blue\",\"blue\",\"blue\",\"blue\",\"blue\",\"blue\",\"blue\",\"blue\",\"blue\",\"blue\",\"blue\",\"blue\",\"blue\",\"blue\",\"blue\",\"blue\",\"blue\",\"blue\",\"blue\",\"blue\",\"blue\",\"blue\",\"blue\",\"blue\",\"blue\",\"blue\",\"blue\",\"blue\",\"blue\",\"blue\",\"blue\",\"blue\",\"blue\",\"blue\",\"blue\",\"blue\",\"blue\",\"blue\",\"blue\",\"blue\",\"blue\",\"blue\",\"blue\",\"blue\",\"blue\",\"blue\",\"blue\",\"blue\",\"blue\",\"blue\",\"blue\",\"blue\",\"blue\",\"blue\",\"blue\",\"blue\",\"blue\",\"blue\",\"blue\",\"blue\",\"blue\",\"blue\",\"blue\",\"blue\",\"blue\",\"blue\",\"blue\",\"blue\",\"blue\",\"blue\",\"blue\",\"blue\",\"blue\",\"blue\",\"blue\",\"blue\",\"blue\",\"blue\",\"blue\",\"blue\",\"blue\",\"blue\",\"blue\",\"blue\",\"blue\",\"blue\",\"blue\",\"blue\",\"blue\",\"blue\",\"blue\",\"blue\",\"blue\",\"blue\",\"blue\",\"blue\",\"blue\",\"blue\",\"blue\",\"blue\",\"blue\",\"blue\",\"blue\",\"blue\",\"blue\",\"blue\",\"blue\",\"blue\",\"blue\",\"blue\",\"blue\",\"blue\",\"blue\"]],[\"token\",[\"verified\",\"2gb\",\"illinois\",\"jazz\",\"checking\",\"telescope\",\"seasons\",\"astrologer\",\"contribution\",\"homemade\",\"heroes\",\"warcraft\",\"kumar\",\"tester\",\"politically\",\"conquer\",\"columbia\",\"quiet\",\"repeat\",\"kapil\",\"involve\",\"mckinsey\",\"switched\",\"att\",\"instance\",\"innocent\",\"portuguese\",\"subscribers\",\"cabinet\",\"terror\",\"85\",\"rotation\",\"shirts\",\"drawn\",\"bi\",\"aspergers\",\"inspiration\",\"beats\",\"\\u00a3\",\"approximately\",\"asset\",\"empathy\",\"rooting\",\"ia\",\"dandruff\",\"slab\",\"operator\",\"horrible\",\"dominant\",\"ocd\",\"spacetime\",\"blow\",\"installing\",\"learnt\",\"separation\",\"institution\",\"temples\",\"hons\",\"pound\",\"removing\",\"unemployment\",\"greenlit\",\"audit\",\"supplement\",\"roller\",\"dota\",\"tiny\",\"equally\",\"braces\",\"aggressive\",\"corn\",\"camps\",\"additional\",\"consent\",\"granted\",\"welfare\",\"myths\",\"stations\",\"timeline\",\"psychologist\",\"nagpur\",\"herself\",\"cooper\",\"exgirlfriend\",\"intercourse\",\"flip\",\"hurts\",\"lpa\",\"nerve\",\"tvs\",\"halloween\",\"screenshot\",\"biomedical\",\"covered\",\"milky\",\"onsite\",\"aside\",\"meaningful\",\"stretch\",\"joker\",\"encounter\",\"tone\",\"founders\",\"talked\",\"respectively\",\"downloads\",\"cocaine\",\"toxic\",\"sword\",\"fuck\",\"trainer\",\"partition\",\"boxing\",\"grid\",\"practicing\",\"menu\",\"cms\",\"indore\",\"ate\",\"volunteer\",\"misconceptions\",\"pics\",\"flies\",\"instantly\",\"trans\",\"friday\",\"sociopaths\",\"ctc\",\"hoax\",\"detailed\",\"sizes\",\"rejection\",\"limitations\",\"bharat\",\"kissing\",\"renewable\",\"oriented\",\"countrys\",\"dumps\",\"spiders\",\"technological\",\"advertisement\",\"headache\",\"zodiac\",\"accommodation\",\"venus\",\"calcium\",\"passenger\",\"falls\",\"overnight\",\"pickup\",\"gary\",\"transportation\",\"odds\",\"jupiter\",\"purchasing\",\"fluently\",\"flu\",\"photons\",\"conductor\",\"ohio\",\"balaji\",\"mcdonalds\",\"betting\",\"irrational\",\"sachin\",\"deactivate\",\"estimate\",\"hairs\",\"fluent\",\"errors\",\"remaining\",\"marriages\",\"medieval\",\"charles\",\"spider\",\"oxford\",\"gita\",\"races\",\"liquor\",\"poland\",\"lease\",\"co2\",\"selenium\",\"attempts\",\"crystal\",\"manaphy\",\"knight\",\"collapsed\",\"wheels\",\"behaviour\",\"bitcoins\",\"parliament\",\"himher\",\"handsome\",\"thousands\",\"caring\",\"kings\",\"lucky\",\"workplace\",\"condom\",\"intuitive\",\"chronic\",\"eyesight\",\"simulation\",\"prank\",\"quickest\",\"concert\",\"popularity\",\"connections\",\"disorders\",\"scripting\",\"appearance\",\"js\",\"depth\",\"cheque\",\"longterm\",\"documentaries\",\"dioxide\",\"bright\",\"info\",\"diseases\",\"appeal\",\"snap\",\"smoked\",\"singers\",\"boil\",\"probably\",\"temperatures\",\"appearing\",\"olive\",\"ntse\",\"telecom\",\"brief\",\"discrimination\",\"ethnic\",\"cache\",\"passionate\",\"shoulder\",\"assault\",\"marshmallow\",\"momentum\",\"yr\",\"migrate\",\"retire\",\"cet\",\"canvas\",\"vietnamese\",\"institutions\",\"meter\",\"roots\",\"integer\",\"imported\",\"ants\",\"lyft\",\"piercing\",\"il\",\"poop\",\"organisms\",\"ve\",\"entropy\",\"calm\",\"saddest\",\"toward\",\"myth\",\"sight\",\"filling\",\"hdmi\",\"satisfied\",\"transactions\",\"pharmacy\",\"nursing\",\"correlation\",\"regression\",\"awake\",\"md\",\"nri\",\"recommendations\",\"bin\",\"finland\",\"multi\",\"voted\",\"discovery\",\"edward\",\"touching\",\"immigrant\",\"geometry\",\"indicate\",\"ourselves\",\"texting\",\"seek\",\"expecting\",\"dj\",\"brake\",\"helicopter\",\"blonde\",\"triple\",\"ladies\",\"vivekananda\",\"switching\",\"prostitution\",\"banana\",\"magazines\",\"shippuden\",\"lucknow\",\"2019\",\"failing\",\"elizabeth\",\"irish\",\"ebook\",\"temporary\",\"governor\",\"wasting\",\"weekends\",\"cpt\",\"wax\",\"labor\",\"instruments\",\"instrumentation\",\"hates\",\"hip\",\"arnab\",\"bubble\",\"employers\",\"aadhaar\",\"boyfriends\",\"jake\",\"explained\",\"yesterday\",\"beta\",\"extrovert\",\"andhra\",\"micromax\",\"vertical\",\"lay\",\"nonprofit\",\"dubbed\",\"typing\",\"automotive\",\"thomas\",\"procedures\",\"priority\",\"funded\",\"arabs\",\"siblings\",\"guinea\",\"missile\",\"luck\",\"strategic\",\"defend\",\"module\",\"tuition\",\"acids\",\"controller\",\"committee\",\"housing\",\"integral\",\"peaceful\",\"refugees\",\"prescription\",\"interns\",\"supported\",\"womans\",\"dentist\",\"wives\",\"village\",\"affecting\",\"lte\",\"beaches\",\"austin\",\"substance\",\"engagement\",\"trainee\",\"measures\",\"trailer\",\"purchased\",\"15000\",\"uttar\",\"glue\",\"dtu\",\"medal\",\"photon\",\"engg\",\"violin\",\"column\",\"somehow\",\"rotate\",\"3000\",\"virat\",\"forgotten\",\"fingers\",\"slim\",\"arrest\",\"covalent\",\"ncert\",\"kernel\",\"da\",\"alarm\",\"ngo\",\"4gb\",\"productivity\",\"planned\",\"district\",\"berlin\",\"lists\",\"leads\",\"slang\",\"defence\",\"aspiring\",\"56\",\"enemy\",\"farming\",\"muller\",\"pays\",\"liver\",\"membrane\",\"secretly\",\"plug\",\"gum\",\"eclipse\",\"chewing\",\"labs\",\"zombie\",\"authority\",\"males\",\"argentina\",\"tasks\",\"fell\",\"nails\",\"palestine\",\"tanks\",\"identical\",\"deck\",\"qualification\",\"leadership\",\"kohli\",\"pronunciation\",\"hello\",\"violent\",\"sabha\",\"respiration\",\"transform\",\"warranty\",\"faculty\",\"adolf\",\"expenses\",\"jersey\",\"mercury\",\"whiskey\",\"tackle\",\"tweet\",\"blame\",\"cruise\",\"mahindra\",\"discharge\",\"reduced\",\"vodka\",\"mahatma\",\"bass\",\"compete\",\"stains\",\"pill\",\"swim\",\"ali\",\"gf\",\"ford\",\"prince\",\"sweat\",\"performing\",\"limits\",\"leonardo\",\"cow\",\"resolve\",\"matters\",\"pharmaceutical\",\"ray\",\"remotely\",\"pf\",\"clinical\",\"bpo\",\"homeless\",\"husbands\",\"rising\",\"newtons\",\"outcome\",\"derivative\",\"alpha\",\"grown\",\"capitalism\",\"astronaut\",\"hybrid\",\"palm\",\"teens\",\"hits\",\"airplanes\",\"none\",\"admin\",\"applicable\",\"amcat\",\"spam\",\"neutrality\",\"pixel\",\"festival\",\"faces\",\"molar\",\"snakes\",\"sip\",\"kik\",\"farm\",\"ltd\",\"votes\",\"publishing\",\"comfort\",\"frontend\",\"spin\",\"diagnosed\",\"buildings\",\"\\u00b0\",\"cashless\",\"addictive\",\"extinct\",\"ugc\",\"coke\",\"llb\",\"phrases\",\"struggle\",\"drives\",\"fiber\",\"grocery\",\"achieved\",\"penny\",\"bath\",\"allies\",\"uninstall\",\"ny\",\"appears\",\"effort\",\"satellites\",\"confirmed\",\"loneliness\",\"illuminati\",\"uri\",\"lucid\",\"preferably\",\"neither\",\"\\u221a\",\"pacific\",\"americas\",\"bs\",\"graduated\",\"bills\",\"tube\",\"germans\",\"assume\",\"cleared\",\"mate\",\"divide\",\"versions\",\"fallen\",\"journey\",\"anthem\",\"certificates\",\"looked\",\"sponsor\",\"useless\",\"dependent\",\"invite\",\"guru\",\"keyword\",\"aipmt\",\"clone\",\"kgs\",\"chip\",\"origins\",\"wide\",\"motivational\",\"elite\",\"wanna\",\"unity\",\"cough\",\"connecting\",\"mystery\",\"kim\",\"syrian\",\"voldemort\",\"responsibilities\",\"molecules\",\"boobs\",\"holidays\",\"tutorial\",\"circumstances\",\"fiitjee\",\"islands\",\"bypass\",\"slowly\",\"mixture\",\"aluminum\",\"salesforce\",\"twin\",\"iot\",\"remedy\",\"sheets\",\"pole\",\"hated\",\"females\",\"protected\",\"irs\",\"insecure\",\"entering\",\"neuroscience\",\"offices\",\"delta\",\"suggestion\",\"snapdeal\",\"backstory\",\"periodic\",\"cancelled\",\"mans\",\"complicated\",\"bitsat\",\"pleasure\",\"loop\",\"dropbox\",\"selfish\",\"nude\",\"20000\",\"voter\",\"variables\",\"victory\",\"closest\",\"compensation\",\"extended\",\"locations\",\"cracked\",\"perks\",\"ended\",\"exit\",\"awareness\",\"pakistanis\",\"ebooks\",\"bull\",\"unblock\",\"100000\",\"entrepreneurship\",\"infrastructure\",\"scotland\",\"guest\",\"attacked\",\"hurting\",\"lion\",\"reject\",\"purposes\",\"knife\",\"thai\",\"ipl\",\"knee\",\"accepting\",\"spent\",\"punjabi\",\"tab\",\"quoras\",\"caffeine\",\"athletes\",\"ink\",\"cooked\",\"improving\",\"invaded\",\"allah\",\"thermodynamics\",\"mortgage\",\"firsttime\",\"achievements\",\"issued\",\"breath\",\"award\",\"llc\",\"legends\",\"mood\",\"influenced\",\"proteins\",\"holy\",\"performed\",\"pee\",\"blocks\",\"molecule\",\"interests\",\"imei\",\"requires\",\"cisco\",\"moves\",\"marrying\",\"mca\",\"perfectly\",\"iisc\",\"corporation\",\"shiva\",\"viruses\",\"difficulty\",\"50000\",\"volte\",\"shampoo\",\"secular\",\"transplant\",\"ghz\",\"ahead\",\"crew\",\"interact\",\"depend\",\"hawaii\",\"hiv\",\"evening\",\"vegetable\",\"revenge\",\"suppose\",\"busy\",\"label\",\"rogue\",\"rational\",\"hillstation\",\"brains\",\"urdu\",\"imagine\",\"salaries\",\"survey\",\"g4\",\"butt\",\"manufacturers\",\"saas\",\"residency\",\"recommendation\",\"purple\",\"fault\",\"aadhar\",\"aging\",\"bhopal\",\"conducted\",\"loses\",\"infection\",\"forest\",\"impacts\",\"collection\",\"fridge\",\"diamond\",\"mis\",\"recorded\",\"march\",\"conditioner\",\"signature\",\"listed\",\"branches\",\"manchester\",\"wanting\",\"perception\",\"absolutely\",\"servers\",\"soluble\",\"swami\",\"lumia\",\"directors\",\"52\",\"2008\",\"gaining\",\"stereotypes\",\"homes\",\"vegas\",\"jam\",\"behave\",\"relatively\",\"forum\",\"ib\",\"earphones\",\"facilities\",\"april\",\"finally\",\"tail\",\"capacitor\",\"tiger\",\"deaf\",\"deliver\",\"django\",\"expand\",\"skip\",\"nearly\",\"maybe\",\"task\",\"gateway\",\"strangest\",\"abstract\",\"adding\",\"suck\",\"tim\",\"printed\",\"sigma\",\"immigrate\",\"decline\",\"arrested\",\"95\",\"narcissistic\",\"freelancing\",\"patterns\",\"expired\",\"casual\",\"tablets\",\"patients\",\"lean\",\"pieces\",\"laymans\",\"whatever\",\"polish\",\"lemon\",\"abortion\",\"i3\",\"theorem\",\"h\",\"compulsory\",\"helped\",\"sons\",\"feminism\",\"compiler\",\"tested\",\"enhance\",\"adhd\",\"manhattan\",\"iii\",\"nail\",\"eee\",\"deals\",\"excellent\",\"ipo\",\"folder\",\"sand\",\"continuous\",\"capable\",\"libraries\",\"aggregate\",\"64\",\"bsnl\",\"profiles\",\"spirit\",\"pulled\",\"owns\",\"deloitte\",\"therapist\",\"acts\",\"millions\",\"authors\",\"marathi\",\"dvd\",\"coconut\",\"swiss\",\"interaction\",\"ncr\",\"kannada\",\"smallest\",\"advisable\",\"smartest\",\"sorry\",\"normally\",\"ends\",\"rome\",\"spectrum\",\"cousin\",\"75\",\"suzuki\",\"nights\",\"cap\",\"enable\",\"counselling\",\"proxy\",\"margin\",\"shops\",\"hackers\",\"tatkal\",\"opened\",\"cinema\",\"consumption\",\"coal\",\"silent\",\"choosing\",\"introduction\",\"electromagnetic\",\"hcl\",\"complaint\",\"puppies\",\"vc\",\"symbols\",\"lenses\",\"username\",\"arrow\",\"adopted\",\"affects\",\"sudden\",\"pcm\",\"gel\",\"affair\",\"pinterest\",\"statements\",\"supplements\",\"justified\",\"turns\",\"santa\",\"shoe\",\"trek\",\"headphone\",\"girlfriends\",\"verizon\",\"rocket\",\"conference\",\"ego\",\"srm\",\"afghanistan\",\"nucleus\",\"generated\",\"chinas\",\"ww1\",\"consultancy\",\"socially\",\"allen\",\"berkeley\",\"missed\",\"crying\",\"introduced\",\"ps3\",\"flour\",\"brought\",\"elder\",\"minecraft\",\"9th\",\"freelancer\",\"circles\",\"scars\",\"entertainment\",\"turbine\",\"deeply\",\"rom\",\"evolved\",\"nato\",\"strengths\",\"ide\",\"tweets\",\"scholarships\",\"mentor\",\"collect\",\"hdfc\",\"mandarin\",\"solo\",\"terrible\",\"influential\",\"professionals\",\"65\",\"recognition\",\"nvidia\",\"cia\",\"designs\",\"10k\",\"creation\",\"tom\",\"rated\",\"introverts\",\"boiling\",\"communism\",\"treaty\",\"whereas\",\"thanks\",\"cigarette\",\"bengaluru\",\"oneplus\",\"reserve\",\"advertise\",\"nits\",\"helping\",\"bruce\",\"mp3\",\"severe\",\"proposal\",\"cultures\",\"tap\",\"animated\",\"planes\",\"hall\",\"cognitive\",\"supports\",\"keys\",\"gotten\",\"feedback\",\"recording\",\"proceed\",\"membership\",\"console\",\"overseas\",\"hows\",\"william\",\"billionaires\",\"updated\",\"pre\",\"organizations\",\"messi\",\"unexpected\",\"nitrogen\",\"hungry\",\"nigeria\",\"sync\",\"arduino\",\"gross\",\"outer\",\"searching\",\"workers\",\"outlook\",\"europeans\",\"founder\",\"lectures\",\"legitimate\",\"camp\",\"ordinary\",\"investments\",\"bone\",\"raising\",\"quite\",\"ages\",\"joint\",\"johnson\",\"destination\",\"concerned\",\"belief\",\"refrigerator\",\"implications\",\"manga\",\"mandatory\",\"obamas\",\"lawyers\",\"bedroom\",\"icon\",\"qualifications\",\"qa\",\"bikes\",\"boston\",\"holding\",\"session\",\"appointment\",\"weaknesses\",\"iphones\",\"motorcycle\",\"schizophrenia\",\"5th\",\"intellectual\",\"eaten\",\"attending\",\"medals\",\"adsense\",\"nda\",\"6th\",\"kali\",\"georgia\",\"wechat\",\"earlier\",\"drone\",\"truck\",\"horse\",\"merchant\",\"torque\",\"seed\",\"backend\",\"holmes\",\"graduating\",\"400\",\"bones\",\"sufficient\",\"participate\",\"rifle\",\"shock\",\"downloaded\",\"earthquake\",\"breasts\",\"secretary\",\"insert\",\"damaged\",\"massive\",\"standing\",\"remainder\",\"programme\",\"holocaust\",\"totally\",\"belt\",\"affairs\",\"nokia\",\"mechanism\",\"pin\",\"scan\",\"fought\",\"superpower\",\"poetry\",\"signals\",\"educated\",\"scariest\",\"trains\",\"closer\",\"weapon\",\"icici\",\"serial\",\"bicycle\",\"terminal\",\"finished\",\"stolen\",\"inspiring\",\"cuisine\",\"spark\",\"sounds\",\"pricing\",\"click\",\"underwear\",\"kidney\",\"bengal\",\"invention\",\"discount\",\"chase\",\"evaluate\",\"distributed\",\"themes\",\"amd\",\"stem\",\"st\",\"genre\",\"vegetables\",\"council\",\"bihar\",\"thick\",\"mouse\",\"worry\",\"newly\",\"updates\",\"candy\",\"prepaid\",\"wet\",\"rap\",\"motors\",\"implemented\",\"theoretical\",\"fabric\",\"mexican\",\"portfolio\",\"technique\",\"icse\",\"expansion\",\"evolutionary\",\"justify\",\"trick\",\"attached\",\"lightning\",\"pitch\",\"armed\",\"einstein\",\"conversion\",\"iitjee\",\"declared\",\"admit\",\"acquisition\",\"innovation\",\"runs\",\"wwe\",\"trial\",\"memories\",\"refuse\",\"netherlands\",\"committed\",\"fraud\",\"jailbreak\",\"settle\",\"badly\",\"approved\",\"eligibility\",\"trend\",\"increases\",\"comic\",\"quorans\",\"cellular\",\"matches\",\"receiving\",\"bmw\",\"vlsi\",\"signed\",\"lakes\",\"350\",\"communications\",\"pork\",\"joined\",\"anyway\",\"differentiate\",\"actresses\",\"29\",\"ethics\",\"premier\",\"hearing\",\"vehicles\",\"drama\",\"instant\",\"lips\",\"dates\",\"july\",\"holiday\",\"coach\",\"malayalam\",\"superior\",\"soviet\",\"plate\",\"throw\",\"worship\",\"bars\",\"sharma\",\"mothers\",\"integrated\",\"clubs\",\"bug\",\"melbourne\",\"co\",\"bisexual\",\"regions\",\"lesson\",\"heads\",\"reader\",\"snake\",\"qualify\",\"paul\",\"causing\",\"disappear\",\"era\",\"lets\",\"qualified\",\"spiritual\",\"wolf\",\"requirement\",\"journalism\",\"studied\",\"lowest\",\"vader\",\"coursera\",\"stark\",\"configuration\",\"verbal\",\"undergrad\",\"dimensions\",\"transition\",\"efficiently\",\"interstellar\",\"locked\",\"summary\",\"chandigarh\",\"ghosts\",\"included\",\"operate\",\"dimension\",\"mount\",\"noticed\",\"rating\",\"somewhere\",\"martin\",\"bra\",\"bird\",\"zuckerberg\",\"sensor\",\"audience\",\"dirty\",\"starbucks\",\"permission\",\"residential\",\"wholesale\",\"assets\",\"clearly\",\"km\",\"invade\",\"ipcc\",\"fb\",\"shell\",\"shave\",\"loud\",\"tip\",\"seeds\",\"sets\",\"polar\",\"although\",\"june\",\"judaism\",\"anti\",\"instrument\",\"seven\",\"shooting\",\"j\",\"portal\",\"tower\",\"github\",\"linked\",\"admitted\",\"punishment\",\"mid\",\"micro\",\"cured\",\"lifestyle\",\"nor\",\"upset\",\"challenge\",\"soap\",\"standards\",\"integration\",\"lottery\",\"lab\",\"williams\",\"odd\",\"soil\",\"sensitive\",\"route\",\"tattoos\",\"coin\",\"declare\",\"frame\",\"differential\",\"bowl\",\"softwares\",\"notifications\",\"maintenance\",\"inner\",\"apples\",\"converted\",\"recruiter\",\"bombay\",\"command\",\"posting\",\"controlled\",\"balls\",\"personally\",\"poker\",\"extract\",\"hired\",\"bugs\",\"providers\",\"loans\",\"calculator\",\"attractions\",\"torrents\",\"keywords\",\"profession\",\"blogging\",\"transport\",\"sue\",\"anonymously\",\"compounds\",\"robot\",\"buddhism\",\"sweet\",\"defense\",\"nobody\",\"uc\",\"defined\",\"division\",\"bags\",\"epic\",\"unhealthy\",\"craziest\",\"urban\",\"combination\",\"pair\",\"laugh\",\"cv\",\"usd\",\"launched\",\"usps\",\"visited\",\"nexus\",\"regularly\",\"brothers\",\"broker\",\"concentrate\",\"agreement\",\"nervous\",\"frozen\",\"detail\",\"sir\",\"situations\",\"borderline\",\"angularjs\",\"abusive\",\"tourism\",\"relate\",\"august\",\"communist\",\"accountant\",\"dumb\",\"arab\",\"b2b\",\"du\",\"thermal\",\"asians\",\"threat\",\"karma\",\"passive\",\"homosexuality\",\"putting\",\"quantitative\",\"relativity\",\"sanskrit\",\"opinions\",\"verify\",\"bear\",\"roll\",\"expanding\",\"teenage\",\"jeans\",\"providing\",\"shared\",\"extreme\",\"mi\",\"vr\",\"progress\",\"greece\",\"cpu\",\"ips\",\"merge\",\"reputation\",\"loving\",\"salman\",\"iss\",\"warm\",\"dental\",\"extension\",\"attraction\",\"fictional\",\"journal\",\"login\",\"secondary\",\"recognize\",\"southern\",\"ph\",\"lunch\",\"wallet\",\"ronaldo\",\"larger\",\"actions\",\"fathers\",\"adopt\",\"claims\",\"bottom\",\"therapy\",\"patient\",\"described\",\"virginity\",\"functional\",\"ionic\",\"chartered\",\"discover\",\"55\",\"21st\",\"biased\",\"mad\",\"northern\",\"onto\",\"liberals\",\"premium\",\"neutral\",\"detect\",\"diagram\",\"sperm\",\"ga\",\"bleach\",\"spread\",\"contributions\",\"activate\",\"prior\",\"safest\",\"holder\",\"360\",\"aim\",\"rental\",\"families\",\"everybody\",\"shut\",\"payments\",\"150\",\"cube\",\"vegan\",\"newspaper\",\"beef\",\"houses\",\"preferred\",\"simultaneously\",\"marked\",\"reactions\",\"emergency\",\"protection\",\"cab\",\"forex\",\"norway\",\"immigrants\",\"googles\",\"ssb\",\"wing\",\"yrs\",\"ensure\",\"spy\",\"reasoning\",\"strange\",\"forgive\",\"turkish\",\"tag\",\"ranking\",\"platforms\",\"fox\",\"existed\",\"walmart\",\"lazy\",\"ears\",\"clock\",\"beam\",\"rare\",\"bush\",\"2011\",\"stops\",\"batteries\",\"certified\",\"naked\",\"worldwide\",\"staying\",\"lifetime\",\"ted\",\"lake\",\"wealthy\",\"transit\",\"stephen\",\"rural\",\"versa\",\"pets\",\"commonly\",\"adults\",\"ultimate\",\"genius\",\"vinegar\",\"allows\",\"aid\",\"retirement\",\"airtel\",\"sciences\",\"mountain\",\"drinks\",\"tour\",\"wind\",\"seattle\",\"disabled\",\"bodies\",\"lesbian\",\"governments\",\"kinetic\",\"tumblr\",\"absolute\",\"author\",\"toilet\",\"whey\",\"sleepy\",\"molecular\",\"watches\",\"inventions\",\"rain\",\"34\",\"angular\",\"o\",\"dish\",\"however\",\"agents\",\"abs\",\"switzerland\",\"transformer\",\"clearing\",\"consciousness\",\"broadband\",\"uae\",\"automatic\",\"opposed\",\"geography\",\"astronauts\",\"decisions\",\"cement\",\"induction\",\"luxury\",\"upvotes\",\"politicians\",\"posted\",\"toefl\",\"kitchen\",\"noise\",\"radius\",\"dye\",\"miles\",\"risks\",\"scientifically\",\"mnc\",\"propose\",\"prepared\",\"iiit\",\"mention\",\"equipment\",\"darth\",\"january\",\"surname\",\"raised\",\"attitude\",\"gta\",\"david\",\"hike\",\"awkward\",\"proven\",\"productive\",\"lg\",\"filled\",\"atmosphere\",\"lee\",\"irctc\",\"addicted\",\"dynamic\",\"employment\",\"weekend\",\"replacement\",\"singing\",\"owners\",\"bipolar\",\"tomorrow\",\"poems\",\"default\",\"kvpy\",\"sauce\",\"competitors\",\"russians\",\"sample\",\"crimes\",\"hang\",\"inspired\",\"furniture\",\"throughout\",\"presence\",\"efficiency\",\"leg\",\"biological\",\"pilani\",\"conversations\",\"inspirational\",\"bachelor\",\"centers\",\"withdraw\",\"fundamental\",\"comparison\",\"november\",\"fifa\",\"penalty\",\"algebra\",\"joke\",\"htc\",\"pilots\",\"collapse\",\"texts\",\"vocabulary\",\"moved\",\"sc\",\"smile\",\"october\",\"dot\",\"genetic\",\"architect\",\"url\",\"51\",\"sore\",\"uniform\",\"re\",\"rails\",\"smaller\",\"marine\",\"terrorists\",\"nazi\",\"breast\",\"politician\",\"subtitles\",\"chosen\",\"egypt\",\"thin\",\"packages\",\"editor\",\"bands\",\"mythology\",\"reasonable\",\"permit\",\"acceptable\",\"seriously\",\"iraq\",\"fever\",\"visitor\",\"honest\",\"friction\",\"offering\",\"smarter\",\"ahmedabad\",\"replaced\",\"resolution\",\"burning\",\"bridge\",\"catholic\",\"calendar\",\"resident\",\"policies\",\"forced\",\"leading\",\"arm\",\"deserve\",\"context\",\"coolest\",\"arranged\",\"arizona\",\"comics\",\"harm\",\"democrats\",\"jail\",\"breed\",\"anywhere\",\"psu\",\"christ\",\"violence\",\"agriculture\",\"objective\",\"moments\",\"infinity\",\"supporting\",\"critical\",\"trees\",\"beyond\",\"bag\",\"vitamin\",\"assembly\",\"solved\",\"array\",\"perspective\",\"pas\",\"wwii\",\"skinny\",\"contains\",\"lift\",\"cleaning\",\"peter\",\"aap\",\"pimples\",\"initial\",\"lesserknown\",\"sights\",\"principles\",\"realize\",\"millionaire\",\"faux\",\"orbit\",\"desire\",\"hi\",\"prophet\",\"suits\",\"careers\",\"thinks\",\"quantity\",\"spots\",\"wage\",\"asleep\",\"sociology\",\"guard\",\"units\",\"structural\",\"operation\",\"pants\",\"w\",\"bulk\",\"possibly\",\"drunk\",\"fired\",\"accident\",\"inch\",\"bottle\",\"aerospace\",\"narcissist\",\"ux\",\"angeles\",\"wood\",\"index\",\"safely\",\"robotics\",\"edition\",\"metals\",\"practices\",\"scheme\",\"interior\",\"diabetes\",\"nobel\",\"youth\",\"lived\",\"september\",\"chief\",\"proposed\",\"assuming\",\"sin\",\"counter\",\"disable\",\"introduce\",\"restore\",\"swimming\",\"intern\",\"answering\",\"mentioned\",\"crash\",\"laser\",\"teenagers\",\"presentation\",\"quran\",\"classified\",\"demonetisation\",\"communicate\",\"cotton\",\"autism\",\"anger\",\"environmental\",\"stable\",\"7th\",\"bread\",\"invited\",\"wisdom\",\"wrote\",\"widely\",\"minor\",\"formal\",\"dreaming\",\"managers\",\"escape\",\"pollution\",\"taiwan\",\"verification\",\"los\",\"figures\",\"26\",\"illness\",\"sides\",\"compatible\",\"pack\",\"conspiracy\",\"hedge\",\"flights\",\"dropped\",\"former\",\"suffer\",\"aware\",\"designers\",\"mahabharata\",\"evolve\",\"weigh\",\"dies\",\"fruits\",\"cc\",\"butter\",\"sharing\",\"atoms\",\"tongue\",\"transaction\",\"poverty\",\"suffering\",\"presidents\",\"resistance\",\"adam\",\"civilization\",\"mining\",\"toronto\",\"stick\",\"increased\",\"wild\",\"freelance\",\"removal\",\"aws\",\"rio\",\"principle\",\"asus\",\"cute\",\"consumer\",\"pool\",\"variable\",\"tutorials\",\"advance\",\"keeping\",\"visible\",\"cognizant\",\"equations\",\"rooms\",\"krishna\",\"printer\",\"tooth\",\"mentally\",\"realistic\",\"automobile\",\"cake\",\"tie\",\"beach\",\"ghost\",\"comfortable\",\"mysql\",\"oral\",\"closed\",\"helps\",\"maharashtra\",\"admissions\",\"i5\",\"partners\",\"axis\",\"beliefs\",\"neck\",\"clans\",\"hidden\",\"cyber\",\"voting\",\"bacteria\",\"layer\",\"chhattisgarh\",\"5000\",\"sitting\",\"murder\",\"argument\",\"f\",\"privacy\",\"syndrome\",\"2010\",\"bite\",\"vacation\",\"isro\",\"trouble\",\"records\",\"answered\",\"digit\",\"defeat\",\"childhood\",\"5s\",\"gates\",\"f1\",\"town\",\"anal\",\"copper\",\"talks\",\"affiliate\",\"sociopath\",\"installed\",\"static\",\"copyright\",\"animation\",\"donate\",\"stranger\",\"bcom\",\"destroyed\",\"gujarat\",\"foundation\",\"prize\",\"components\",\"foreigner\",\"arms\",\"unlimited\",\"needing\",\"settings\",\"item\",\"eve\",\"competition\",\"landing\",\"beard\",\"patent\",\"ending\",\"2020\",\"incident\",\"petroleum\",\"florida\",\"particularly\",\"ups\",\"generator\",\"leather\",\"heal\",\"experiment\",\"28\",\"passing\",\"talent\",\"remote\",\"300\",\"published\",\"impossible\",\"steam\",\"80\",\"washing\",\"guilty\",\"punjab\",\"70\",\"album\",\"bullet\",\"paris\",\"interface\",\"agencies\",\"mission\",\"digits\",\"modis\",\"recruitment\",\"manipal\",\"telling\",\"meal\",\"orange\",\"stone\",\"links\",\"ab\",\"upper\",\"cameras\",\"p\",\"combat\",\"passion\",\"shower\",\"thailand\",\"beings\",\"grad\",\"27\",\"finger\",\"jump\",\"lights\",\"ui\",\"bba\",\"sweden\",\"arrive\",\"4th\",\"amendment\",\"window\",\"satellite\",\"al\",\"matlab\",\"jokes\",\"muhammad\",\"expression\",\"booking\",\"dinner\",\"skype\",\"lots\",\"2018\",\"teen\",\"finish\",\"dslr\",\"mens\",\"proud\",\"entrepreneurs\",\"ukraine\",\"coins\",\"scenario\",\"transmission\",\"ignore\",\"pride\",\"contribute\",\"grand\",\"curve\",\"false\",\"operations\",\"breakup\",\"eventually\",\"acquire\",\"commission\",\"lies\",\"spoken\",\"pills\",\"masturbating\",\"jackson\",\"airbnb\",\"delivered\",\"disk\",\"radiation\",\"plays\",\"marvel\",\"particle\",\"breakfast\",\"smartphones\",\"relevant\",\"quota\",\"refund\",\"inches\",\"telugu\",\"angel\",\"eastern\",\"inflation\",\"predict\",\"annoying\",\"obc\",\"tough\",\"conduct\",\"originate\",\"notification\",\"backup\",\"harder\",\"richest\",\"pronounce\",\"sri\",\"wheel\",\"wasnt\",\"oldest\",\"sheet\",\"soda\",\"20s\",\"wipro\",\"awesome\",\"facial\",\"z\",\"noida\",\"confident\",\"fbi\",\"corrupt\",\"succeed\",\"reddit\",\"associate\",\"input\",\"guns\",\"rahul\",\"baking\",\"description\",\"musical\",\"apache\",\"nowadays\",\"fluid\",\"capacity\",\"loose\",\"freshman\",\"cfa\",\"optional\",\"theres\",\"ps4\",\"trends\",\"jon\",\"richard\",\"legit\",\"nodejs\",\"document\",\"sexually\",\"particles\",\"singer\",\"printing\",\"captain\",\"valuable\",\"several\",\"aiims\",\"boot\",\"sit\",\"zone\",\"billionaire\",\"floor\",\"gravitational\",\"export\",\"motivation\",\"golden\",\"transgender\",\"healthcare\",\"heaven\",\"81\",\"leaves\",\"listening\",\"overall\",\"press\",\"dishes\",\"railways\",\"warming\",\"enfield\",\"extent\",\"acceleration\",\"afford\",\"bonds\",\"border\",\"registration\",\"cast\",\"hope\",\"shipping\",\"karnataka\",\"specifically\",\"opportunity\",\"arabia\",\"pump\",\"pg\",\"carrier\",\"plot\",\"kingdom\",\"contract\",\"painful\",\"kindle\",\"boring\",\"essential\",\"disney\",\"charger\",\"seconds\",\"measured\",\"honda\",\"ba\",\"makeup\",\"\\u2013\",\"mini\",\"annual\",\"traits\",\"retrieve\",\"willing\",\"swift\",\"consume\",\"hindus\",\"psychopath\",\"tells\",\"solving\",\"conditions\",\"artists\",\"spotify\",\"bomb\",\"integrate\",\"stuck\",\"nikon\",\"gadgets\",\"womens\",\"judge\",\"republicans\",\"vacuum\",\"felt\",\"putin\",\"tennis\",\"concentration\",\"fans\",\"constantly\",\"matrix\",\"secrets\",\"spot\",\"soft\",\"stored\",\"neural\",\"submit\",\"scores\",\"ola\",\"wire\",\"gdp\",\"jaipur\",\"typically\",\"airline\",\"roles\",\"cheaper\",\"machines\",\"shift\",\"impress\",\"basics\",\"32\",\"conservative\",\"birds\",\"tend\",\"duty\",\"setup\",\"rude\",\"pink\",\"church\",\"mine\",\"jack\",\"sending\",\"cooking\",\"versus\",\"expert\",\"olympic\",\"biotechnology\",\"gurgaon\",\"worked\",\"codes\",\"successfully\",\"hardware\",\"faith\",\"pr\",\"television\",\"compound\",\"vit\",\"universal\",\"thank\",\"grammatically\",\"chicago\",\"ivy\",\"worried\",\"enterprise\",\"sodium\",\"railway\",\"remedies\",\"racism\",\"tracking\",\"psychological\",\"apartment\",\"magazine\",\"martial\",\"beauty\",\"waiting\",\"attacks\",\"horror\",\"fantasy\",\"ma\",\"select\",\"increasing\",\"metro\",\"opt\",\"map\",\"watched\",\"gear\",\"icloud\",\"james\",\"comedy\",\"lollipop\",\"ireland\",\"upcoming\",\"italian\",\"oven\",\"emotionally\",\"decided\",\"lakh\",\"grey\",\"kept\",\"produced\",\"mouth\",\"manual\",\"dhoni\",\"fill\",\"throat\",\"shoot\",\"liked\",\"innovative\",\"immediately\",\"lonely\",\"fighting\",\"max\",\"accidentally\",\"schedule\",\"orgasm\",\"rape\",\"ride\",\"muscles\",\"graduates\",\"taller\",\"boost\",\"lakhs\",\"microwave\",\"electrons\",\"upon\",\"attract\",\"ap\",\"abuse\",\"earths\",\"forever\",\"underrated\",\"facing\",\"terrorist\",\"alien\",\"celebrity\",\"frequently\",\"vpn\",\"wales\",\"powder\",\"superman\",\"mixed\",\"caught\",\"goods\",\"beginning\",\"starts\",\"atomic\",\"associated\",\"triangle\",\"parties\",\"banning\",\"k\",\"honey\",\"monitor\",\"graph\",\"leaders\",\"embedded\",\"juice\",\"split\",\"lady\",\"sequence\",\"911\",\"harassment\",\"nepal\",\"pop\",\"habit\",\"setting\",\"edge\",\"ww2\",\"gps\",\"federal\",\"charged\",\"lying\",\"empty\",\"whenever\",\"airplane\",\"jet\",\"destroy\",\"ies\",\"wouldnt\",\"quick\",\"decrease\",\"robert\",\"pradesh\",\"professors\",\"massage\",\"held\",\"spending\",\"markets\",\"objects\",\"chart\",\"mechanics\",\"silver\",\"usage\",\"basketball\",\"gen\",\"periods\",\"identity\",\"individuals\",\"css\",\"soul\",\"ipod\",\"chest\",\"understanding\",\"coast\",\"classic\",\"spain\",\"babies\",\"sd\",\"hostel\",\"shirt\",\"further\",\"logical\",\"franchise\",\"obtain\",\"foreigners\",\"fully\",\"region\",\"designed\",\"cheated\",\"beneficial\",\"shes\",\"accent\",\"couldnt\",\"queen\",\"sick\",\"blowing\",\"properly\",\"stronger\",\"returns\",\"condition\",\"musk\",\"ugly\",\"teams\",\"filter\",\"snow\",\"glasses\",\"employer\",\"solid\",\"followed\",\"embarrassing\",\"auto\",\"meeting\",\"belong\",\"strike\",\"internships\",\"bachelors\",\"administration\",\"temple\",\"wealth\",\"retail\",\"speakers\",\"electoral\",\"headphones\",\"streaming\",\"mirror\",\"diesel\",\"republic\",\"antivirus\",\"customers\",\"atm\",\"vagina\",\"cigarettes\",\"aptitude\",\"lewis\",\"saudi\",\"puppy\",\"recovery\",\"jimmy\",\"obsessed\",\"domestic\",\"pen\",\"batch\",\"de\",\"drawing\",\"ai\",\"medium\",\"simply\",\"photoshop\",\"sms\",\"turning\",\"nadu\",\"appropriate\",\"adobe\",\"substitute\",\"fruit\",\"recipes\",\"fighter\",\"saving\",\"greater\",\"cheat\",\"routine\",\"push\",\"sherlock\",\"arguments\",\"sony\",\"import\",\"soldiers\",\"charges\",\"emotions\",\"ibm\",\"un\",\"innovations\",\"itunes\",\"consultant\",\"iims\",\"relations\",\"psychopaths\",\"existing\",\"angle\",\"clash\",\"bus\",\"australian\",\"crazy\",\"pull\",\"theories\",\"savings\",\"suit\",\"contrast\",\"calculus\",\"pi\",\"credits\",\"bluetooth\",\"himself\",\"traveling\",\"criminal\",\"xiaomi\",\"zealand\",\"seats\",\"electron\",\"script\",\"11th\",\"lessons\",\"programmers\",\"december\",\"flag\",\"singh\",\"arabic\",\"sale\",\"nfl\",\"grammar\",\"killing\",\"virgin\",\"differently\",\"poem\",\"provided\",\"automation\",\"shy\",\"translation\",\"mathematical\",\"45\",\"celebrities\",\"spring\",\"downloading\",\"dr\",\"organization\",\"majority\",\"clients\",\"hd\",\"motivate\",\"thats\",\"thesis\",\"door\",\"weakest\",\"saw\",\"canon\",\"younger\",\"costs\",\"river\",\"rings\",\"factory\",\"decent\",\"clintons\",\"holes\",\"desert\",\"divorce\",\"sold\",\"cheese\",\"atom\",\"taught\",\"minute\",\"ocean\",\"crisis\",\"represent\",\"surgical\",\"parent\",\"brexit\",\"possibility\",\"longest\",\"edit\",\"scholarship\",\"motivated\",\"chocolate\",\"faced\",\"90\",\"parallel\",\"foot\",\"examination\",\"friendly\",\"kinds\",\"wins\",\"islamic\",\"degrees\",\"registered\",\"distribution\",\"junior\",\"gave\",\"sing\",\"articles\",\"hadoop\",\"saved\",\"hero\",\"ear\",\"asks\",\"improved\",\"teenager\",\"forms\",\"wash\",\"provides\",\"washington\",\"strikes\",\"binary\",\"syria\",\"indonesia\",\"powers\",\"highly\",\"heshe\",\"happiness\",\"director\",\"citizenship\",\"knew\",\"humanity\",\"translate\",\"nba\",\"permanently\",\"soccer\",\"todays\",\"challenges\",\"barack\",\"title\",\"latin\",\"fitness\",\"genuine\",\"investor\",\"dislike\",\"scenes\",\"hacker\",\"bangladesh\",\"ebay\",\"earning\",\"dell\",\"paytm\",\"spouse\",\"bored\",\"roman\",\"official\",\"dragon\",\"park\",\"except\",\"habits\",\"quote\",\"astrology\",\"congress\",\"automatically\",\"island\",\"religions\",\"christianity\",\"supreme\",\"owner\",\"hell\",\"wikipedia\",\"cancel\",\"industries\",\"actress\",\"client\",\"visual\",\"michael\",\"remain\",\"ability\",\"concrete\",\"conflict\",\"string\",\"linear\",\"supposed\",\"engines\",\"2012\",\"\\u2018\",\"lesser\",\"traditional\",\"episodes\",\"goals\",\"tata\",\"opening\",\"target\",\"weak\",\"anonymous\",\"bjp\",\"resource\",\"concepts\",\"ruby\",\"friendship\",\"nyc\",\"pretty\",\"implement\",\"painting\",\"ill\",\"agency\",\"reverse\",\"confused\",\"italy\",\"response\",\"yellow\",\"dance\",\"contain\",\"vice\",\"editing\",\"acting\",\"weirdest\",\"feels\",\"govt\",\"accounting\",\"rise\",\"wise\",\"leaving\",\"lens\",\"artist\",\"arvind\",\"pattern\",\"scared\",\"attention\",\"airlines\",\"sky\",\"malaysia\",\"port\",\"attempt\",\"element\",\"classical\",\"shown\",\"safety\",\"including\",\"tablet\",\"la\",\"terrorism\",\"commit\",\"maps\",\"african\",\"viewed\",\"calling\",\"6s\",\"agent\",\"output\",\"justice\",\"don\",\"addiction\",\"lock\",\"vegetarian\",\"britain\",\"percent\",\"meditation\",\"ibps\",\"monthly\",\"writers\",\"forward\",\"stuff\",\"mr\",\"ready\",\"forgot\",\"flying\",\"recommended\",\"fields\",\"blind\",\"l\",\"hinduism\",\"desktop\",\"host\",\"tattoo\",\"maintain\",\"boards\",\"helpful\",\"semester\",\"load\",\"tier\",\"agree\",\"factor\",\"elon\",\"freshers\",\"sql\",\"cases\",\"exact\",\"confidence\",\"behavior\",\"hacked\",\"quotes\",\"hydrogen\",\"pakistani\",\"masturbate\",\"divided\",\"skill\",\"fine\",\"falling\",\"chess\",\"charging\",\"pages\",\"vector\",\"supporters\",\"waste\",\"sanders\",\"affordable\",\"unlock\",\"techniques\",\"wine\",\"keyboard\",\"cm\",\"wireless\",\"lawyer\",\"egg\",\"cope\",\"mindblowing\",\"recipe\",\"corruption\",\"scored\",\"secure\",\"teaching\",\"opposite\",\"educational\",\"bernie\",\"y\",\"library\",\"models\",\"kid\",\"stack\",\"separate\",\"19\",\"extremely\",\"properties\",\"cable\",\"magic\",\"removed\",\"computing\",\"hospital\",\"beer\",\"christians\",\"twice\",\"kg\",\"consulting\",\"whose\",\"serious\",\"petrol\",\"travelling\",\"revolution\",\"custom\",\"structures\",\"guide\",\"celebrate\",\"lenovo\",\"turned\",\"ielts\",\"grades\",\"fuel\",\"relative\",\"oracle\",\"academy\",\"lack\",\"passed\",\"relation\",\"values\",\"movement\",\"strategies\",\"eu\",\"emotional\",\"legs\",\"pokemon\",\"3g\",\"iran\",\"mostly\",\"jewish\",\"offered\",\"log\",\"hasnt\",\"explanation\",\"signal\",\"stores\",\"syllabus\",\"bits\",\"yoga\",\"weapons\",\"gods\",\"10000\",\"delivery\",\"gb\",\"sum\",\"letters\",\"venture\",\"selection\",\"winning\",\"35\",\"comment\",\"consequences\",\"sport\",\"items\",\"seems\",\"ring\",\"jealous\",\"laptops\",\"criteria\",\"fresh\",\"reference\",\"bitcoin\",\"infinite\",\"perform\",\"brazil\",\"density\",\"plans\",\"hosting\",\"clothing\",\"hong\",\"dying\",\"heavy\",\"steve\",\"gone\",\"damage\",\"missing\",\"ethical\",\"republican\",\"contacts\",\"activity\",\"electronic\",\"qualities\",\"piano\",\"hisher\",\"repair\",\"posts\",\"disease\",\"winter\",\"ten\",\"publish\",\"paint\",\"physically\",\"executive\",\"deposit\",\"elements\",\"xbox\",\"ceo\",\"visitors\",\"discovered\",\"tickets\",\"literature\",\"primary\",\"naturally\",\"senior\",\"u\",\"hardest\",\"debate\",\"frequency\",\"vietnam\",\"cry\",\"assistant\",\"gifts\",\"practical\",\"funny\",\"valid\",\"liberal\",\"refer\",\"beat\",\"shape\",\"institutes\",\"msc\",\"internal\",\"located\",\"significant\",\"scientists\",\"g\",\"ship\",\"proper\",\"independence\",\"added\",\"hes\",\"catch\",\"urine\",\"effectively\",\"named\",\"responsible\",\"strength\",\"whos\",\"immigration\",\"vehicle\",\"tesla\",\"kong\",\"meth\",\"england\",\"huge\",\"pizza\",\"rejected\",\"george\",\"fan\",\"salt\",\"browser\",\"sat\",\"loved\",\"fees\",\"walking\",\"symbol\",\"equity\",\"ubuntu\",\"alternatives\",\"theme\",\"virus\",\"manufacturing\",\"cutoff\",\"pure\",\"22\",\"introvert\",\"unable\",\"greek\",\"rice\",\"gst\",\"happening\",\"centre\",\"kiss\",\"prison\",\"bigger\",\"font\",\"construction\",\"exercises\",\"keeps\",\"gmat\",\"offers\",\"cross\",\"nasa\",\"unit\",\"advertising\",\"cup\",\"fixed\",\"limited\",\"billion\",\"subjects\",\"arts\",\"worlds\",\"stupid\",\"breaking\",\"funding\",\"tank\",\"generate\",\"efficient\",\"exists\",\"atheist\",\"entrepreneur\",\"direction\",\"broken\",\"offline\",\"firms\",\"station\",\"magnetic\",\"include\",\"aliens\",\"tinder\",\"logo\",\"photography\",\"worse\",\"besides\",\"path\",\"somebody\",\"interviews\",\"persons\",\"figure\",\"placed\",\"nation\",\"knows\",\"unmarried\",\"hp\",\"profitable\",\"tricks\",\"boss\",\"reply\",\"scam\",\"circle\",\"processor\",\"debt\",\"growing\",\"royal\",\"fiction\",\"department\",\"mistake\",\"weird\",\"graphics\",\"external\",\"article\",\"volume\",\"scratch\",\"chain\",\"protect\",\"storage\",\"texas\",\"liquid\",\"circuit\",\"graphic\",\"tired\",\"weather\",\"oxygen\",\"velocity\",\"dad\",\"band\",\"teachers\",\"drugs\",\"complex\",\"studio\",\"accenture\",\"leader\",\"levels\",\"goal\",\"logic\",\"acne\",\"plastic\",\"motion\",\"button\",\"peoples\",\"vision\",\"gap\",\"dollar\",\"computers\",\"stomach\",\"sources\",\"constant\",\"draw\",\"dress\",\"calculated\",\"sort\",\"3rd\",\"club\",\"channels\",\"creating\",\"candidates\",\"kejriwal\",\"broke\",\"sentences\",\"format\",\"emails\",\"raw\",\"stanford\",\"completed\",\"documents\",\"pan\",\"showing\",\"enter\",\"unknown\",\"bought\",\"router\",\"claim\",\"six\",\"technologies\",\"\\u20b9\",\"flipkart\",\"infosys\",\"mutual\",\"angry\",\"iits\",\"affected\",\"prices\",\"shares\",\"naruto\",\"processing\",\"finding\",\"democratic\",\"evolution\",\"harmful\",\"dual\",\"virtual\",\"member\",\"wave\",\"actual\",\"extra\",\"radio\",\"citizens\",\"e\",\"hr\",\"previous\",\"stopped\",\"walk\",\"redmi\",\"speaker\",\"torrent\",\"smoke\",\"mistakes\",\"flash\",\"iron\",\"entire\",\"individual\",\"express\",\"flow\",\"mode\",\"aircraft\",\"section\",\"planets\",\"10th\",\"respond\",\"easier\",\"evil\",\"percentile\",\"seeing\",\"calories\",\"upgrade\",\"professor\",\"v\",\"launch\",\"staff\",\"till\",\"silicon\",\"entry\",\"constitution\",\"century\",\"notice\",\"ie\",\"atheists\",\"tests\",\"21\",\"became\",\"kerala\",\"truly\",\"count\",\"essay\",\"papers\",\"accurate\",\"colors\",\"respect\",\"ideal\",\"rock\",\"reliance\",\"peace\",\"masturbation\",\"audio\",\"random\",\"independent\",\"colour\",\"hotels\",\"presidency\",\"generation\",\"paypal\",\"shot\",\"central\",\"released\",\"occur\",\"display\",\"industrial\",\"particular\",\"risk\",\"eg\",\"belly\",\"pet\",\"similarities\",\"organic\",\"marijuana\",\"networks\",\"aspects\",\"flat\",\"d\",\"comments\",\"nose\",\"identify\",\"rbi\",\"improvement\",\"directly\",\"framework\",\"suggestions\",\"designing\",\"brands\",\"religious\",\"influence\",\"novels\",\"statistics\",\"historical\",\"ground\",\"commerce\",\"pregnancy\",\"romantic\",\"failure\",\"wearing\",\"john\",\"apart\",\"bay\",\"symptoms\",\"200\",\"couple\",\"60\",\"canadian\",\"lie\",\"print\",\"carry\",\"gender\",\"experienced\",\"pounds\",\"reservation\",\"either\",\"stage\",\"artificial\",\"fit\",\"blogs\",\"developing\",\"environment\",\"learned\",\"copy\",\"phase\",\"bond\",\"democracy\",\"cgpa\",\"operating\",\"surface\",\"officers\",\"h1b\",\"ip\",\"workout\",\"fee\",\"elected\",\"hands\",\"largest\",\"sad\",\"shouldnt\",\"seat\",\"sister\",\"developers\",\"despite\",\"scene\",\"po\",\"diploma\",\"request\",\"empire\",\"ratio\",\"considering\",\"academic\",\"tree\",\"register\",\"advantage\",\"eligible\",\"nit\",\"shop\",\"intel\",\"funniest\",\"alternative\",\"fail\",\"ads\",\"nature\",\"miss\",\"involved\",\"overrated\",\"attend\",\"freedom\",\"dna\",\"beginners\",\"raise\",\"dry\",\"failed\",\"legally\",\"batman\",\"upload\",\"carbon\",\"regret\",\"applied\",\"points\",\"investors\",\"pick\",\"equivalent\",\"connected\",\"christmas\",\"lyrics\",\"nations\",\"caused\",\"bsc\",\"1st\",\"action\",\"activities\",\"biology\",\"hide\",\"asia\",\"takes\",\"require\",\"alive\",\"mom\",\"cycle\",\"generally\",\"campaign\",\"fair\",\"wake\",\"bit\",\"rules\",\"olympics\",\"racist\",\"areas\",\"eggs\",\"feature\",\"sap\",\"taxes\",\"ad\",\"shall\",\"theyre\",\"species\",\"pilot\",\"firm\",\"fish\",\"define\",\"doctors\",\"piece\",\"itself\",\"bang\",\"solutions\",\"iim\",\"2013\",\"wanted\",\"length\",\"burn\",\"waves\",\"bar\",\"gives\",\"forces\",\"christian\",\"anybody\",\"relationships\",\"nice\",\"wedding\",\"various\",\"brother\",\"films\",\"cream\",\"suddenly\",\"philippines\",\"fashion\",\"truth\",\"gpa\",\"cgl\",\"tall\",\"goa\",\"hacking\",\"statement\",\"reset\",\"materials\",\"played\",\"match\",\"usb\",\"novel\",\"unusual\",\"knowing\",\"selected\",\"valley\",\"chrome\",\"couples\",\"becomes\",\"died\",\"cheating\",\"community\",\"groups\",\"category\",\"pursuing\",\"writer\",\"mexico\",\"anymore\",\"sugar\",\"climate\",\"brown\",\"players\",\"ii\",\"reviews\",\"took\",\"led\",\"connection\",\"begin\",\"html\",\"changing\",\"received\",\"plants\",\"debit\",\"record\",\"revenue\",\"mars\",\"strongest\",\"members\",\"formed\",\"union\",\"thought\",\"existence\",\"kashmir\",\"gandhi\",\"pdf\",\"banned\",\"0\",\"plane\",\"treated\",\"electricity\",\"scale\",\"basis\",\"moral\",\"images\",\"methods\",\"certification\",\"voltage\",\"style\",\"base\",\"excel\",\"amazing\",\"regarding\",\"result\",\"rates\",\"hold\",\"indias\",\"airport\",\"businesses\",\"feet\",\"built\",\"linkedin\",\"signs\",\"above\",\"networking\",\"r\",\"shopping\",\"looks\",\"went\",\"placements\",\"bed\",\"experiences\",\"daughter\",\"tourist\",\"employee\",\"caste\",\"wait\",\"direct\",\"especially\",\"feed\",\"continue\",\"expected\",\"algorithm\",\"depressed\",\"shoes\",\"soon\",\"supply\",\"stress\",\"24\",\"inr\",\"foods\",\"rent\",\"architecture\",\"ban\",\"entrance\",\"actors\",\"messenger\",\"unique\",\"kolkata\",\"funds\",\"rupee\",\"promote\",\"rupees\",\"jews\",\"23\",\"cook\",\"cultural\",\"accepted\",\"hear\",\"glass\",\"road\",\"joining\",\"measure\",\"havent\",\"metal\",\"resume\",\"afraid\",\"turkey\",\"meat\",\"goes\",\"installation\",\"netflix\",\"benefit\",\"demand\",\"release\",\"produce\",\"report\",\"cover\",\"changes\",\"double\",\"2nd\",\"reaction\",\"killed\",\"steel\",\"requirements\",\"france\",\"exchange\",\"ac\",\"quantum\",\"reliable\",\"box\",\"results\",\"lives\",\"treatment\",\"4g\",\"ece\",\"probability\",\"sleeping\",\"philosophy\",\"handle\",\"forget\",\"driver\",\"demonetization\",\"algorithms\",\"trade\",\"rule\",\"muscle\",\"calls\",\"tried\",\"mental\",\"sure\",\"quit\",\"navy\",\"achieve\",\"francisco\",\"location\",\"until\",\"sense\",\"anxiety\",\"wordpress\",\"focus\",\"fact\",\"production\",\"conversation\",\"motor\",\"five\",\"attracted\",\"hit\",\"analyst\",\"moto\",\"isis\",\"chicken\",\"sector\",\"permanent\",\"along\",\"king\",\"slow\",\"candidate\",\"minutes\",\"purchase\",\"gun\",\"selling\",\"usually\",\"\\u2026\",\"fly\",\"round\",\"panel\",\"error\",\"stocks\",\"api\",\"remember\",\"africa\",\"paying\",\"hitler\",\"3d\",\"regular\",\"losing\",\"mail\",\"yahoo\",\"cheapest\",\"older\",\"concept\",\"characters\",\"definition\",\"lines\",\"pm\",\"cloud\",\"cats\",\"russian\",\"ipad\",\"korean\",\"proof\",\"battle\",\"stars\",\"stream\",\"recent\",\"typical\",\"performance\",\"harvard\",\"restaurant\",\"origin\",\"listen\",\"smell\",\"decide\",\"serve\",\"undergraduate\",\"profit\",\"situation\",\"surgery\",\"asking\",\"plant\",\"link\",\"square\",\"completing\",\"four\",\"trust\",\"payment\",\"gym\",\"andor\",\"worklife\",\"guitar\",\"elections\",\"half\",\"investing\",\"scientist\",\"street\",\"needs\",\"native\",\"thoughts\",\"reality\",\"40\",\"medicine\",\"race\",\"choice\",\"longer\",\"came\",\"applying\",\"hiring\",\"west\",\"weed\",\"hacks\",\"step\",\"sea\",\"crime\",\"devices\",\"event\",\"citizen\",\"14\",\"17\",\"ticket\",\"fund\",\"equation\",\"suicide\",\"whom\",\"met\",\"almost\",\"designer\",\"local\",\"departments\",\"khan\",\"customer\",\"banking\",\"javascript\",\"trip\",\"issue\",\"react\",\"cannot\",\"dubai\",\"wall\",\"touch\",\"parts\",\"loves\",\"clothes\",\"straight\",\"sexual\",\"active\",\"inpatient\",\"dreams\",\"protein\",\"table\",\"exercise\",\"lord\",\"mtech\",\"creative\",\"ball\",\"speaking\",\"son\",\"receive\",\"dollars\",\"domain\",\"prospects\",\"hour\",\"graduation\",\"commercial\",\"themselves\",\"factors\",\"jesus\",\"programmer\",\"recommend\",\"replace\",\"chat\",\"placement\",\"episode\",\"fastest\",\"restaurants\",\"object\",\"drivers\",\"gaming\",\"mark\",\"taste\",\"seem\",\"perfect\",\"potential\",\"trumps\",\"appear\",\"rights\",\"equal\",\"rest\",\"package\",\"meant\",\"drop\",\"cool\",\"material\",\"potter\",\"events\",\"convince\",\"completely\",\"n\",\"zero\",\"significance\",\"lower\",\"feelings\",\"followers\",\"evidence\",\"certain\",\"later\",\"original\",\"bible\",\"disorder\",\"testing\",\"via\",\"stand\",\"actor\",\"characteristics\",\"cities\",\"reach\",\"ago\",\"mbbs\",\"speech\",\"electric\",\"approach\",\"scientific\",\"root\",\"analytics\",\"below\",\"grade\",\"mains\",\"topic\",\"fun\",\"ancient\",\"adult\",\"standard\",\"ice\",\"everyday\",\"population\",\"invented\",\"european\",\"intelligent\",\"11\",\"subject\",\"rehab\",\"background\",\"giving\",\"platform\",\"flight\",\"thrones\",\"maths\",\"dc\",\"teeth\",\"mit\",\"weeks\",\"east\",\"means\",\"programs\",\"beginner\",\"heat\",\"third\",\"tea\",\"range\",\"london\",\"maximum\",\"enjoy\",\"2000\",\"cells\",\"quickly\",\"here\",\"expensive\",\"phrase\",\"partner\",\"league\",\"anime\",\"latest\",\"specific\",\"whether\",\"functions\",\"os\",\"fire\",\"saying\",\"secret\",\"13\",\"planet\",\"hole\",\"super\",\"teacher\",\"strong\",\"accounts\",\"minister\",\"database\",\"economic\",\"channel\",\"estate\",\"ram\",\"switch\",\"asian\",\"smoking\",\"branch\",\"israel\",\"18\",\"features\",\"success\",\"lead\",\"total\",\"key\",\"master\",\"ok\",\"favourite\",\"psychology\",\"pok\\u00e9mon\",\"nothing\",\"clean\",\"25\",\"politics\",\"drinking\",\"sometimes\",\"recently\",\"korea\",\"sent\",\"poor\",\"hindu\",\"hollywood\",\"survive\",\"cure\",\"property\",\"return\",\"narendra\",\"budget\",\"sports\",\"limit\",\"arent\",\"boys\",\"driving\",\"whole\",\"cash\",\"smartphone\",\"php\",\"developed\",\"ssc\",\"hot\",\"attractive\",\"tool\",\"physical\",\"ecommerce\",\"sbi\",\"morning\",\"animal\",\"multiple\",\"loan\",\"acid\",\"fresher\",\"spanish\",\"moving\",\"decision\",\"county\",\"determined\",\"becoming\",\"seo\",\"summer\",\"manage\",\"server\",\"competitive\",\"milk\",\"importance\",\"banks\",\"cheap\",\"powerful\",\"issues\",\"penis\",\"according\",\"analysis\",\"bike\",\"position\",\"western\",\"advanced\",\"campus\",\"highest\",\"front\",\"court\",\"status\",\"gravity\",\"positions\",\"comes\",\"steps\",\"complete\",\"electronics\",\"won\",\"hurt\",\"certificate\",\"temperature\",\"player\",\"someones\",\"communication\",\"million\",\"talking\",\"preparing\",\"finance\",\"cancer\",\"9\",\"harry\",\"accept\",\"2014\",\"plus\",\"born\",\"tcs\",\"license\",\"bring\",\"teach\",\"practice\",\"trading\",\"m\",\"might\",\"opportunities\",\"global\",\"wish\",\"outside\",\"attack\",\"procedure\",\"needed\",\"update\",\"coffee\",\"provider\",\"rather\",\"16\",\"allow\",\"tamil\",\"mix\",\"connect\",\"room\",\"watching\",\"deep\",\"york\",\"image\",\"birth\",\"sign\",\"birthday\",\"playing\",\"wars\",\"grads\",\"hire\",\"phones\",\"cbse\",\"details\",\"clear\",\"cricket\",\"dangerous\",\"track\",\"corporate\",\"voice\",\"upsc\",\"content\",\"okay\",\"san\",\"heart\",\"far\",\"heard\",\"prove\",\"positive\",\"moment\",\"sales\",\"opinion\",\"engineers\",\"block\",\"diet\",\"coding\",\"core\",\"baby\",\"father\",\"little\",\"large\",\"blocked\",\"distance\",\"land\",\"simple\",\"husband\",\"told\",\"traffic\",\"prevent\",\"pictures\",\"planning\",\"fear\",\"classes\",\"towards\",\"technical\",\"building\",\"trying\",\"photo\",\"early\",\"uses\",\"sydney\",\"startups\",\"act\",\"id\",\"describe\",\"12th\",\"may\",\"formula\",\"gets\",\"present\",\"wont\",\"cut\",\"treat\",\"mathematics\",\"visiting\",\"eye\",\"policy\",\"close\",\"cse\",\"suitable\",\"version\",\"tools\",\"head\",\"minimum\",\"chennai\",\"easily\",\"method\",\"intelligence\",\"gre\",\"mother\",\"doctor\",\"macbook\",\"deleted\",\"gas\",\"suggest\",\"cards\",\"files\",\"loss\",\"art\",\"easiest\",\"late\",\"among\",\"together\",\"depression\",\"higher\",\"alone\",\"economics\",\"dead\",\"growth\",\"insurance\",\"gold\",\"necessary\",\"neet\",\"blog\",\"example\",\"memory\",\"crack\",\"consider\",\"works\",\"currency\",\"recruit\",\"pursue\",\"strategy\",\"young\",\"cs\",\"projects\",\"50\",\"manager\",\"abroad\",\"schools\",\"illegal\",\"inside\",\"stories\",\"hand\",\"t\",\"greatest\",\"personality\",\"galaxy\",\"device\",\"views\",\"user\",\"chemistry\",\"cars\",\"iq\",\"prefer\",\"picture\",\"nuclear\",\"middle\",\"applications\",\"gmail\",\"laws\",\"final\",\"capital\",\"kids\",\"society\",\"fake\",\"bill\",\"save\",\"though\",\"likely\",\"determine\",\"shows\",\"character\",\"snapchat\",\"youre\",\"eyes\",\"islam\",\"marry\",\"brand\",\"yet\",\"impact\",\"speak\",\"within\",\"rich\",\"resources\",\"net\",\"non\",\"pressure\",\"changed\",\"allowed\",\"obama\",\"cold\",\"running\",\"feeling\",\"jio\",\"football\",\"gift\",\"written\",\"buying\",\"mac\",\"spend\",\"prime\",\"blue\",\"train\",\"studies\",\"negative\",\"thinking\",\"solution\",\"sun\",\"least\",\"following\",\"install\",\"else\",\"muslims\",\"camera\",\"vote\",\"linux\",\"expect\",\"german\",\"recover\",\"starting\",\"crush\",\"coming\",\"muslim\",\"modern\",\"battery\",\"provide\",\"access\",\"presidential\",\"interest\",\"dating\",\"pro\",\"likes\",\"french\",\"singapore\",\"useful\",\"already\",\"professional\",\"percentage\",\"drink\",\"created\",\"board\",\"passport\",\"structure\",\"case\",\"height\",\"microsoft\",\"break\",\"screen\",\"names\",\"chance\",\"special\",\"30\",\"skin\",\"natural\",\"color\",\"interested\",\"amount\",\"pain\",\"healthy\",\"hack\",\"messages\",\"ias\",\"gay\",\"disadvantages\",\"pass\",\"moon\",\"systems\",\"hindi\",\"financial\",\"taken\",\"yes\",\"sim\",\"pregnant\",\"faster\",\"animals\",\"internship\",\"let\",\"photos\",\"balance\",\"sound\",\"due\",\"knowledge\",\"charge\",\"message\",\"officer\",\"solar\",\"military\",\"meet\",\"option\",\"reading\",\"across\",\"overcome\",\"everyone\",\"everything\",\"wife\",\"reduce\",\"chances\",\"samsung\",\"income\",\"bollywood\",\"season\",\"europe\",\"boy\",\"currently\",\"ex\",\"smart\",\"california\",\"engine\",\"paid\",\"army\",\"contact\",\"address\",\"wants\",\"ones\",\"gain\",\"reasons\",\"avoid\",\"please\",\"note\",\"known\",\"pune\",\"film\",\"national\",\"once\",\"users\",\"porn\",\"scope\",\"twitter\",\"drug\",\"rank\",\"japan\",\"fight\",\"transfer\",\"political\",\"green\",\"news\",\"self\",\"uber\",\"basic\",\"british\",\"religion\",\"hyderabad\",\"topics\",\"explain\",\"phd\",\"eating\",\"letter\",\"calculate\",\"ive\",\"tech\",\"personal\",\"japanese\",\"check\",\"hotel\",\"wifi\",\"beautiful\",\"difficult\",\"paper\",\"languages\",\"investment\",\"develop\",\"north\",\"electrical\",\"ios\",\"alcohol\",\"exactly\",\"profile\",\"past\",\"exams\",\"ca\",\"convert\",\"vs\",\"understand\",\"care\",\"dream\",\"try\",\"americans\",\"lost\",\"chemical\",\"source\",\"b\",\"admission\",\"easy\",\"must\",\"three\",\"effect\",\"view\",\"options\",\"page\",\"away\",\"red\",\"said\",\"line\",\"short\",\"happy\",\"security\",\"dark\",\"preparation\",\"second\",\"fat\",\"matter\",\"few\",\"since\",\"role\",\"pc\",\"office\",\"team\",\"delete\",\"cell\",\"election\",\"economy\",\"term\",\"dogs\",\"text\",\"female\",\"effective\",\"brain\",\"share\",\"digital\",\"btech\",\"russia\",\"\\u201c\",\"party\",\"numbers\",\"20\",\"store\",\"male\",\"mass\",\"turn\",\"left\",\"married\",\"rs\",\"taking\",\"those\",\"password\",\"follow\",\"advice\",\"isnt\",\"15\",\"types\",\"network\",\"\\u201d\",\"week\",\"purpose\",\"related\",\"fix\",\"started\",\"courses\",\"masters\",\"grow\",\"8\",\"fast\",\"leave\",\"100\",\"often\",\"found\",\"pros\",\"marriage\",\"cons\",\"quality\",\"words\",\"kill\",\"price\",\"near\",\"modi\",\"enough\",\"search\",\"python\",\"x\",\"blood\",\"math\",\"yourself\",\"drive\",\"size\",\"star\",\"graduate\",\"majors\",\"500\",\"model\",\"studying\",\"general\",\"oil\",\"colleges\",\"area\",\"developer\",\"germany\",\"industry\",\"full\",\"training\",\"says\",\"period\",\"videos\",\"universe\",\"fall\",\"daily\",\"information\",\"foreign\",\"credit\",\"force\",\"12\",\"youve\",\"south\",\"offer\",\"set\",\"add\",\"send\",\"australia\",\"center\",\"1000\",\"famous\",\"2015\",\"lot\",\"function\",\"tax\",\"correct\",\"solve\",\"advantages\",\"coaching\",\"institute\",\"effects\",\"guys\",\"again\",\"group\",\"hours\",\"side\",\"sentence\",\"low\",\"similar\",\"plan\",\"children\",\"answers\",\"talk\",\"marks\",\"ideas\",\"theory\",\"death\",\"compared\",\"night\",\"remove\",\"dog\",\"anything\",\"single\",\"successful\",\"gate\",\"indians\",\"put\",\"problems\",\"move\",\"writing\",\"point\",\"invest\",\"asked\",\"biggest\",\"others\",\"stock\",\"notes\",\"story\",\"machine\",\"private\",\"sell\",\"seen\",\"required\",\"field\",\"file\",\"rate\",\"humans\",\"application\",\"face\",\"sites\",\"mind\",\"facts\",\"mumbai\",\"post\",\"stay\",\"child\",\"terms\",\"products\",\"control\",\"legal\",\"police\",\"didnt\",\"level\",\"worst\",\"hate\",\"visit\",\"called\",\"amazon\",\"causes\",\"health\",\"form\",\"physics\",\"iit\",\"skills\",\"times\",\"medical\",\"based\",\"list\",\"websites\",\"die\",\"part\",\"less\",\"benefits\",\"apple\",\"instead\",\"these\",\"boyfriend\",\"sleep\",\"canada\",\"reason\",\"education\",\"cause\",\"jee\",\"value\",\"today\",\"media\",\"public\",\"happened\",\"product\",\"research\",\"main\",\"behind\",\"international\",\"project\",\"uk\",\"differ\",\"7\",\"places\",\"wear\",\"order\",\"date\",\"etc\",\"small\",\"songs\",\"apps\",\"email\",\"given\",\"wrong\",\"site\",\"normal\",\"culture\",\"also\",\"civil\",\"city\",\"available\",\"house\",\"exist\",\"startup\",\"services\",\"ms\",\"both\",\"down\",\"2017\",\"run\",\"cat\",\"well\",\"space\",\"join\",\"deal\",\"games\",\"visa\",\"rid\",\"air\",\"speed\",\"popular\",\"problem\",\"support\",\"current\",\"pakistan\",\"choose\",\"build\",\"idea\",\"america\",\"whatsapp\",\"affect\",\"law\",\"technology\",\"call\",\"6\",\"universities\",\"family\",\"marketing\",\"major\",\"actually\",\"favorite\",\"light\",\"bangalore\",\"woman\",\"because\",\"type\",\"program\",\"looking\",\"living\",\"open\",\"believe\",\"month\",\"able\",\"management\",\"travel\",\"degree\",\"show\",\"interesting\",\"score\",\"months\",\"series\",\"chinese\",\"development\",\"end\",\"code\",\"design\",\"per\",\"employees\",\"review\",\"clinton\",\"common\",\"kind\",\"internet\",\"song\",\"download\",\"course\",\"parents\",\"jobs\",\"such\",\"increase\",\"java\",\"god\",\"another\",\"united\",\"girlfriend\",\"mechanical\",\"always\",\"next\",\"never\",\"around\",\"tips\",\"mba\",\"myself\",\"hillary\",\"apply\",\"answer\",\"something\",\"considered\",\"making\",\"differences\",\"market\",\"compare\",\"great\",\"keep\",\"test\",\"s\",\"win\",\"against\",\"states\",\"earn\",\"youtube\",\"worth\",\"delhi\",\"energy\",\"laptop\",\"american\",\"lose\",\"each\",\"hard\",\"makes\",\"age\",\"ask\",\"safe\",\"body\",\"power\",\"salary\",\"4\",\"watch\",\"white\",\"windows\",\"instagram\",\"history\",\"pay\",\"every\",\"last\",\"create\",\"relationship\",\"music\",\"too\",\"meaning\",\"state\",\"average\",\"earth\",\"got\",\"process\",\"class\",\"tv\",\"eat\",\"done\",\"happens\",\"days\",\"big\",\"off\",\"improve\",\"future\",\"place\",\"man\",\"human\",\"government\",\"play\",\"countries\",\"food\",\"service\",\"students\",\"weight\",\"game\",\"engineer\",\"write\",\"very\",\"interview\",\"web\",\"tell\",\"social\",\"girls\",\"video\",\"look\",\"having\",\"guy\",\"home\",\"hair\",\"usa\",\"doesnt\",\"word\",\"bank\",\"friend\",\"true\",\"experience\",\"career\",\"president\",\"question\",\"own\",\"china\",\"come\",\"under\",\"working\",\"him\",\"doing\",\"donald\",\"friends\",\"right\",\"5\",\"cost\",\"mobile\",\"even\",\"movies\",\"then\",\"c\",\"\\u2019\",\"exam\",\"men\",\"learning\",\"card\",\"war\",\"read\",\"programming\",\"black\",\"anyone\",\"high\",\"10\",\"companies\",\"car\",\"getting\",\"give\",\"important\",\"questions\",\"cant\",\"iphone\",\"website\",\"top\",\"water\",\"prepare\",\"during\",\"real\",\"say\",\"system\",\"name\",\"through\",\"two\",\"1\",\"our\",\"study\",\"3\",\"university\",\"made\",\"back\",\"happen\",\"stop\",\"student\",\"sex\",\"bad\",\"language\",\"going\",\"same\",\"before\",\"software\",\"school\",\"live\",\"country\",\"android\",\"science\",\"help\",\"she\",\"see\",\"thing\",\"women\",\"over\",\"data\",\"examples\",\"computer\",\"had\",\"ways\",\"change\",\"while\",\"book\",\"english\",\"account\",\"still\",\"movie\",\"books\",\"2016\",\"facebook\",\"free\",\"number\",\"college\",\"app\",\"2\",\"just\",\"now\",\"no\",\"trump\",\"company\",\"only\",\"old\",\"been\",\"google\",\"phone\",\"long\",\"different\",\"girl\",\"his\",\"her\",\"years\",\"really\",\"them\",\"using\",\"business\",\"need\",\"being\",\"buy\",\"day\",\"person\",\"things\",\"possible\",\"could\",\"were\",\"its\",\"love\",\"engineering\",\"im\",\"used\",\"online\",\"go\",\"year\",\"he\",\"into\",\"feel\",\"dont\",\"first\",\"up\"]]]}}},\"view\":{\"type\":\"object\",\"name\":\"CDSView\",\"id\":\"p1096\",\"attributes\":{\"filter\":{\"type\":\"object\",\"name\":\"AllIndices\",\"id\":\"p1097\"}}},\"glyph\":{\"type\":\"object\",\"name\":\"Scatter\",\"id\":\"p1092\",\"attributes\":{\"x\":{\"type\":\"field\",\"field\":\"x\"},\"y\":{\"type\":\"field\",\"field\":\"y\"},\"size\":{\"type\":\"value\",\"value\":10},\"line_color\":{\"type\":\"field\",\"field\":\"color\"},\"line_alpha\":{\"type\":\"value\",\"value\":0.25},\"fill_color\":{\"type\":\"field\",\"field\":\"color\"},\"fill_alpha\":{\"type\":\"value\",\"value\":0.25},\"hatch_color\":{\"type\":\"field\",\"field\":\"color\"},\"hatch_alpha\":{\"type\":\"value\",\"value\":0.25}}},\"nonselection_glyph\":{\"type\":\"object\",\"name\":\"Scatter\",\"id\":\"p1093\",\"attributes\":{\"x\":{\"type\":\"field\",\"field\":\"x\"},\"y\":{\"type\":\"field\",\"field\":\"y\"},\"size\":{\"type\":\"value\",\"value\":10},\"line_color\":{\"type\":\"field\",\"field\":\"color\"},\"line_alpha\":{\"type\":\"value\",\"value\":0.1},\"fill_color\":{\"type\":\"field\",\"field\":\"color\"},\"fill_alpha\":{\"type\":\"value\",\"value\":0.1},\"hatch_color\":{\"type\":\"field\",\"field\":\"color\"},\"hatch_alpha\":{\"type\":\"value\",\"value\":0.1}}},\"muted_glyph\":{\"type\":\"object\",\"name\":\"Scatter\",\"id\":\"p1094\",\"attributes\":{\"x\":{\"type\":\"field\",\"field\":\"x\"},\"y\":{\"type\":\"field\",\"field\":\"y\"},\"size\":{\"type\":\"value\",\"value\":10},\"line_color\":{\"type\":\"field\",\"field\":\"color\"},\"line_alpha\":{\"type\":\"value\",\"value\":0.2},\"fill_color\":{\"type\":\"field\",\"field\":\"color\"},\"fill_alpha\":{\"type\":\"value\",\"value\":0.2},\"hatch_color\":{\"type\":\"field\",\"field\":\"color\"},\"hatch_alpha\":{\"type\":\"value\",\"value\":0.2}}}}}],\"toolbar\":{\"type\":\"object\",\"name\":\"Toolbar\",\"id\":\"p1063\",\"attributes\":{\"tools\":[{\"type\":\"object\",\"name\":\"PanTool\",\"id\":\"p1076\"},{\"type\":\"object\",\"name\":\"WheelZoomTool\",\"id\":\"p1077\",\"attributes\":{\"renderers\":\"auto\"}},{\"type\":\"object\",\"name\":\"BoxZoomTool\",\"id\":\"p1078\",\"attributes\":{\"overlay\":{\"type\":\"object\",\"name\":\"BoxAnnotation\",\"id\":\"p1079\",\"attributes\":{\"syncable\":false,\"line_color\":\"black\",\"line_alpha\":1.0,\"line_width\":2,\"line_dash\":[4,4],\"fill_color\":\"lightgrey\",\"fill_alpha\":0.5,\"level\":\"overlay\",\"visible\":false,\"left\":{\"type\":\"number\",\"value\":\"nan\"},\"right\":{\"type\":\"number\",\"value\":\"nan\"},\"top\":{\"type\":\"number\",\"value\":\"nan\"},\"bottom\":{\"type\":\"number\",\"value\":\"nan\"},\"left_units\":\"canvas\",\"right_units\":\"canvas\",\"top_units\":\"canvas\",\"bottom_units\":\"canvas\",\"handles\":{\"type\":\"object\",\"name\":\"BoxInteractionHandles\",\"id\":\"p1085\",\"attributes\":{\"all\":{\"type\":\"object\",\"name\":\"AreaVisuals\",\"id\":\"p1084\",\"attributes\":{\"fill_color\":\"white\",\"hover_fill_color\":\"lightgray\"}}}}}}}},{\"type\":\"object\",\"name\":\"SaveTool\",\"id\":\"p1086\"},{\"type\":\"object\",\"name\":\"ResetTool\",\"id\":\"p1087\"},{\"type\":\"object\",\"name\":\"HelpTool\",\"id\":\"p1088\"},{\"type\":\"object\",\"name\":\"HoverTool\",\"id\":\"p1098\",\"attributes\":{\"renderers\":\"auto\",\"tooltips\":[[\"token\",\"@token\"]]}}],\"active_scroll\":{\"id\":\"p1077\"}}},\"left\":[{\"type\":\"object\",\"name\":\"LinearAxis\",\"id\":\"p1071\",\"attributes\":{\"ticker\":{\"type\":\"object\",\"name\":\"BasicTicker\",\"id\":\"p1072\",\"attributes\":{\"mantissas\":[1,2,5]}},\"formatter\":{\"type\":\"object\",\"name\":\"BasicTickFormatter\",\"id\":\"p1073\"},\"major_label_policy\":{\"type\":\"object\",\"name\":\"AllLabels\",\"id\":\"p1074\"}}}],\"below\":[{\"type\":\"object\",\"name\":\"LinearAxis\",\"id\":\"p1066\",\"attributes\":{\"ticker\":{\"type\":\"object\",\"name\":\"BasicTicker\",\"id\":\"p1067\",\"attributes\":{\"mantissas\":[1,2,5]}},\"formatter\":{\"type\":\"object\",\"name\":\"BasicTickFormatter\",\"id\":\"p1068\"},\"major_label_policy\":{\"type\":\"object\",\"name\":\"AllLabels\",\"id\":\"p1069\"}}}],\"center\":[{\"type\":\"object\",\"name\":\"Grid\",\"id\":\"p1070\",\"attributes\":{\"axis\":{\"id\":\"p1066\"}}},{\"type\":\"object\",\"name\":\"Grid\",\"id\":\"p1075\",\"attributes\":{\"dimension\":1,\"axis\":{\"id\":\"p1071\"}}}]}}]}};\n",
              "  const render_items = [{\"docid\":\"fda1734b-4cf5-4bd3-b368-615ddf56272e\",\"roots\":{\"p1055\":\"e610f386-0d57-4e6c-a825-43122d4776e7\"},\"root_ids\":[\"p1055\"]}];\n",
              "  void root.Bokeh.embed.embed_items_notebook(docs_json, render_items);\n",
              "  }\n",
              "  if (root.Bokeh !== undefined) {\n",
              "    embed_document(root);\n",
              "  } else {\n",
              "    let attempts = 0;\n",
              "    const timer = setInterval(function(root) {\n",
              "      if (root.Bokeh !== undefined) {\n",
              "        clearInterval(timer);\n",
              "        embed_document(root);\n",
              "      } else {\n",
              "        attempts++;\n",
              "        if (attempts > 100) {\n",
              "          clearInterval(timer);\n",
              "          console.log(\"Bokeh: ERROR: Unable to run BokehJS code because BokehJS library is missing\");\n",
              "        }\n",
              "      }\n",
              "    }, 10, root)\n",
              "  }\n",
              "})(window);"
            ],
            "application/vnd.bokehjs_exec.v0+json": ""
          },
          "metadata": {
            "application/vnd.bokehjs_exec.v0+json": {
              "id": "p1055"
            }
          }
        },
        {
          "output_type": "execute_result",
          "data": {
            "text/plain": [
              "figure(id='p1055', ...)"
            ],
            "text/html": [
              "<div style=\"display: table;\"><div style=\"display: table-row;\"><div style=\"display: table-cell;\"><b title=\"bokeh.plotting._figure.figure\">figure</b>(</div><div style=\"display: table-cell;\">id&nbsp;=&nbsp;'p1055', <span id=\"p1102\" style=\"cursor: pointer;\">&hellip;)</span></div></div><div class=\"p1101\" style=\"display: none;\"><div style=\"display: table-cell;\"></div><div style=\"display: table-cell;\">above&nbsp;=&nbsp;[],</div></div><div class=\"p1101\" style=\"display: none;\"><div style=\"display: table-cell;\"></div><div style=\"display: table-cell;\">align&nbsp;=&nbsp;'auto',</div></div><div class=\"p1101\" style=\"display: none;\"><div style=\"display: table-cell;\"></div><div style=\"display: table-cell;\">aspect_ratio&nbsp;=&nbsp;None,</div></div><div class=\"p1101\" style=\"display: none;\"><div style=\"display: table-cell;\"></div><div style=\"display: table-cell;\">aspect_scale&nbsp;=&nbsp;1,</div></div><div class=\"p1101\" style=\"display: none;\"><div style=\"display: table-cell;\"></div><div style=\"display: table-cell;\">attribution&nbsp;=&nbsp;[],</div></div><div class=\"p1101\" style=\"display: none;\"><div style=\"display: table-cell;\"></div><div style=\"display: table-cell;\">background_fill_alpha&nbsp;=&nbsp;1.0,</div></div><div class=\"p1101\" style=\"display: none;\"><div style=\"display: table-cell;\"></div><div style=\"display: table-cell;\">background_fill_color&nbsp;=&nbsp;'#ffffff',</div></div><div class=\"p1101\" style=\"display: none;\"><div style=\"display: table-cell;\"></div><div style=\"display: table-cell;\">below&nbsp;=&nbsp;[LinearAxis(id='p1066', ...)],</div></div><div class=\"p1101\" style=\"display: none;\"><div style=\"display: table-cell;\"></div><div style=\"display: table-cell;\">border_fill_alpha&nbsp;=&nbsp;1.0,</div></div><div class=\"p1101\" style=\"display: none;\"><div style=\"display: table-cell;\"></div><div style=\"display: table-cell;\">border_fill_color&nbsp;=&nbsp;'#ffffff',</div></div><div class=\"p1101\" style=\"display: none;\"><div style=\"display: table-cell;\"></div><div style=\"display: table-cell;\">center&nbsp;=&nbsp;[Grid(id='p1070', ...), Grid(id='p1075', ...)],</div></div><div class=\"p1101\" style=\"display: none;\"><div style=\"display: table-cell;\"></div><div style=\"display: table-cell;\">context_menu&nbsp;=&nbsp;None,</div></div><div class=\"p1101\" style=\"display: none;\"><div style=\"display: table-cell;\"></div><div style=\"display: table-cell;\">css_classes&nbsp;=&nbsp;[],</div></div><div class=\"p1101\" style=\"display: none;\"><div style=\"display: table-cell;\"></div><div style=\"display: table-cell;\">css_variables&nbsp;=&nbsp;{},</div></div><div class=\"p1101\" style=\"display: none;\"><div style=\"display: table-cell;\"></div><div style=\"display: table-cell;\">disabled&nbsp;=&nbsp;False,</div></div><div class=\"p1101\" style=\"display: none;\"><div style=\"display: table-cell;\"></div><div style=\"display: table-cell;\">elements&nbsp;=&nbsp;[],</div></div><div class=\"p1101\" style=\"display: none;\"><div style=\"display: table-cell;\"></div><div style=\"display: table-cell;\">extra_x_ranges&nbsp;=&nbsp;{},</div></div><div class=\"p1101\" style=\"display: none;\"><div style=\"display: table-cell;\"></div><div style=\"display: table-cell;\">extra_x_scales&nbsp;=&nbsp;{},</div></div><div class=\"p1101\" style=\"display: none;\"><div style=\"display: table-cell;\"></div><div style=\"display: table-cell;\">extra_y_ranges&nbsp;=&nbsp;{},</div></div><div class=\"p1101\" style=\"display: none;\"><div style=\"display: table-cell;\"></div><div style=\"display: table-cell;\">extra_y_scales&nbsp;=&nbsp;{},</div></div><div class=\"p1101\" style=\"display: none;\"><div style=\"display: table-cell;\"></div><div style=\"display: table-cell;\">flow_mode&nbsp;=&nbsp;'block',</div></div><div class=\"p1101\" style=\"display: none;\"><div style=\"display: table-cell;\"></div><div style=\"display: table-cell;\">frame_align&nbsp;=&nbsp;True,</div></div><div class=\"p1101\" style=\"display: none;\"><div style=\"display: table-cell;\"></div><div style=\"display: table-cell;\">frame_height&nbsp;=&nbsp;None,</div></div><div class=\"p1101\" style=\"display: none;\"><div style=\"display: table-cell;\"></div><div style=\"display: table-cell;\">frame_width&nbsp;=&nbsp;None,</div></div><div class=\"p1101\" style=\"display: none;\"><div style=\"display: table-cell;\"></div><div style=\"display: table-cell;\">height&nbsp;=&nbsp;400,</div></div><div class=\"p1101\" style=\"display: none;\"><div style=\"display: table-cell;\"></div><div style=\"display: table-cell;\">height_policy&nbsp;=&nbsp;'auto',</div></div><div class=\"p1101\" style=\"display: none;\"><div style=\"display: table-cell;\"></div><div style=\"display: table-cell;\">hidpi&nbsp;=&nbsp;True,</div></div><div class=\"p1101\" style=\"display: none;\"><div style=\"display: table-cell;\"></div><div style=\"display: table-cell;\">hold_render&nbsp;=&nbsp;False,</div></div><div class=\"p1101\" style=\"display: none;\"><div style=\"display: table-cell;\"></div><div style=\"display: table-cell;\">js_event_callbacks&nbsp;=&nbsp;{},</div></div><div class=\"p1101\" style=\"display: none;\"><div style=\"display: table-cell;\"></div><div style=\"display: table-cell;\">js_property_callbacks&nbsp;=&nbsp;{},</div></div><div class=\"p1101\" style=\"display: none;\"><div style=\"display: table-cell;\"></div><div style=\"display: table-cell;\">left&nbsp;=&nbsp;[LinearAxis(id='p1071', ...)],</div></div><div class=\"p1101\" style=\"display: none;\"><div style=\"display: table-cell;\"></div><div style=\"display: table-cell;\">lod_factor&nbsp;=&nbsp;10,</div></div><div class=\"p1101\" style=\"display: none;\"><div style=\"display: table-cell;\"></div><div style=\"display: table-cell;\">lod_interval&nbsp;=&nbsp;300,</div></div><div class=\"p1101\" style=\"display: none;\"><div style=\"display: table-cell;\"></div><div style=\"display: table-cell;\">lod_threshold&nbsp;=&nbsp;2000,</div></div><div class=\"p1101\" style=\"display: none;\"><div style=\"display: table-cell;\"></div><div style=\"display: table-cell;\">lod_timeout&nbsp;=&nbsp;500,</div></div><div class=\"p1101\" style=\"display: none;\"><div style=\"display: table-cell;\"></div><div style=\"display: table-cell;\">margin&nbsp;=&nbsp;None,</div></div><div class=\"p1101\" style=\"display: none;\"><div style=\"display: table-cell;\"></div><div style=\"display: table-cell;\">match_aspect&nbsp;=&nbsp;False,</div></div><div class=\"p1101\" style=\"display: none;\"><div style=\"display: table-cell;\"></div><div style=\"display: table-cell;\">max_height&nbsp;=&nbsp;None,</div></div><div class=\"p1101\" style=\"display: none;\"><div style=\"display: table-cell;\"></div><div style=\"display: table-cell;\">max_width&nbsp;=&nbsp;None,</div></div><div class=\"p1101\" style=\"display: none;\"><div style=\"display: table-cell;\"></div><div style=\"display: table-cell;\">min_border&nbsp;=&nbsp;5,</div></div><div class=\"p1101\" style=\"display: none;\"><div style=\"display: table-cell;\"></div><div style=\"display: table-cell;\">min_border_bottom&nbsp;=&nbsp;None,</div></div><div class=\"p1101\" style=\"display: none;\"><div style=\"display: table-cell;\"></div><div style=\"display: table-cell;\">min_border_left&nbsp;=&nbsp;None,</div></div><div class=\"p1101\" style=\"display: none;\"><div style=\"display: table-cell;\"></div><div style=\"display: table-cell;\">min_border_right&nbsp;=&nbsp;None,</div></div><div class=\"p1101\" style=\"display: none;\"><div style=\"display: table-cell;\"></div><div style=\"display: table-cell;\">min_border_top&nbsp;=&nbsp;None,</div></div><div class=\"p1101\" style=\"display: none;\"><div style=\"display: table-cell;\"></div><div style=\"display: table-cell;\">min_height&nbsp;=&nbsp;None,</div></div><div class=\"p1101\" style=\"display: none;\"><div style=\"display: table-cell;\"></div><div style=\"display: table-cell;\">min_width&nbsp;=&nbsp;None,</div></div><div class=\"p1101\" style=\"display: none;\"><div style=\"display: table-cell;\"></div><div style=\"display: table-cell;\">name&nbsp;=&nbsp;None,</div></div><div class=\"p1101\" style=\"display: none;\"><div style=\"display: table-cell;\"></div><div style=\"display: table-cell;\">outline_line_alpha&nbsp;=&nbsp;1.0,</div></div><div class=\"p1101\" style=\"display: none;\"><div style=\"display: table-cell;\"></div><div style=\"display: table-cell;\">outline_line_cap&nbsp;=&nbsp;'butt',</div></div><div class=\"p1101\" style=\"display: none;\"><div style=\"display: table-cell;\"></div><div style=\"display: table-cell;\">outline_line_color&nbsp;=&nbsp;'#e5e5e5',</div></div><div class=\"p1101\" style=\"display: none;\"><div style=\"display: table-cell;\"></div><div style=\"display: table-cell;\">outline_line_dash&nbsp;=&nbsp;[],</div></div><div class=\"p1101\" style=\"display: none;\"><div style=\"display: table-cell;\"></div><div style=\"display: table-cell;\">outline_line_dash_offset&nbsp;=&nbsp;0,</div></div><div class=\"p1101\" style=\"display: none;\"><div style=\"display: table-cell;\"></div><div style=\"display: table-cell;\">outline_line_join&nbsp;=&nbsp;'bevel',</div></div><div class=\"p1101\" style=\"display: none;\"><div style=\"display: table-cell;\"></div><div style=\"display: table-cell;\">outline_line_width&nbsp;=&nbsp;1,</div></div><div class=\"p1101\" style=\"display: none;\"><div style=\"display: table-cell;\"></div><div style=\"display: table-cell;\">output_backend&nbsp;=&nbsp;'canvas',</div></div><div class=\"p1101\" style=\"display: none;\"><div style=\"display: table-cell;\"></div><div style=\"display: table-cell;\">renderers&nbsp;=&nbsp;[GlyphRenderer(id='p1095', ...)],</div></div><div class=\"p1101\" style=\"display: none;\"><div style=\"display: table-cell;\"></div><div style=\"display: table-cell;\">reset_policy&nbsp;=&nbsp;'standard',</div></div><div class=\"p1101\" style=\"display: none;\"><div style=\"display: table-cell;\"></div><div style=\"display: table-cell;\">resizable&nbsp;=&nbsp;False,</div></div><div class=\"p1101\" style=\"display: none;\"><div style=\"display: table-cell;\"></div><div style=\"display: table-cell;\">right&nbsp;=&nbsp;[],</div></div><div class=\"p1101\" style=\"display: none;\"><div style=\"display: table-cell;\"></div><div style=\"display: table-cell;\">sizing_mode&nbsp;=&nbsp;None,</div></div><div class=\"p1101\" style=\"display: none;\"><div style=\"display: table-cell;\"></div><div style=\"display: table-cell;\">styles&nbsp;=&nbsp;{},</div></div><div class=\"p1101\" style=\"display: none;\"><div style=\"display: table-cell;\"></div><div style=\"display: table-cell;\">stylesheets&nbsp;=&nbsp;[],</div></div><div class=\"p1101\" style=\"display: none;\"><div style=\"display: table-cell;\"></div><div style=\"display: table-cell;\">subscribed_events&nbsp;=&nbsp;PropertyValueSet(),</div></div><div class=\"p1101\" style=\"display: none;\"><div style=\"display: table-cell;\"></div><div style=\"display: table-cell;\">syncable&nbsp;=&nbsp;True,</div></div><div class=\"p1101\" style=\"display: none;\"><div style=\"display: table-cell;\"></div><div style=\"display: table-cell;\">tags&nbsp;=&nbsp;[],</div></div><div class=\"p1101\" style=\"display: none;\"><div style=\"display: table-cell;\"></div><div style=\"display: table-cell;\">title&nbsp;=&nbsp;Title(id='p1062', ...),</div></div><div class=\"p1101\" style=\"display: none;\"><div style=\"display: table-cell;\"></div><div style=\"display: table-cell;\">title_location&nbsp;=&nbsp;'above',</div></div><div class=\"p1101\" style=\"display: none;\"><div style=\"display: table-cell;\"></div><div style=\"display: table-cell;\">toolbar&nbsp;=&nbsp;Toolbar(id='p1063', ...),</div></div><div class=\"p1101\" style=\"display: none;\"><div style=\"display: table-cell;\"></div><div style=\"display: table-cell;\">toolbar_inner&nbsp;=&nbsp;False,</div></div><div class=\"p1101\" style=\"display: none;\"><div style=\"display: table-cell;\"></div><div style=\"display: table-cell;\">toolbar_location&nbsp;=&nbsp;'right',</div></div><div class=\"p1101\" style=\"display: none;\"><div style=\"display: table-cell;\"></div><div style=\"display: table-cell;\">toolbar_sticky&nbsp;=&nbsp;True,</div></div><div class=\"p1101\" style=\"display: none;\"><div style=\"display: table-cell;\"></div><div style=\"display: table-cell;\">visible&nbsp;=&nbsp;True,</div></div><div class=\"p1101\" style=\"display: none;\"><div style=\"display: table-cell;\"></div><div style=\"display: table-cell;\">width&nbsp;=&nbsp;600,</div></div><div class=\"p1101\" style=\"display: none;\"><div style=\"display: table-cell;\"></div><div style=\"display: table-cell;\">width_policy&nbsp;=&nbsp;'auto',</div></div><div class=\"p1101\" style=\"display: none;\"><div style=\"display: table-cell;\"></div><div style=\"display: table-cell;\">x_range&nbsp;=&nbsp;DataRange1d(id='p1056', ...),</div></div><div class=\"p1101\" style=\"display: none;\"><div style=\"display: table-cell;\"></div><div style=\"display: table-cell;\">x_scale&nbsp;=&nbsp;LinearScale(id='p1064', ...),</div></div><div class=\"p1101\" style=\"display: none;\"><div style=\"display: table-cell;\"></div><div style=\"display: table-cell;\">y_range&nbsp;=&nbsp;DataRange1d(id='p1057', ...),</div></div><div class=\"p1101\" style=\"display: none;\"><div style=\"display: table-cell;\"></div><div style=\"display: table-cell;\">y_scale&nbsp;=&nbsp;LinearScale(id='p1065', ...))</div></div></div>\n",
              "<script>\n",
              "(function() {\n",
              "  let expanded = false;\n",
              "  const ellipsis = document.getElementById(\"p1102\");\n",
              "  ellipsis.addEventListener(\"click\", function() {\n",
              "    const rows = document.getElementsByClassName(\"p1101\");\n",
              "    for (let i = 0; i < rows.length; i++) {\n",
              "      const el = rows[i];\n",
              "      el.style.display = expanded ? \"none\" : \"table-row\";\n",
              "    }\n",
              "    ellipsis.innerHTML = expanded ? \"&hellip;)\" : \"&lsaquo;&lsaquo;&lsaquo;\";\n",
              "    expanded = !expanded;\n",
              "  });\n",
              "})();\n",
              "</script>\n"
            ]
          },
          "metadata": {},
          "execution_count": 98
        }
      ],
      "source": [
        "draw_vectors(embedding[:, 0], embedding[:, 1], token=top_words)"
      ]
    },
    {
      "cell_type": "markdown",
      "metadata": {
        "id": "QjiviEv55OTm"
      },
      "source": [
        "Для сдачи задания необходимо загрузить функции `subsample_frequent_words` и `get_negative_sampling_prob`, а также сгенерировать файл для посылки ниже и приложить в соответствующую задачу. Успехов!"
      ]
    },
    {
      "cell_type": "code",
      "execution_count": 100,
      "metadata": {
        "colab": {
          "base_uri": "https://localhost:8080/"
        },
        "id": "dAsbaOF15OTm",
        "outputId": "338656ab-eb62-402a-c2f5-63b1ca12f05a"
      },
      "outputs": [
        {
          "output_type": "stream",
          "name": "stdout",
          "text": [
            "File saved to `submission_dict.json`\n"
          ]
        }
      ],
      "source": [
        "# do not change the code in the block below\n",
        "# __________start of block__________\n",
        "import os\n",
        "import json\n",
        "\n",
        "assert os.path.exists(\n",
        "    \"words_subset.txt\"\n",
        "), \"Please, download `words_subset.txt` and place it in the working directory\"\n",
        "\n",
        "with open(\"words_subset.txt\") as iofile:\n",
        "    selected_words = iofile.read().split(\"\\n\")\n",
        "\n",
        "\n",
        "def get_matrix_for_selected_words(selected_words, embedding_matrix, word_to_index):\n",
        "    word_vectors = []\n",
        "    for word in selected_words:\n",
        "        index = word_to_index.get(word, None)\n",
        "        vector = [0.0] * embedding_matrix.shape[1]\n",
        "        if index is not None:\n",
        "            vector = embedding_matrix[index].numpy().tolist()\n",
        "        word_vectors.append(vector)\n",
        "    return word_vectors\n",
        "\n",
        "\n",
        "# word_vectors = get_matrix_for_selected_words(\n",
        "#     selected_words, embedding_matrix_context, word_to_index\n",
        "# )\n",
        "\n",
        "word_vectors = get_matrix_for_selected_words(\n",
        "    selected_words, embedding_matrix_center, word_to_index\n",
        ")\n",
        "\n",
        "with open(\"submission_dict.json\", \"w\") as iofile:\n",
        "    json.dump(word_vectors, iofile)\n",
        "print(\"File saved to `submission_dict.json`\")\n",
        "# __________end of block__________"
      ]
    },
    {
      "cell_type": "code",
      "source": [],
      "metadata": {
        "id": "Qjbu01fnhWJy"
      },
      "execution_count": null,
      "outputs": []
    }
  ],
  "metadata": {
    "colab": {
      "provenance": [],
      "include_colab_link": true
    },
    "kernelspec": {
      "display_name": "py3_research",
      "language": "python",
      "name": "python3"
    },
    "language_info": {
      "codemirror_mode": {
        "name": "ipython",
        "version": 3
      },
      "file_extension": ".py",
      "mimetype": "text/x-python",
      "name": "python",
      "nbconvert_exporter": "python",
      "pygments_lexer": "ipython3",
      "version": "3.11.2"
    },
    "widgets": {
      "application/vnd.jupyter.widget-state+json": {
        "657e84887797419fa2fb91b60ad40948": {
          "model_module": "@jupyter-widgets/controls",
          "model_name": "HBoxModel",
          "model_module_version": "1.5.0",
          "state": {
            "_dom_classes": [],
            "_model_module": "@jupyter-widgets/controls",
            "_model_module_version": "1.5.0",
            "_model_name": "HBoxModel",
            "_view_count": null,
            "_view_module": "@jupyter-widgets/controls",
            "_view_module_version": "1.5.0",
            "_view_name": "HBoxView",
            "box_style": "",
            "children": [
              "IPY_MODEL_032fde1f9b8b459fa611be9ccc0374f3",
              "IPY_MODEL_c4612f2395cf43dfb8a1580cd9d89c86",
              "IPY_MODEL_82309caa39054a5eab31f725624c3e68"
            ],
            "layout": "IPY_MODEL_81aace05c9f1439fad8f053d9b433093"
          }
        },
        "032fde1f9b8b459fa611be9ccc0374f3": {
          "model_module": "@jupyter-widgets/controls",
          "model_name": "HTMLModel",
          "model_module_version": "1.5.0",
          "state": {
            "_dom_classes": [],
            "_model_module": "@jupyter-widgets/controls",
            "_model_module_version": "1.5.0",
            "_model_name": "HTMLModel",
            "_view_count": null,
            "_view_module": "@jupyter-widgets/controls",
            "_view_module_version": "1.5.0",
            "_view_name": "HTMLView",
            "description": "",
            "description_tooltip": null,
            "layout": "IPY_MODEL_6add76283f3846708af05bc646a513f0",
            "placeholder": "​",
            "style": "IPY_MODEL_72be5a4ccee04351b2f90628027db3e7",
            "value": "100%"
          }
        },
        "c4612f2395cf43dfb8a1580cd9d89c86": {
          "model_module": "@jupyter-widgets/controls",
          "model_name": "FloatProgressModel",
          "model_module_version": "1.5.0",
          "state": {
            "_dom_classes": [],
            "_model_module": "@jupyter-widgets/controls",
            "_model_module_version": "1.5.0",
            "_model_name": "FloatProgressModel",
            "_view_count": null,
            "_view_module": "@jupyter-widgets/controls",
            "_view_module_version": "1.5.0",
            "_view_name": "ProgressView",
            "bar_style": "success",
            "description": "",
            "description_tooltip": null,
            "layout": "IPY_MODEL_fa497ab789d145ffb047fc47584ed138",
            "max": 3500,
            "min": 0,
            "orientation": "horizontal",
            "style": "IPY_MODEL_16311f7dd0314be78eb244e0b185a48f",
            "value": 3500
          }
        },
        "82309caa39054a5eab31f725624c3e68": {
          "model_module": "@jupyter-widgets/controls",
          "model_name": "HTMLModel",
          "model_module_version": "1.5.0",
          "state": {
            "_dom_classes": [],
            "_model_module": "@jupyter-widgets/controls",
            "_model_module_version": "1.5.0",
            "_model_name": "HTMLModel",
            "_view_count": null,
            "_view_module": "@jupyter-widgets/controls",
            "_view_module_version": "1.5.0",
            "_view_name": "HTMLView",
            "description": "",
            "description_tooltip": null,
            "layout": "IPY_MODEL_ec45fec5d38e4b4498ad9fbf25fdb690",
            "placeholder": "​",
            "style": "IPY_MODEL_a4da93e625ab493898e51d607e2e5207",
            "value": " 3500/3500 [14:58&lt;00:00,  3.97it/s]"
          }
        },
        "81aace05c9f1439fad8f053d9b433093": {
          "model_module": "@jupyter-widgets/base",
          "model_name": "LayoutModel",
          "model_module_version": "1.2.0",
          "state": {
            "_model_module": "@jupyter-widgets/base",
            "_model_module_version": "1.2.0",
            "_model_name": "LayoutModel",
            "_view_count": null,
            "_view_module": "@jupyter-widgets/base",
            "_view_module_version": "1.2.0",
            "_view_name": "LayoutView",
            "align_content": null,
            "align_items": null,
            "align_self": null,
            "border": null,
            "bottom": null,
            "display": null,
            "flex": null,
            "flex_flow": null,
            "grid_area": null,
            "grid_auto_columns": null,
            "grid_auto_flow": null,
            "grid_auto_rows": null,
            "grid_column": null,
            "grid_gap": null,
            "grid_row": null,
            "grid_template_areas": null,
            "grid_template_columns": null,
            "grid_template_rows": null,
            "height": null,
            "justify_content": null,
            "justify_items": null,
            "left": null,
            "margin": null,
            "max_height": null,
            "max_width": null,
            "min_height": null,
            "min_width": null,
            "object_fit": null,
            "object_position": null,
            "order": null,
            "overflow": null,
            "overflow_x": null,
            "overflow_y": null,
            "padding": null,
            "right": null,
            "top": null,
            "visibility": null,
            "width": null
          }
        },
        "6add76283f3846708af05bc646a513f0": {
          "model_module": "@jupyter-widgets/base",
          "model_name": "LayoutModel",
          "model_module_version": "1.2.0",
          "state": {
            "_model_module": "@jupyter-widgets/base",
            "_model_module_version": "1.2.0",
            "_model_name": "LayoutModel",
            "_view_count": null,
            "_view_module": "@jupyter-widgets/base",
            "_view_module_version": "1.2.0",
            "_view_name": "LayoutView",
            "align_content": null,
            "align_items": null,
            "align_self": null,
            "border": null,
            "bottom": null,
            "display": null,
            "flex": null,
            "flex_flow": null,
            "grid_area": null,
            "grid_auto_columns": null,
            "grid_auto_flow": null,
            "grid_auto_rows": null,
            "grid_column": null,
            "grid_gap": null,
            "grid_row": null,
            "grid_template_areas": null,
            "grid_template_columns": null,
            "grid_template_rows": null,
            "height": null,
            "justify_content": null,
            "justify_items": null,
            "left": null,
            "margin": null,
            "max_height": null,
            "max_width": null,
            "min_height": null,
            "min_width": null,
            "object_fit": null,
            "object_position": null,
            "order": null,
            "overflow": null,
            "overflow_x": null,
            "overflow_y": null,
            "padding": null,
            "right": null,
            "top": null,
            "visibility": null,
            "width": null
          }
        },
        "72be5a4ccee04351b2f90628027db3e7": {
          "model_module": "@jupyter-widgets/controls",
          "model_name": "DescriptionStyleModel",
          "model_module_version": "1.5.0",
          "state": {
            "_model_module": "@jupyter-widgets/controls",
            "_model_module_version": "1.5.0",
            "_model_name": "DescriptionStyleModel",
            "_view_count": null,
            "_view_module": "@jupyter-widgets/base",
            "_view_module_version": "1.2.0",
            "_view_name": "StyleView",
            "description_width": ""
          }
        },
        "fa497ab789d145ffb047fc47584ed138": {
          "model_module": "@jupyter-widgets/base",
          "model_name": "LayoutModel",
          "model_module_version": "1.2.0",
          "state": {
            "_model_module": "@jupyter-widgets/base",
            "_model_module_version": "1.2.0",
            "_model_name": "LayoutModel",
            "_view_count": null,
            "_view_module": "@jupyter-widgets/base",
            "_view_module_version": "1.2.0",
            "_view_name": "LayoutView",
            "align_content": null,
            "align_items": null,
            "align_self": null,
            "border": null,
            "bottom": null,
            "display": null,
            "flex": null,
            "flex_flow": null,
            "grid_area": null,
            "grid_auto_columns": null,
            "grid_auto_flow": null,
            "grid_auto_rows": null,
            "grid_column": null,
            "grid_gap": null,
            "grid_row": null,
            "grid_template_areas": null,
            "grid_template_columns": null,
            "grid_template_rows": null,
            "height": null,
            "justify_content": null,
            "justify_items": null,
            "left": null,
            "margin": null,
            "max_height": null,
            "max_width": null,
            "min_height": null,
            "min_width": null,
            "object_fit": null,
            "object_position": null,
            "order": null,
            "overflow": null,
            "overflow_x": null,
            "overflow_y": null,
            "padding": null,
            "right": null,
            "top": null,
            "visibility": null,
            "width": null
          }
        },
        "16311f7dd0314be78eb244e0b185a48f": {
          "model_module": "@jupyter-widgets/controls",
          "model_name": "ProgressStyleModel",
          "model_module_version": "1.5.0",
          "state": {
            "_model_module": "@jupyter-widgets/controls",
            "_model_module_version": "1.5.0",
            "_model_name": "ProgressStyleModel",
            "_view_count": null,
            "_view_module": "@jupyter-widgets/base",
            "_view_module_version": "1.2.0",
            "_view_name": "StyleView",
            "bar_color": null,
            "description_width": ""
          }
        },
        "ec45fec5d38e4b4498ad9fbf25fdb690": {
          "model_module": "@jupyter-widgets/base",
          "model_name": "LayoutModel",
          "model_module_version": "1.2.0",
          "state": {
            "_model_module": "@jupyter-widgets/base",
            "_model_module_version": "1.2.0",
            "_model_name": "LayoutModel",
            "_view_count": null,
            "_view_module": "@jupyter-widgets/base",
            "_view_module_version": "1.2.0",
            "_view_name": "LayoutView",
            "align_content": null,
            "align_items": null,
            "align_self": null,
            "border": null,
            "bottom": null,
            "display": null,
            "flex": null,
            "flex_flow": null,
            "grid_area": null,
            "grid_auto_columns": null,
            "grid_auto_flow": null,
            "grid_auto_rows": null,
            "grid_column": null,
            "grid_gap": null,
            "grid_row": null,
            "grid_template_areas": null,
            "grid_template_columns": null,
            "grid_template_rows": null,
            "height": null,
            "justify_content": null,
            "justify_items": null,
            "left": null,
            "margin": null,
            "max_height": null,
            "max_width": null,
            "min_height": null,
            "min_width": null,
            "object_fit": null,
            "object_position": null,
            "order": null,
            "overflow": null,
            "overflow_x": null,
            "overflow_y": null,
            "padding": null,
            "right": null,
            "top": null,
            "visibility": null,
            "width": null
          }
        },
        "a4da93e625ab493898e51d607e2e5207": {
          "model_module": "@jupyter-widgets/controls",
          "model_name": "DescriptionStyleModel",
          "model_module_version": "1.5.0",
          "state": {
            "_model_module": "@jupyter-widgets/controls",
            "_model_module_version": "1.5.0",
            "_model_name": "DescriptionStyleModel",
            "_view_count": null,
            "_view_module": "@jupyter-widgets/base",
            "_view_module_version": "1.2.0",
            "_view_name": "StyleView",
            "description_width": ""
          }
        },
        "0d5994c5de9c4017ac19c824fb96c445": {
          "model_module": "@jupyter-widgets/controls",
          "model_name": "HBoxModel",
          "model_module_version": "1.5.0",
          "state": {
            "_dom_classes": [],
            "_model_module": "@jupyter-widgets/controls",
            "_model_module_version": "1.5.0",
            "_model_name": "HBoxModel",
            "_view_count": null,
            "_view_module": "@jupyter-widgets/controls",
            "_view_module_version": "1.5.0",
            "_view_name": "HBoxView",
            "box_style": "",
            "children": [
              "IPY_MODEL_0e76f65d4d5d40bdb10b8bb0cb5960dc",
              "IPY_MODEL_e7fb8f3d08454c8896411e8bdb8097ad",
              "IPY_MODEL_bb2efc70f08848c3abf6aaec13c52c79"
            ],
            "layout": "IPY_MODEL_5230223611794deea1c4996ff4a3c8aa"
          }
        },
        "0e76f65d4d5d40bdb10b8bb0cb5960dc": {
          "model_module": "@jupyter-widgets/controls",
          "model_name": "HTMLModel",
          "model_module_version": "1.5.0",
          "state": {
            "_dom_classes": [],
            "_model_module": "@jupyter-widgets/controls",
            "_model_module_version": "1.5.0",
            "_model_name": "HTMLModel",
            "_view_count": null,
            "_view_module": "@jupyter-widgets/controls",
            "_view_module_version": "1.5.0",
            "_view_name": "HTMLView",
            "description": "",
            "description_tooltip": null,
            "layout": "IPY_MODEL_3e57eb6522664c5dbf5be22d034c8c6d",
            "placeholder": "​",
            "style": "IPY_MODEL_868ca792805641218e3ab6ff95faad84",
            "value": "100%"
          }
        },
        "e7fb8f3d08454c8896411e8bdb8097ad": {
          "model_module": "@jupyter-widgets/controls",
          "model_name": "FloatProgressModel",
          "model_module_version": "1.5.0",
          "state": {
            "_dom_classes": [],
            "_model_module": "@jupyter-widgets/controls",
            "_model_module_version": "1.5.0",
            "_model_name": "FloatProgressModel",
            "_view_count": null,
            "_view_module": "@jupyter-widgets/controls",
            "_view_module_version": "1.5.0",
            "_view_name": "ProgressView",
            "bar_style": "success",
            "description": "",
            "description_tooltip": null,
            "layout": "IPY_MODEL_38cde6877f8c43cdadf8b5ee1e4c5908",
            "max": 1,
            "min": 0,
            "orientation": "horizontal",
            "style": "IPY_MODEL_a63b0e18616b4a75acbba2c4e4a41a34",
            "value": 1
          }
        },
        "bb2efc70f08848c3abf6aaec13c52c79": {
          "model_module": "@jupyter-widgets/controls",
          "model_name": "HTMLModel",
          "model_module_version": "1.5.0",
          "state": {
            "_dom_classes": [],
            "_model_module": "@jupyter-widgets/controls",
            "_model_module_version": "1.5.0",
            "_model_name": "HTMLModel",
            "_view_count": null,
            "_view_module": "@jupyter-widgets/controls",
            "_view_module_version": "1.5.0",
            "_view_name": "HTMLView",
            "description": "",
            "description_tooltip": null,
            "layout": "IPY_MODEL_bc131cc0d4094443abb2461191641e87",
            "placeholder": "​",
            "style": "IPY_MODEL_b8fc56a77f9e4981969007dd4276c5ea",
            "value": " 1/1 [00:00&lt;00:00,  3.48it/s]"
          }
        },
        "5230223611794deea1c4996ff4a3c8aa": {
          "model_module": "@jupyter-widgets/base",
          "model_name": "LayoutModel",
          "model_module_version": "1.2.0",
          "state": {
            "_model_module": "@jupyter-widgets/base",
            "_model_module_version": "1.2.0",
            "_model_name": "LayoutModel",
            "_view_count": null,
            "_view_module": "@jupyter-widgets/base",
            "_view_module_version": "1.2.0",
            "_view_name": "LayoutView",
            "align_content": null,
            "align_items": null,
            "align_self": null,
            "border": null,
            "bottom": null,
            "display": null,
            "flex": null,
            "flex_flow": null,
            "grid_area": null,
            "grid_auto_columns": null,
            "grid_auto_flow": null,
            "grid_auto_rows": null,
            "grid_column": null,
            "grid_gap": null,
            "grid_row": null,
            "grid_template_areas": null,
            "grid_template_columns": null,
            "grid_template_rows": null,
            "height": null,
            "justify_content": null,
            "justify_items": null,
            "left": null,
            "margin": null,
            "max_height": null,
            "max_width": null,
            "min_height": null,
            "min_width": null,
            "object_fit": null,
            "object_position": null,
            "order": null,
            "overflow": null,
            "overflow_x": null,
            "overflow_y": null,
            "padding": null,
            "right": null,
            "top": null,
            "visibility": null,
            "width": null
          }
        },
        "3e57eb6522664c5dbf5be22d034c8c6d": {
          "model_module": "@jupyter-widgets/base",
          "model_name": "LayoutModel",
          "model_module_version": "1.2.0",
          "state": {
            "_model_module": "@jupyter-widgets/base",
            "_model_module_version": "1.2.0",
            "_model_name": "LayoutModel",
            "_view_count": null,
            "_view_module": "@jupyter-widgets/base",
            "_view_module_version": "1.2.0",
            "_view_name": "LayoutView",
            "align_content": null,
            "align_items": null,
            "align_self": null,
            "border": null,
            "bottom": null,
            "display": null,
            "flex": null,
            "flex_flow": null,
            "grid_area": null,
            "grid_auto_columns": null,
            "grid_auto_flow": null,
            "grid_auto_rows": null,
            "grid_column": null,
            "grid_gap": null,
            "grid_row": null,
            "grid_template_areas": null,
            "grid_template_columns": null,
            "grid_template_rows": null,
            "height": null,
            "justify_content": null,
            "justify_items": null,
            "left": null,
            "margin": null,
            "max_height": null,
            "max_width": null,
            "min_height": null,
            "min_width": null,
            "object_fit": null,
            "object_position": null,
            "order": null,
            "overflow": null,
            "overflow_x": null,
            "overflow_y": null,
            "padding": null,
            "right": null,
            "top": null,
            "visibility": null,
            "width": null
          }
        },
        "868ca792805641218e3ab6ff95faad84": {
          "model_module": "@jupyter-widgets/controls",
          "model_name": "DescriptionStyleModel",
          "model_module_version": "1.5.0",
          "state": {
            "_model_module": "@jupyter-widgets/controls",
            "_model_module_version": "1.5.0",
            "_model_name": "DescriptionStyleModel",
            "_view_count": null,
            "_view_module": "@jupyter-widgets/base",
            "_view_module_version": "1.2.0",
            "_view_name": "StyleView",
            "description_width": ""
          }
        },
        "38cde6877f8c43cdadf8b5ee1e4c5908": {
          "model_module": "@jupyter-widgets/base",
          "model_name": "LayoutModel",
          "model_module_version": "1.2.0",
          "state": {
            "_model_module": "@jupyter-widgets/base",
            "_model_module_version": "1.2.0",
            "_model_name": "LayoutModel",
            "_view_count": null,
            "_view_module": "@jupyter-widgets/base",
            "_view_module_version": "1.2.0",
            "_view_name": "LayoutView",
            "align_content": null,
            "align_items": null,
            "align_self": null,
            "border": null,
            "bottom": null,
            "display": null,
            "flex": null,
            "flex_flow": null,
            "grid_area": null,
            "grid_auto_columns": null,
            "grid_auto_flow": null,
            "grid_auto_rows": null,
            "grid_column": null,
            "grid_gap": null,
            "grid_row": null,
            "grid_template_areas": null,
            "grid_template_columns": null,
            "grid_template_rows": null,
            "height": null,
            "justify_content": null,
            "justify_items": null,
            "left": null,
            "margin": null,
            "max_height": null,
            "max_width": null,
            "min_height": null,
            "min_width": null,
            "object_fit": null,
            "object_position": null,
            "order": null,
            "overflow": null,
            "overflow_x": null,
            "overflow_y": null,
            "padding": null,
            "right": null,
            "top": null,
            "visibility": null,
            "width": null
          }
        },
        "a63b0e18616b4a75acbba2c4e4a41a34": {
          "model_module": "@jupyter-widgets/controls",
          "model_name": "ProgressStyleModel",
          "model_module_version": "1.5.0",
          "state": {
            "_model_module": "@jupyter-widgets/controls",
            "_model_module_version": "1.5.0",
            "_model_name": "ProgressStyleModel",
            "_view_count": null,
            "_view_module": "@jupyter-widgets/base",
            "_view_module_version": "1.2.0",
            "_view_name": "StyleView",
            "bar_color": null,
            "description_width": ""
          }
        },
        "bc131cc0d4094443abb2461191641e87": {
          "model_module": "@jupyter-widgets/base",
          "model_name": "LayoutModel",
          "model_module_version": "1.2.0",
          "state": {
            "_model_module": "@jupyter-widgets/base",
            "_model_module_version": "1.2.0",
            "_model_name": "LayoutModel",
            "_view_count": null,
            "_view_module": "@jupyter-widgets/base",
            "_view_module_version": "1.2.0",
            "_view_name": "LayoutView",
            "align_content": null,
            "align_items": null,
            "align_self": null,
            "border": null,
            "bottom": null,
            "display": null,
            "flex": null,
            "flex_flow": null,
            "grid_area": null,
            "grid_auto_columns": null,
            "grid_auto_flow": null,
            "grid_auto_rows": null,
            "grid_column": null,
            "grid_gap": null,
            "grid_row": null,
            "grid_template_areas": null,
            "grid_template_columns": null,
            "grid_template_rows": null,
            "height": null,
            "justify_content": null,
            "justify_items": null,
            "left": null,
            "margin": null,
            "max_height": null,
            "max_width": null,
            "min_height": null,
            "min_width": null,
            "object_fit": null,
            "object_position": null,
            "order": null,
            "overflow": null,
            "overflow_x": null,
            "overflow_y": null,
            "padding": null,
            "right": null,
            "top": null,
            "visibility": null,
            "width": null
          }
        },
        "b8fc56a77f9e4981969007dd4276c5ea": {
          "model_module": "@jupyter-widgets/controls",
          "model_name": "DescriptionStyleModel",
          "model_module_version": "1.5.0",
          "state": {
            "_model_module": "@jupyter-widgets/controls",
            "_model_module_version": "1.5.0",
            "_model_name": "DescriptionStyleModel",
            "_view_count": null,
            "_view_module": "@jupyter-widgets/base",
            "_view_module_version": "1.2.0",
            "_view_name": "StyleView",
            "description_width": ""
          }
        }
      }
    }
  },
  "nbformat": 4,
  "nbformat_minor": 0
}